{
 "cells": [
  {
   "cell_type": "markdown",
   "metadata": {},
   "source": [
    "# Приоритизация гипотез для увеличения выручки интернет-магазина и анализ A/B-теста"
   ]
  },
  {
   "cell_type": "markdown",
   "metadata": {},
   "source": [
    "В распоряжении данные интернет-магазина с информацией о заказах, о времени совершения заказа и размере выручки.\\\n",
    "Данные о выдвинутых гипотезах: краткое описание, охват пользователей, влияние на пользователей, оценка уверенности в гипотезе и затраты ресурсов на проверку гипотезы. \\\n",
    "И данные о группах A/B-теста.\n",
    "\n",
    "Задача — приоритизировать гипотезы, запустить A/B-тест и проанализировать результаты.\n",
    "\n",
    "**Описание данных**\\\n",
    "*Первый датасет, в дальнейшем `hypothesis`:*\n",
    "\n",
    "Hypothesis — краткое описание гипотезы;\\\n",
    "Reach — охват пользователей по 10-балльной шкале;\\\n",
    "Impact — влияние на пользователей по 10-балльной шкале;\\\n",
    "Confidence — уверенность в гипотезе по 10-балльной шкале;\\\n",
    "Efforts — затраты ресурсов на проверку гипотезы по 10-балльной шкале. Чем больше значение Efforts, тем дороже проверка гипотезы.\\\n",
    "\n",
    "*Второй датасет с данными по заказам, в дальнешйем `orders_df`:*\n",
    "\n",
    "transactionId — идентификатор заказа;\\\n",
    "visitorId — идентификатор пользователя, совершившего заказ;\\\n",
    "date — дата, когда был совершён заказ;\\\n",
    "revenue — выручка заказа;\\\n",
    "group — группа A/B-теста, в которую попал заказ.\n",
    "\n",
    "\n",
    "*Третий дасат с данными по визитам по группам A/B-теста, в дальнейшем `visitors`:*\n",
    "\n",
    "date — дата;\\\n",
    "group — группа A/B-теста;\\\n",
    "visitors — количество пользователей в указанную дату в указанной группе A/B-теста."
   ]
  },
  {
   "cell_type": "markdown",
   "metadata": {},
   "source": [
    "# Оглавление"
   ]
  },
  {
   "cell_type": "markdown",
   "metadata": {},
   "source": [
    "1. [Предобработка данных](#start)\\\n",
    "   [Выводы по блоку знакомства и предобработки](#conclusion_one)\n",
    "2. [Приоритизация гипотез](#hypothesis)\\\n",
    "   2.1 [Применение фреймворка ICE для приоритизации гипотез](#hypothesis_ICE)\\\n",
    "   2.2 [Применение фреймворка RICE для приоритизации гипотез](#hypothesis_RICE)\\\n",
    "   [Выводы по блоку приоритизация гипотез](#conclusion_hypothesis)\n",
    "3. [Анализ A/B-теста](#A/B_test)\\\n",
    "   3.1 [Подготовка данных](#preparation)\\\n",
    "   3.2 [График кумулятивной выручки по группам](#two)\\\n",
    "   3.3 [График кумулятивного среднего чека по группам](#three)\\\n",
    "   3.4 [График относительного изменения кумулятивного среднего чека группы B к группе A](#four)\\\n",
    "   3.5 [График кумулятивного среднего количества заказов на посетителя по группам](#five)\\\n",
    "   3.6 [График относительного изменения кумулятивного среднего количества заказов на посетителя группы B к группе A](#six)\\\n",
    "   3.7 [График количества заказов по пользователям](#seven)\\\n",
    "   3.8 [Расчет 95-ого и 99-ого перцентилей количества заказов на пользователя](#eight)\\\n",
    "   3.9 [График стоимостей заказов](#nine)\\\n",
    "   3.10 [Расчет 95-ого и 99-ого перцентилей стоимости заказов](#ten)\\\n",
    "   3.11 [Статистическая значимость различий в среднем количестве заказов на посетителя между группами по «сырым» данным](#eleven)\\\n",
    "   3.12 [Статистическая значимость различий в среднем чеке заказа между группами по «сырым» данным](#twelve)\\\n",
    "   3.13 [Статистическая значимость различий в среднем количестве заказов на посетителя между группами по «очищенным» данным](#thirteen)\\\n",
    "   3.14 [Статистическая значимость различий в среднем чеке заказа между группами по «очищенным» данным](#fourteen)\n",
    "4. [Вывод](#conclusion)"
   ]
  },
  {
   "cell_type": "markdown",
   "metadata": {},
   "source": [
    "<a id=\"start\"></a> \n",
    "### Предобработка данных"
   ]
  },
  {
   "cell_type": "code",
   "execution_count": 1,
   "metadata": {},
   "outputs": [],
   "source": [
    "import pandas as pd\n",
    "import scipy.stats as stats\n",
    "import datetime as dt\n",
    "import numpy as np\n",
    "import matplotlib.pyplot as plt\n",
    "from pandas.plotting import register_matplotlib_converters\n",
    "import warnings\n",
    "register_matplotlib_converters()"
   ]
  },
  {
   "cell_type": "code",
   "execution_count": 2,
   "metadata": {},
   "outputs": [
    {
     "data": {
      "text/html": [
       "<div>\n",
       "<style scoped>\n",
       "    .dataframe tbody tr th:only-of-type {\n",
       "        vertical-align: middle;\n",
       "    }\n",
       "\n",
       "    .dataframe tbody tr th {\n",
       "        vertical-align: top;\n",
       "    }\n",
       "\n",
       "    .dataframe thead th {\n",
       "        text-align: right;\n",
       "    }\n",
       "</style>\n",
       "<table border=\"1\" class=\"dataframe\">\n",
       "  <thead>\n",
       "    <tr style=\"text-align: right;\">\n",
       "      <th></th>\n",
       "      <th>Hypothesis</th>\n",
       "      <th>Reach</th>\n",
       "      <th>Impact</th>\n",
       "      <th>Confidence</th>\n",
       "      <th>Efforts</th>\n",
       "    </tr>\n",
       "  </thead>\n",
       "  <tbody>\n",
       "    <tr>\n",
       "      <th>0</th>\n",
       "      <td>Добавить два новых канала привлечения трафика, что позволит привлекать на 30% больше пользователей</td>\n",
       "      <td>3</td>\n",
       "      <td>10</td>\n",
       "      <td>8</td>\n",
       "      <td>6</td>\n",
       "    </tr>\n",
       "    <tr>\n",
       "      <th>1</th>\n",
       "      <td>Запустить собственную службу доставки, что сократит срок доставки заказов</td>\n",
       "      <td>2</td>\n",
       "      <td>5</td>\n",
       "      <td>4</td>\n",
       "      <td>10</td>\n",
       "    </tr>\n",
       "    <tr>\n",
       "      <th>2</th>\n",
       "      <td>Добавить блоки рекомендаций товаров на сайт интернет магазина, чтобы повысить конверсию и средний чек заказа</td>\n",
       "      <td>8</td>\n",
       "      <td>3</td>\n",
       "      <td>7</td>\n",
       "      <td>3</td>\n",
       "    </tr>\n",
       "    <tr>\n",
       "      <th>3</th>\n",
       "      <td>Изменить структура категорий, что увеличит конверсию, т.к. пользователи быстрее найдут нужный товар</td>\n",
       "      <td>8</td>\n",
       "      <td>3</td>\n",
       "      <td>3</td>\n",
       "      <td>8</td>\n",
       "    </tr>\n",
       "    <tr>\n",
       "      <th>4</th>\n",
       "      <td>Изменить цвет фона главной страницы, чтобы увеличить вовлеченность пользователей</td>\n",
       "      <td>3</td>\n",
       "      <td>1</td>\n",
       "      <td>1</td>\n",
       "      <td>1</td>\n",
       "    </tr>\n",
       "    <tr>\n",
       "      <th>5</th>\n",
       "      <td>Добавить страницу отзывов клиентов о магазине, что позволит увеличить количество заказов</td>\n",
       "      <td>3</td>\n",
       "      <td>2</td>\n",
       "      <td>2</td>\n",
       "      <td>3</td>\n",
       "    </tr>\n",
       "    <tr>\n",
       "      <th>6</th>\n",
       "      <td>Показать на главной странице баннеры с актуальными акциями и распродажами, чтобы увеличить конверсию</td>\n",
       "      <td>5</td>\n",
       "      <td>3</td>\n",
       "      <td>8</td>\n",
       "      <td>3</td>\n",
       "    </tr>\n",
       "    <tr>\n",
       "      <th>7</th>\n",
       "      <td>Добавить форму подписки на все основные страницы, чтобы собрать базу клиентов для email-рассылок</td>\n",
       "      <td>10</td>\n",
       "      <td>7</td>\n",
       "      <td>8</td>\n",
       "      <td>5</td>\n",
       "    </tr>\n",
       "    <tr>\n",
       "      <th>8</th>\n",
       "      <td>Запустить акцию, дающую скидку на товар в день рождения</td>\n",
       "      <td>1</td>\n",
       "      <td>9</td>\n",
       "      <td>9</td>\n",
       "      <td>5</td>\n",
       "    </tr>\n",
       "  </tbody>\n",
       "</table>\n",
       "</div>"
      ],
      "text/plain": [
       "                                                                                                     Hypothesis  \\\n",
       "0            Добавить два новых канала привлечения трафика, что позволит привлекать на 30% больше пользователей   \n",
       "1                                     Запустить собственную службу доставки, что сократит срок доставки заказов   \n",
       "2  Добавить блоки рекомендаций товаров на сайт интернет магазина, чтобы повысить конверсию и средний чек заказа   \n",
       "3           Изменить структура категорий, что увеличит конверсию, т.к. пользователи быстрее найдут нужный товар   \n",
       "4                              Изменить цвет фона главной страницы, чтобы увеличить вовлеченность пользователей   \n",
       "5                      Добавить страницу отзывов клиентов о магазине, что позволит увеличить количество заказов   \n",
       "6          Показать на главной странице баннеры с актуальными акциями и распродажами, чтобы увеличить конверсию   \n",
       "7              Добавить форму подписки на все основные страницы, чтобы собрать базу клиентов для email-рассылок   \n",
       "8                                                       Запустить акцию, дающую скидку на товар в день рождения   \n",
       "\n",
       "   Reach  Impact  Confidence  Efforts  \n",
       "0      3      10           8        6  \n",
       "1      2       5           4       10  \n",
       "2      8       3           7        3  \n",
       "3      8       3           3        8  \n",
       "4      3       1           1        1  \n",
       "5      3       2           2        3  \n",
       "6      5       3           8        3  \n",
       "7     10       7           8        5  \n",
       "8      1       9           9        5  "
      ]
     },
     "execution_count": 2,
     "metadata": {},
     "output_type": "execute_result"
    }
   ],
   "source": [
    "hypothesis = pd.read_csv('/datasets/hypothesis.csv')\n",
    "pd.set_option('max_colwidth', 120)\n",
    "hypothesis"
   ]
  },
  {
   "cell_type": "code",
   "execution_count": 3,
   "metadata": {},
   "outputs": [],
   "source": [
    "hypothesis.columns = hypothesis.columns.str.lower()"
   ]
  },
  {
   "cell_type": "code",
   "execution_count": 4,
   "metadata": {},
   "outputs": [
    {
     "name": "stdout",
     "output_type": "stream",
     "text": [
      "<class 'pandas.core.frame.DataFrame'>\n",
      "RangeIndex: 9 entries, 0 to 8\n",
      "Data columns (total 5 columns):\n",
      " #   Column      Non-Null Count  Dtype \n",
      "---  ------      --------------  ----- \n",
      " 0   hypothesis  9 non-null      object\n",
      " 1   reach       9 non-null      int64 \n",
      " 2   impact      9 non-null      int64 \n",
      " 3   confidence  9 non-null      int64 \n",
      " 4   efforts     9 non-null      int64 \n",
      "dtypes: int64(4), object(1)\n",
      "memory usage: 488.0+ bytes\n"
     ]
    }
   ],
   "source": [
    "hypothesis.info()"
   ]
  },
  {
   "cell_type": "code",
   "execution_count": 5,
   "metadata": {},
   "outputs": [],
   "source": [
    "orders_df = pd.read_csv('/datasets/orders.csv')"
   ]
  },
  {
   "cell_type": "code",
   "execution_count": 6,
   "metadata": {},
   "outputs": [
    {
     "data": {
      "text/html": [
       "<div>\n",
       "<style scoped>\n",
       "    .dataframe tbody tr th:only-of-type {\n",
       "        vertical-align: middle;\n",
       "    }\n",
       "\n",
       "    .dataframe tbody tr th {\n",
       "        vertical-align: top;\n",
       "    }\n",
       "\n",
       "    .dataframe thead th {\n",
       "        text-align: right;\n",
       "    }\n",
       "</style>\n",
       "<table border=\"1\" class=\"dataframe\">\n",
       "  <thead>\n",
       "    <tr style=\"text-align: right;\">\n",
       "      <th></th>\n",
       "      <th>transactionId</th>\n",
       "      <th>visitorId</th>\n",
       "      <th>date</th>\n",
       "      <th>revenue</th>\n",
       "      <th>group</th>\n",
       "    </tr>\n",
       "  </thead>\n",
       "  <tbody>\n",
       "    <tr>\n",
       "      <th>0</th>\n",
       "      <td>3667963787</td>\n",
       "      <td>3312258926</td>\n",
       "      <td>2019-08-15</td>\n",
       "      <td>1650</td>\n",
       "      <td>B</td>\n",
       "    </tr>\n",
       "    <tr>\n",
       "      <th>1</th>\n",
       "      <td>2804400009</td>\n",
       "      <td>3642806036</td>\n",
       "      <td>2019-08-15</td>\n",
       "      <td>730</td>\n",
       "      <td>B</td>\n",
       "    </tr>\n",
       "    <tr>\n",
       "      <th>2</th>\n",
       "      <td>2961555356</td>\n",
       "      <td>4069496402</td>\n",
       "      <td>2019-08-15</td>\n",
       "      <td>400</td>\n",
       "      <td>A</td>\n",
       "    </tr>\n",
       "    <tr>\n",
       "      <th>3</th>\n",
       "      <td>3797467345</td>\n",
       "      <td>1196621759</td>\n",
       "      <td>2019-08-15</td>\n",
       "      <td>9759</td>\n",
       "      <td>B</td>\n",
       "    </tr>\n",
       "    <tr>\n",
       "      <th>4</th>\n",
       "      <td>2282983706</td>\n",
       "      <td>2322279887</td>\n",
       "      <td>2019-08-15</td>\n",
       "      <td>2308</td>\n",
       "      <td>B</td>\n",
       "    </tr>\n",
       "  </tbody>\n",
       "</table>\n",
       "</div>"
      ],
      "text/plain": [
       "   transactionId   visitorId        date  revenue group\n",
       "0     3667963787  3312258926  2019-08-15     1650     B\n",
       "1     2804400009  3642806036  2019-08-15      730     B\n",
       "2     2961555356  4069496402  2019-08-15      400     A\n",
       "3     3797467345  1196621759  2019-08-15     9759     B\n",
       "4     2282983706  2322279887  2019-08-15     2308     B"
      ]
     },
     "execution_count": 6,
     "metadata": {},
     "output_type": "execute_result"
    }
   ],
   "source": [
    "orders_df.head()"
   ]
  },
  {
   "cell_type": "code",
   "execution_count": 7,
   "metadata": {},
   "outputs": [],
   "source": [
    "orders_df.columns = orders_df.columns.str.lower()"
   ]
  },
  {
   "cell_type": "code",
   "execution_count": 8,
   "metadata": {},
   "outputs": [
    {
     "name": "stdout",
     "output_type": "stream",
     "text": [
      "<class 'pandas.core.frame.DataFrame'>\n",
      "RangeIndex: 1197 entries, 0 to 1196\n",
      "Data columns (total 5 columns):\n",
      " #   Column         Non-Null Count  Dtype \n",
      "---  ------         --------------  ----- \n",
      " 0   transactionid  1197 non-null   int64 \n",
      " 1   visitorid      1197 non-null   int64 \n",
      " 2   date           1197 non-null   object\n",
      " 3   revenue        1197 non-null   int64 \n",
      " 4   group          1197 non-null   object\n",
      "dtypes: int64(3), object(2)\n",
      "memory usage: 46.9+ KB\n"
     ]
    }
   ],
   "source": [
    "orders_df.info()"
   ]
  },
  {
   "cell_type": "code",
   "execution_count": 9,
   "metadata": {},
   "outputs": [],
   "source": [
    "orders_df['date'] = orders_df['date'].map(lambda x: dt.datetime.strptime(str(x), '%Y-%m-%d'))"
   ]
  },
  {
   "cell_type": "markdown",
   "metadata": {},
   "source": [
    "Проверим на дубликаты:"
   ]
  },
  {
   "cell_type": "code",
   "execution_count": 10,
   "metadata": {},
   "outputs": [
    {
     "data": {
      "text/plain": [
       "0"
      ]
     },
     "execution_count": 10,
     "metadata": {},
     "output_type": "execute_result"
    }
   ],
   "source": [
    "orders_df.duplicated().sum()"
   ]
  },
  {
   "cell_type": "code",
   "execution_count": 11,
   "metadata": {},
   "outputs": [
    {
     "data": {
      "text/html": [
       "<div>\n",
       "<style scoped>\n",
       "    .dataframe tbody tr th:only-of-type {\n",
       "        vertical-align: middle;\n",
       "    }\n",
       "\n",
       "    .dataframe tbody tr th {\n",
       "        vertical-align: top;\n",
       "    }\n",
       "\n",
       "    .dataframe thead th {\n",
       "        text-align: right;\n",
       "    }\n",
       "</style>\n",
       "<table border=\"1\" class=\"dataframe\">\n",
       "  <thead>\n",
       "    <tr style=\"text-align: right;\">\n",
       "      <th></th>\n",
       "      <th>transactionid</th>\n",
       "      <th>visitorid</th>\n",
       "      <th>date</th>\n",
       "      <th>revenue</th>\n",
       "      <th>group</th>\n",
       "    </tr>\n",
       "  </thead>\n",
       "  <tbody>\n",
       "  </tbody>\n",
       "</table>\n",
       "</div>"
      ],
      "text/plain": [
       "Empty DataFrame\n",
       "Columns: [transactionid, visitorid, date, revenue, group]\n",
       "Index: []"
      ]
     },
     "execution_count": 11,
     "metadata": {},
     "output_type": "execute_result"
    }
   ],
   "source": [
    "orders_df[orders_df[['transactionid', 'visitorid']].duplicated(keep=False)]"
   ]
  },
  {
   "cell_type": "markdown",
   "metadata": {},
   "source": [
    "Проверим не попали ли какие-то пользователи в обе группы:"
   ]
  },
  {
   "cell_type": "code",
   "execution_count": 12,
   "metadata": {},
   "outputs": [],
   "source": [
    "goroup_A_orders = orders_df[orders_df['group'] == 'A']\n",
    "goroup_B_orders = orders_df[orders_df['group'] == 'B']"
   ]
  },
  {
   "cell_type": "code",
   "execution_count": 13,
   "metadata": {},
   "outputs": [],
   "source": [
    "visitorid_A = set(goroup_A_orders['visitorid'].unique())\n",
    "visitorid_B = set(goroup_B_orders['visitorid'].unique())"
   ]
  },
  {
   "cell_type": "code",
   "execution_count": 14,
   "metadata": {},
   "outputs": [
    {
     "data": {
      "text/plain": [
       "58"
      ]
     },
     "execution_count": 14,
     "metadata": {},
     "output_type": "execute_result"
    }
   ],
   "source": [
    "visitorid_A_and_B = (visitorid_A & visitorid_B)\n",
    "len(visitorid_A_and_B)"
   ]
  },
  {
   "cell_type": "code",
   "execution_count": 15,
   "metadata": {},
   "outputs": [
    {
     "data": {
      "text/html": [
       "<div>\n",
       "<style scoped>\n",
       "    .dataframe tbody tr th:only-of-type {\n",
       "        vertical-align: middle;\n",
       "    }\n",
       "\n",
       "    .dataframe tbody tr th {\n",
       "        vertical-align: top;\n",
       "    }\n",
       "\n",
       "    .dataframe thead th {\n",
       "        text-align: right;\n",
       "    }\n",
       "</style>\n",
       "<table border=\"1\" class=\"dataframe\">\n",
       "  <thead>\n",
       "    <tr style=\"text-align: right;\">\n",
       "      <th></th>\n",
       "      <th>transactionid</th>\n",
       "      <th>visitorid</th>\n",
       "      <th>date</th>\n",
       "      <th>revenue</th>\n",
       "      <th>group</th>\n",
       "    </tr>\n",
       "  </thead>\n",
       "  <tbody>\n",
       "    <tr>\n",
       "      <th>0</th>\n",
       "      <td>3667963787</td>\n",
       "      <td>3312258926</td>\n",
       "      <td>2019-08-15</td>\n",
       "      <td>1650</td>\n",
       "      <td>B</td>\n",
       "    </tr>\n",
       "    <tr>\n",
       "      <th>1</th>\n",
       "      <td>2804400009</td>\n",
       "      <td>3642806036</td>\n",
       "      <td>2019-08-15</td>\n",
       "      <td>730</td>\n",
       "      <td>B</td>\n",
       "    </tr>\n",
       "    <tr>\n",
       "      <th>3</th>\n",
       "      <td>3797467345</td>\n",
       "      <td>1196621759</td>\n",
       "      <td>2019-08-15</td>\n",
       "      <td>9759</td>\n",
       "      <td>B</td>\n",
       "    </tr>\n",
       "    <tr>\n",
       "      <th>4</th>\n",
       "      <td>2282983706</td>\n",
       "      <td>2322279887</td>\n",
       "      <td>2019-08-15</td>\n",
       "      <td>2308</td>\n",
       "      <td>B</td>\n",
       "    </tr>\n",
       "    <tr>\n",
       "      <th>5</th>\n",
       "      <td>182168103</td>\n",
       "      <td>935554773</td>\n",
       "      <td>2019-08-15</td>\n",
       "      <td>2210</td>\n",
       "      <td>B</td>\n",
       "    </tr>\n",
       "    <tr>\n",
       "      <th>...</th>\n",
       "      <td>...</td>\n",
       "      <td>...</td>\n",
       "      <td>...</td>\n",
       "      <td>...</td>\n",
       "      <td>...</td>\n",
       "    </tr>\n",
       "    <tr>\n",
       "      <th>1191</th>\n",
       "      <td>3592955527</td>\n",
       "      <td>608641596</td>\n",
       "      <td>2019-08-14</td>\n",
       "      <td>16490</td>\n",
       "      <td>B</td>\n",
       "    </tr>\n",
       "    <tr>\n",
       "      <th>1192</th>\n",
       "      <td>2662137336</td>\n",
       "      <td>3733762160</td>\n",
       "      <td>2019-08-14</td>\n",
       "      <td>6490</td>\n",
       "      <td>B</td>\n",
       "    </tr>\n",
       "    <tr>\n",
       "      <th>1193</th>\n",
       "      <td>2203539145</td>\n",
       "      <td>370388673</td>\n",
       "      <td>2019-08-14</td>\n",
       "      <td>3190</td>\n",
       "      <td>A</td>\n",
       "    </tr>\n",
       "    <tr>\n",
       "      <th>1194</th>\n",
       "      <td>1807773912</td>\n",
       "      <td>573423106</td>\n",
       "      <td>2019-08-14</td>\n",
       "      <td>10550</td>\n",
       "      <td>A</td>\n",
       "    </tr>\n",
       "    <tr>\n",
       "      <th>1196</th>\n",
       "      <td>3936777065</td>\n",
       "      <td>2108080724</td>\n",
       "      <td>2019-08-15</td>\n",
       "      <td>202740</td>\n",
       "      <td>B</td>\n",
       "    </tr>\n",
       "  </tbody>\n",
       "</table>\n",
       "<p>1016 rows × 5 columns</p>\n",
       "</div>"
      ],
      "text/plain": [
       "      transactionid   visitorid       date  revenue group\n",
       "0        3667963787  3312258926 2019-08-15     1650     B\n",
       "1        2804400009  3642806036 2019-08-15      730     B\n",
       "3        3797467345  1196621759 2019-08-15     9759     B\n",
       "4        2282983706  2322279887 2019-08-15     2308     B\n",
       "5         182168103   935554773 2019-08-15     2210     B\n",
       "...             ...         ...        ...      ...   ...\n",
       "1191     3592955527   608641596 2019-08-14    16490     B\n",
       "1192     2662137336  3733762160 2019-08-14     6490     B\n",
       "1193     2203539145   370388673 2019-08-14     3190     A\n",
       "1194     1807773912   573423106 2019-08-14    10550     A\n",
       "1196     3936777065  2108080724 2019-08-15   202740     B\n",
       "\n",
       "[1016 rows x 5 columns]"
      ]
     },
     "execution_count": 15,
     "metadata": {},
     "output_type": "execute_result"
    }
   ],
   "source": [
    "orders = orders_df[np.logical_not(orders_df['visitorid'].isin(visitorid_A_and_B))]\n",
    "orders"
   ]
  },
  {
   "cell_type": "code",
   "execution_count": 16,
   "metadata": {},
   "outputs": [],
   "source": [
    "visitors = pd.read_csv('/datasets/visitors.csv')"
   ]
  },
  {
   "cell_type": "code",
   "execution_count": 17,
   "metadata": {},
   "outputs": [
    {
     "data": {
      "text/html": [
       "<div>\n",
       "<style scoped>\n",
       "    .dataframe tbody tr th:only-of-type {\n",
       "        vertical-align: middle;\n",
       "    }\n",
       "\n",
       "    .dataframe tbody tr th {\n",
       "        vertical-align: top;\n",
       "    }\n",
       "\n",
       "    .dataframe thead th {\n",
       "        text-align: right;\n",
       "    }\n",
       "</style>\n",
       "<table border=\"1\" class=\"dataframe\">\n",
       "  <thead>\n",
       "    <tr style=\"text-align: right;\">\n",
       "      <th></th>\n",
       "      <th>date</th>\n",
       "      <th>group</th>\n",
       "      <th>visitors</th>\n",
       "    </tr>\n",
       "  </thead>\n",
       "  <tbody>\n",
       "    <tr>\n",
       "      <th>0</th>\n",
       "      <td>2019-08-01</td>\n",
       "      <td>A</td>\n",
       "      <td>719</td>\n",
       "    </tr>\n",
       "    <tr>\n",
       "      <th>1</th>\n",
       "      <td>2019-08-02</td>\n",
       "      <td>A</td>\n",
       "      <td>619</td>\n",
       "    </tr>\n",
       "    <tr>\n",
       "      <th>2</th>\n",
       "      <td>2019-08-03</td>\n",
       "      <td>A</td>\n",
       "      <td>507</td>\n",
       "    </tr>\n",
       "    <tr>\n",
       "      <th>3</th>\n",
       "      <td>2019-08-04</td>\n",
       "      <td>A</td>\n",
       "      <td>717</td>\n",
       "    </tr>\n",
       "    <tr>\n",
       "      <th>4</th>\n",
       "      <td>2019-08-05</td>\n",
       "      <td>A</td>\n",
       "      <td>756</td>\n",
       "    </tr>\n",
       "    <tr>\n",
       "      <th>...</th>\n",
       "      <td>...</td>\n",
       "      <td>...</td>\n",
       "      <td>...</td>\n",
       "    </tr>\n",
       "    <tr>\n",
       "      <th>57</th>\n",
       "      <td>2019-08-27</td>\n",
       "      <td>B</td>\n",
       "      <td>720</td>\n",
       "    </tr>\n",
       "    <tr>\n",
       "      <th>58</th>\n",
       "      <td>2019-08-28</td>\n",
       "      <td>B</td>\n",
       "      <td>654</td>\n",
       "    </tr>\n",
       "    <tr>\n",
       "      <th>59</th>\n",
       "      <td>2019-08-29</td>\n",
       "      <td>B</td>\n",
       "      <td>531</td>\n",
       "    </tr>\n",
       "    <tr>\n",
       "      <th>60</th>\n",
       "      <td>2019-08-30</td>\n",
       "      <td>B</td>\n",
       "      <td>490</td>\n",
       "    </tr>\n",
       "    <tr>\n",
       "      <th>61</th>\n",
       "      <td>2019-08-31</td>\n",
       "      <td>B</td>\n",
       "      <td>718</td>\n",
       "    </tr>\n",
       "  </tbody>\n",
       "</table>\n",
       "<p>62 rows × 3 columns</p>\n",
       "</div>"
      ],
      "text/plain": [
       "          date group  visitors\n",
       "0   2019-08-01     A       719\n",
       "1   2019-08-02     A       619\n",
       "2   2019-08-03     A       507\n",
       "3   2019-08-04     A       717\n",
       "4   2019-08-05     A       756\n",
       "..         ...   ...       ...\n",
       "57  2019-08-27     B       720\n",
       "58  2019-08-28     B       654\n",
       "59  2019-08-29     B       531\n",
       "60  2019-08-30     B       490\n",
       "61  2019-08-31     B       718\n",
       "\n",
       "[62 rows x 3 columns]"
      ]
     },
     "execution_count": 17,
     "metadata": {},
     "output_type": "execute_result"
    }
   ],
   "source": [
    "visitors"
   ]
  },
  {
   "cell_type": "code",
   "execution_count": 18,
   "metadata": {},
   "outputs": [
    {
     "name": "stdout",
     "output_type": "stream",
     "text": [
      "<class 'pandas.core.frame.DataFrame'>\n",
      "RangeIndex: 62 entries, 0 to 61\n",
      "Data columns (total 3 columns):\n",
      " #   Column    Non-Null Count  Dtype \n",
      "---  ------    --------------  ----- \n",
      " 0   date      62 non-null     object\n",
      " 1   group     62 non-null     object\n",
      " 2   visitors  62 non-null     int64 \n",
      "dtypes: int64(1), object(2)\n",
      "memory usage: 1.6+ KB\n"
     ]
    }
   ],
   "source": [
    "visitors.info()"
   ]
  },
  {
   "cell_type": "code",
   "execution_count": 19,
   "metadata": {},
   "outputs": [],
   "source": [
    "visitors['date'] = visitors['date'].map(lambda x: dt.datetime.strptime(str(x), '%Y-%m-%d'))"
   ]
  },
  {
   "cell_type": "markdown",
   "metadata": {},
   "source": [
    "Проверим на дубликаты:"
   ]
  },
  {
   "cell_type": "code",
   "execution_count": 20,
   "metadata": {},
   "outputs": [
    {
     "data": {
      "text/plain": [
       "0"
      ]
     },
     "execution_count": 20,
     "metadata": {},
     "output_type": "execute_result"
    }
   ],
   "source": [
    "visitors.duplicated().sum()"
   ]
  },
  {
   "cell_type": "markdown",
   "metadata": {},
   "source": [
    "Проверим относительное различие количества пользователей по группам."
   ]
  },
  {
   "cell_type": "code",
   "execution_count": 21,
   "metadata": {},
   "outputs": [
    {
     "name": "stdout",
     "output_type": "stream",
     "text": [
      "18736\n",
      "18916\n"
     ]
    }
   ],
   "source": [
    "goroup_A = visitors[visitors['group'] == 'A']\n",
    "goroup_B = visitors[visitors['group'] == 'B']\n",
    "print(goroup_A['visitors'].sum())\n",
    "print(goroup_B['visitors'].sum())"
   ]
  },
  {
   "cell_type": "code",
   "execution_count": 22,
   "metadata": {},
   "outputs": [
    {
     "data": {
      "text/plain": [
       "0.009515753859166809"
      ]
     },
     "execution_count": 22,
     "metadata": {},
     "output_type": "execute_result"
    }
   ],
   "source": [
    "1-goroup_A['visitors'].sum()/goroup_B['visitors'].sum()"
   ]
  },
  {
   "cell_type": "markdown",
   "metadata": {},
   "source": [
    "- Относительное различие количества пользователей по группам составляет меньше 1%."
   ]
  },
  {
   "cell_type": "markdown",
   "metadata": {},
   "source": [
    "<a id=\"conclusion_one\"></a> \n",
    "**Вывод**\\\n",
    "Данные по трем датасетам выгружены корректны. Пропусков в данных нет. Тип данных по столбцам с датами измнен на соответствующий."
   ]
  },
  {
   "cell_type": "markdown",
   "metadata": {},
   "source": [
    "<a id=\"hypothesis\"></a> \n",
    "### Приоритизация гипотез"
   ]
  },
  {
   "cell_type": "code",
   "execution_count": 23,
   "metadata": {},
   "outputs": [
    {
     "data": {
      "text/html": [
       "<div>\n",
       "<style scoped>\n",
       "    .dataframe tbody tr th:only-of-type {\n",
       "        vertical-align: middle;\n",
       "    }\n",
       "\n",
       "    .dataframe tbody tr th {\n",
       "        vertical-align: top;\n",
       "    }\n",
       "\n",
       "    .dataframe thead th {\n",
       "        text-align: right;\n",
       "    }\n",
       "</style>\n",
       "<table border=\"1\" class=\"dataframe\">\n",
       "  <thead>\n",
       "    <tr style=\"text-align: right;\">\n",
       "      <th></th>\n",
       "      <th>hypothesis</th>\n",
       "      <th>reach</th>\n",
       "      <th>impact</th>\n",
       "      <th>confidence</th>\n",
       "      <th>efforts</th>\n",
       "    </tr>\n",
       "  </thead>\n",
       "  <tbody>\n",
       "    <tr>\n",
       "      <th>0</th>\n",
       "      <td>Добавить два новых канала привлечения трафика, что позволит привлекать на 30% больше пользователей</td>\n",
       "      <td>3</td>\n",
       "      <td>10</td>\n",
       "      <td>8</td>\n",
       "      <td>6</td>\n",
       "    </tr>\n",
       "    <tr>\n",
       "      <th>1</th>\n",
       "      <td>Запустить собственную службу доставки, что сократит срок доставки заказов</td>\n",
       "      <td>2</td>\n",
       "      <td>5</td>\n",
       "      <td>4</td>\n",
       "      <td>10</td>\n",
       "    </tr>\n",
       "    <tr>\n",
       "      <th>2</th>\n",
       "      <td>Добавить блоки рекомендаций товаров на сайт интернет магазина, чтобы повысить конверсию и средний чек заказа</td>\n",
       "      <td>8</td>\n",
       "      <td>3</td>\n",
       "      <td>7</td>\n",
       "      <td>3</td>\n",
       "    </tr>\n",
       "    <tr>\n",
       "      <th>3</th>\n",
       "      <td>Изменить структура категорий, что увеличит конверсию, т.к. пользователи быстрее найдут нужный товар</td>\n",
       "      <td>8</td>\n",
       "      <td>3</td>\n",
       "      <td>3</td>\n",
       "      <td>8</td>\n",
       "    </tr>\n",
       "    <tr>\n",
       "      <th>4</th>\n",
       "      <td>Изменить цвет фона главной страницы, чтобы увеличить вовлеченность пользователей</td>\n",
       "      <td>3</td>\n",
       "      <td>1</td>\n",
       "      <td>1</td>\n",
       "      <td>1</td>\n",
       "    </tr>\n",
       "    <tr>\n",
       "      <th>5</th>\n",
       "      <td>Добавить страницу отзывов клиентов о магазине, что позволит увеличить количество заказов</td>\n",
       "      <td>3</td>\n",
       "      <td>2</td>\n",
       "      <td>2</td>\n",
       "      <td>3</td>\n",
       "    </tr>\n",
       "    <tr>\n",
       "      <th>6</th>\n",
       "      <td>Показать на главной странице баннеры с актуальными акциями и распродажами, чтобы увеличить конверсию</td>\n",
       "      <td>5</td>\n",
       "      <td>3</td>\n",
       "      <td>8</td>\n",
       "      <td>3</td>\n",
       "    </tr>\n",
       "    <tr>\n",
       "      <th>7</th>\n",
       "      <td>Добавить форму подписки на все основные страницы, чтобы собрать базу клиентов для email-рассылок</td>\n",
       "      <td>10</td>\n",
       "      <td>7</td>\n",
       "      <td>8</td>\n",
       "      <td>5</td>\n",
       "    </tr>\n",
       "    <tr>\n",
       "      <th>8</th>\n",
       "      <td>Запустить акцию, дающую скидку на товар в день рождения</td>\n",
       "      <td>1</td>\n",
       "      <td>9</td>\n",
       "      <td>9</td>\n",
       "      <td>5</td>\n",
       "    </tr>\n",
       "  </tbody>\n",
       "</table>\n",
       "</div>"
      ],
      "text/plain": [
       "                                                                                                     hypothesis  \\\n",
       "0            Добавить два новых канала привлечения трафика, что позволит привлекать на 30% больше пользователей   \n",
       "1                                     Запустить собственную службу доставки, что сократит срок доставки заказов   \n",
       "2  Добавить блоки рекомендаций товаров на сайт интернет магазина, чтобы повысить конверсию и средний чек заказа   \n",
       "3           Изменить структура категорий, что увеличит конверсию, т.к. пользователи быстрее найдут нужный товар   \n",
       "4                              Изменить цвет фона главной страницы, чтобы увеличить вовлеченность пользователей   \n",
       "5                      Добавить страницу отзывов клиентов о магазине, что позволит увеличить количество заказов   \n",
       "6          Показать на главной странице баннеры с актуальными акциями и распродажами, чтобы увеличить конверсию   \n",
       "7              Добавить форму подписки на все основные страницы, чтобы собрать базу клиентов для email-рассылок   \n",
       "8                                                       Запустить акцию, дающую скидку на товар в день рождения   \n",
       "\n",
       "   reach  impact  confidence  efforts  \n",
       "0      3      10           8        6  \n",
       "1      2       5           4       10  \n",
       "2      8       3           7        3  \n",
       "3      8       3           3        8  \n",
       "4      3       1           1        1  \n",
       "5      3       2           2        3  \n",
       "6      5       3           8        3  \n",
       "7     10       7           8        5  \n",
       "8      1       9           9        5  "
      ]
     },
     "execution_count": 23,
     "metadata": {},
     "output_type": "execute_result"
    }
   ],
   "source": [
    "hypothesis"
   ]
  },
  {
   "cell_type": "markdown",
   "metadata": {},
   "source": [
    "<a id=\"hypothesis_ICE\"></a> \n",
    "#### Применение фреймворка ICE для приоритизации гипотез"
   ]
  },
  {
   "cell_type": "code",
   "execution_count": 24,
   "metadata": {},
   "outputs": [
    {
     "name": "stdout",
     "output_type": "stream",
     "text": [
      "                                          hypothesis    ICE\n",
      "8  Запустить акцию, дающую скидку на товар в день...  16.20\n",
      "0  Добавить два новых канала привлечения трафика,...  13.33\n",
      "7  Добавить форму подписки на все основные страни...  11.20\n",
      "6  Показать на главной странице баннеры с актуаль...   8.00\n",
      "2  Добавить блоки рекомендаций товаров на сайт ин...   7.00\n",
      "1  Запустить собственную службу доставки, что сок...   2.00\n",
      "5  Добавить страницу отзывов клиентов о магазине,...   1.33\n",
      "3  Изменить структура категорий, что увеличит кон...   1.12\n",
      "4  Изменить цвет фона главной страницы, чтобы уве...   1.00\n"
     ]
    }
   ],
   "source": [
    "pd.set_option('max_colwidth', 50)\n",
    "hypothesis['ICE'] = round((hypothesis['impact']*hypothesis['confidence'])/hypothesis['efforts'], 2)\n",
    "print(hypothesis[['hypothesis', 'ICE']].sort_values(by='ICE', ascending=False)) "
   ]
  },
  {
   "cell_type": "markdown",
   "metadata": {},
   "source": [
    "- Наиболее перспективные гипотезы по ICE под номерами: 8, 0, 7."
   ]
  },
  {
   "cell_type": "markdown",
   "metadata": {},
   "source": [
    "<a id=\"hypothesis_RICE\"></a> \n",
    "#### Применение фреймворка RICE для приоритизации гипотез"
   ]
  },
  {
   "cell_type": "code",
   "execution_count": 25,
   "metadata": {},
   "outputs": [
    {
     "name": "stdout",
     "output_type": "stream",
     "text": [
      "                                          hypothesis   RICE\n",
      "7  Добавить форму подписки на все основные страни...  112.0\n",
      "2  Добавить блоки рекомендаций товаров на сайт ин...   56.0\n",
      "0  Добавить два новых канала привлечения трафика,...   40.0\n",
      "6  Показать на главной странице баннеры с актуаль...   40.0\n",
      "8  Запустить акцию, дающую скидку на товар в день...   16.2\n",
      "3  Изменить структура категорий, что увеличит кон...    9.0\n",
      "1  Запустить собственную службу доставки, что сок...    4.0\n",
      "5  Добавить страницу отзывов клиентов о магазине,...    4.0\n",
      "4  Изменить цвет фона главной страницы, чтобы уве...    3.0\n"
     ]
    }
   ],
   "source": [
    "hypothesis['RICE'] = (hypothesis['reach']*hypothesis['impact']*hypothesis['confidence'])/hypothesis['efforts'] \n",
    "print(hypothesis[['hypothesis', 'RICE']].sort_values(by='RICE', ascending=False))"
   ]
  },
  {
   "cell_type": "markdown",
   "metadata": {},
   "source": [
    "- Наиболее перспективная гипотеза по RICE под номером 7, так же: 2, 0, 6."
   ]
  },
  {
   "cell_type": "markdown",
   "metadata": {},
   "source": [
    "<a id=\"conclusion_hypothesis\"></a> \n",
    "**Вывод**\\\n",
    "Показатель ICE рассчитываетс по трем компонентам: Impact — насколько сильно изменение повлияет на охваченных пользователей, Confidence — насколько уверены, что это изменение повлияет на пользователей именно так и компонент Efforts — сколько стоит протестировать эту гипотезу.\\\n",
    "Показатель RICE отличается от ICE тем, что в расчет RICE входит еще компонент Reach - количество потенциальных пользователей, которых затронит изменение.\\\n",
    "По ICE самые перспективные гипотезы вышли под номерами: 8, 0, 7.\\\n",
    "При расчете с Reach, а именно по RICE самая перспективная вышла гипотеза под номером 7, так как у нее парметр Reach (охват пользователей) равен оценке 10 и он выше, чем у остальных гипотез. Гипотеза под номером 8 по значению ICE выше остальных, а по RICE на 5-ом месте, так же из-за ее параметра Reach - он у нее самый низкий из всех и равен 1. Охват важен. по 8-ой гипотезе предполагается наименьшее количество потенциальных пользователей. В приоритете гипотеза 7 и 0.\\\n",
    "Первой рекомендую протестировать гипотезу 7 - \"Добавить форму подписки на все основные страницы, чтобы собрать базу клиентов для email-рассылок\". По данной гипотезе наивысшая оценка потенциального охвата пользователей, выше среднего оценки влияния на охваченнх пользоваталей, и уверенности, что измненеие повлияет, при этом оценка затрат составляет среднюю отметку 5.\n",
    "\n",
    "\n"
   ]
  },
  {
   "cell_type": "markdown",
   "metadata": {},
   "source": [
    "<a id=\"A/B_test\"></a> \n",
    "### Анализ A/B-теста"
   ]
  },
  {
   "cell_type": "markdown",
   "metadata": {},
   "source": [
    "<a id=\"preparation\"></a> \n",
    "#### Подготовка данных"
   ]
  },
  {
   "cell_type": "code",
   "execution_count": 26,
   "metadata": {},
   "outputs": [],
   "source": [
    "order_groups = orders[['date', 'group']].drop_duplicates()"
   ]
  },
  {
   "cell_type": "code",
   "execution_count": 27,
   "metadata": {},
   "outputs": [],
   "source": [
    "orders_aggregated = order_groups.apply(\n",
    "    lambda x: orders[\n",
    "        np.logical_and(\n",
    "            orders['date'] <= x['date'], orders['group'] == x['group']\n",
    "        )\n",
    "    ].agg({'date': 'max', 'group': 'max', 'transactionid': 'nunique', 'visitorid': 'nunique', 'revenue': 'sum',}),\n",
    "    axis=1,\n",
    ").sort_values(by=['date', 'group'])"
   ]
  },
  {
   "cell_type": "code",
   "execution_count": 28,
   "metadata": {},
   "outputs": [],
   "source": [
    "visitors_aggregated = order_groups.apply(\n",
    "    lambda x: visitors[\n",
    "        np.logical_and(\n",
    "            visitors['date'] <= x['date'], visitors['group'] == x['group']\n",
    "        )\n",
    "    ].agg({'date': 'max', 'group': 'max', 'visitors': 'sum'}),\n",
    "    axis=1,\n",
    ").sort_values(by=['date', 'group'])"
   ]
  },
  {
   "cell_type": "code",
   "execution_count": 29,
   "metadata": {},
   "outputs": [],
   "source": [
    "cumulative = orders_aggregated.merge(\n",
    "    visitors_aggregated, left_on=['date', 'group'], right_on=['date', 'group']\n",
    ")\n",
    "cumulative.columns = ['date', 'group', 'orders', 'buyers', 'revenue', 'visitors']\n",
    "\n",
    "cumulative['conversion'] = cumulative['orders']/cumulative['visitors']"
   ]
  },
  {
   "cell_type": "code",
   "execution_count": 30,
   "metadata": {},
   "outputs": [
    {
     "name": "stdout",
     "output_type": "stream",
     "text": [
      "True\n",
      "True\n"
     ]
    }
   ],
   "source": [
    "print(cumulative['date'].max() == orders['date'].max())\n",
    "print(cumulative['date'].max() == visitors['date'].max())"
   ]
  },
  {
   "cell_type": "code",
   "execution_count": 31,
   "metadata": {},
   "outputs": [
    {
     "name": "stdout",
     "output_type": "stream",
     "text": [
      "True\n",
      "True\n"
     ]
    }
   ],
   "source": [
    "print(cumulative['date'].min() == orders['date'].min())\n",
    "print(cumulative['date'].min() == visitors['date'].min())"
   ]
  },
  {
   "cell_type": "code",
   "execution_count": 32,
   "metadata": {},
   "outputs": [],
   "source": [
    "cumulative_A = cumulative[cumulative['group']=='A']\n",
    "\n",
    "cumulative_B = cumulative[cumulative['group']=='B']"
   ]
  },
  {
   "cell_type": "markdown",
   "metadata": {},
   "source": [
    "<a id=\"two\"></a> \n",
    "#### График кумулятивной выручки по группам"
   ]
  },
  {
   "cell_type": "code",
   "execution_count": 33,
   "metadata": {},
   "outputs": [
    {
     "data": {
      "image/png": "[encoded data removed]",
      "text/plain": [
       "<Figure size 720x432 with 1 Axes>"
      ]
     },
     "metadata": {
      "needs_background": "light"
     },
     "output_type": "display_data"
    }
   ],
   "source": [
    "plt.figure(figsize=(10, 6))\n",
    "\n",
    "plt.title('График кумулятивной выручки по группам', fontsize=16)\n",
    "\n",
    "plt.plot(cumulative_A['date'], cumulative_A['revenue'], label='A')\n",
    "\n",
    "plt.plot(cumulative_B['date'], cumulative_B['revenue'], label='B')\n",
    "plt.xlabel('Дата', fontsize=12)\n",
    "plt.ylabel('Выручка', fontsize=12)\n",
    "plt.xticks(rotation=45)\n",
    "plt.legend()\n",
    "plt.show()"
   ]
  },
  {
   "cell_type": "markdown",
   "metadata": {},
   "source": [
    "- Обе группы первые 12 дней теста поднимались равномеро. На третьей недели группа B сильно вырвалась вперед, и дальше обе группы расли равномерно по кумулятивной выручки. Возможной причиной могут быть аномальные значения в группе B."
   ]
  },
  {
   "cell_type": "markdown",
   "metadata": {},
   "source": [
    "<a id=\"three\"></a> \n",
    "#### График кумулятивного среднего чека по группам"
   ]
  },
  {
   "cell_type": "code",
   "execution_count": 34,
   "metadata": {},
   "outputs": [
    {
     "data": {
      "image/png": "[encoded data removed]",
      "text/plain": [
       "<Figure size 720x432 with 1 Axes>"
      ]
     },
     "metadata": {
      "needs_background": "light"
     },
     "output_type": "display_data"
    }
   ],
   "source": [
    "plt.figure(figsize=(10, 6))\n",
    "plt.title('График кумулятивного среднего чека по группам', fontsize=16)\n",
    "plt.plot(cumulative_A['date'], cumulative_A['revenue']/cumulative_A['orders'], label='A')\n",
    "plt.plot(cumulative_B['date'], cumulative_B['revenue']/cumulative_B['orders'], label='B')\n",
    "plt.xlabel('Дата', fontsize=12)\n",
    "plt.ylabel('Средний чек', fontsize=12)\n",
    "plt.xticks(rotation=45)\n",
    "plt.legend()\n",
    "plt.show()"
   ]
  },
  {
   "cell_type": "markdown",
   "metadata": {},
   "source": [
    "- Кумулятивное значение среднечго чека колеблеться по двум группам первые 2,5 недели теста, так же по группе B сильное колебание видно на третьей недели теста. К концу теста кумулятивные значение среднечго чека по обеим группах становится более стабильным."
   ]
  },
  {
   "cell_type": "markdown",
   "metadata": {},
   "source": [
    "<a id=\"four\"></a> \n",
    "#### График относительного изменения кумулятивного среднего чека группы B к группе A"
   ]
  },
  {
   "cell_type": "code",
   "execution_count": 35,
   "metadata": {},
   "outputs": [
    {
     "data": {
      "image/png": "[encoded data removed]",
      "text/plain": [
       "<Figure size 720x432 with 1 Axes>"
      ]
     },
     "metadata": {
      "needs_background": "light"
     },
     "output_type": "display_data"
    }
   ],
   "source": [
    "plt.figure(figsize=(10, 6))\n",
    "plt.title('График относительного изменения кумулятивного среднего чека группы B к группе A', fontsize=16)\n",
    "merged_cumulative_revenue = cumulative_A.merge(cumulative_B, left_on='date', right_on='date', how='left', suffixes=['A', 'B'])\n",
    "\n",
    "plt.plot(merged_cumulative_revenue['date'], (merged_cumulative_revenue['revenueB']/merged_cumulative_revenue['ordersB'])/(merged_cumulative_revenue['revenueA']/merged_cumulative_revenue['ordersA'])-1)\n",
    "plt.xlabel('Дата', fontsize=12)\n",
    "plt.ylabel('Относительное измненеие среднего чека', fontsize=12)\n",
    "plt.xticks(rotation=45)\n",
    "plt.axhline(y=0, color='black', linestyle='--') \n",
    "plt.show()"
   ]
  },
  {
   "cell_type": "markdown",
   "metadata": {},
   "source": [
    "- Результаты теста резко менялись в несколько дат, вероятно повлияли аномальные значения. Но в основном группа B стабильно лучше группы A по кумулятивному значению среднего чека."
   ]
  },
  {
   "cell_type": "markdown",
   "metadata": {},
   "source": [
    "<a id=\"five\"></a> \n",
    "#### График кумулятивного среднего количества заказов на посетителя по группам"
   ]
  },
  {
   "cell_type": "code",
   "execution_count": 36,
   "metadata": {},
   "outputs": [
    {
     "data": {
      "image/png": "[encoded data removed]",
      "text/plain": [
       "<Figure size 720x432 with 1 Axes>"
      ]
     },
     "metadata": {
      "needs_background": "light"
     },
     "output_type": "display_data"
    }
   ],
   "source": [
    "plt.figure(figsize=(10, 6))\n",
    "plt.title('График кумулятивного среднего количества заказов на посетителя по группам', fontsize=16)\n",
    "plt.plot(cumulative_A['date'], cumulative_A['conversion'], label='A')\n",
    "plt.plot(cumulative_B['date'], cumulative_B['conversion'], label='B')\n",
    "plt.xlabel('Дата', fontsize=12)\n",
    "plt.ylabel('Среднее количесвто заказов на посетителя', fontsize=12)\n",
    "plt.xticks(rotation=45)\n",
    "plt.legend() \n",
    "plt.show()"
   ]
  },
  {
   "cell_type": "markdown",
   "metadata": {},
   "source": [
    "- В начале теста среднее количество заказов на посетителя группы А было выше, но с 5-ого дняя стала сильно падать, а в группе B стало рости и было стабильно выше группы А. К концу теста среднее количество заказов на посетителя продолжает колебаться, но со стабильным разрывом между группами, где значение В больше А."
   ]
  },
  {
   "cell_type": "markdown",
   "metadata": {},
   "source": [
    "<a id=\"six\"></a> \n",
    "#### График относительного изменения кумулятивного среднего количества заказов на посетителя группы B к группе A"
   ]
  },
  {
   "cell_type": "code",
   "execution_count": 37,
   "metadata": {},
   "outputs": [
    {
     "data": {
      "image/png": "[encoded data removed]",
      "text/plain": [
       "<Figure size 720x432 with 1 Axes>"
      ]
     },
     "metadata": {
      "needs_background": "light"
     },
     "output_type": "display_data"
    }
   ],
   "source": [
    "plt.figure(figsize=(10, 6))\n",
    "plt.title('График относительного изменения кумулятивного среднего количества заказов на посетителя группы B к группе A', fontsize=16)\n",
    "\n",
    "plt.plot(merged_cumulative_revenue['date'], (merged_cumulative_revenue['ordersB']/merged_cumulative_revenue['visitorsB'])/(merged_cumulative_revenue['ordersA']/merged_cumulative_revenue['visitorsA'])-1)\n",
    "plt.xlabel('Дата', fontsize=12)\n",
    "plt.ylabel('Среднее количество заказов на посетителя', fontsize=12)\n",
    "plt.xticks(rotation=45)\n",
    "plt.axhline(y=0, color='black', linestyle='--')\n",
    "plt.axhline(y=0.15, color='grey', linestyle='--')\n",
    "plt.show()"
   ]
  },
  {
   "cell_type": "markdown",
   "metadata": {},
   "source": [
    "- Группа В с 5-ого дня теста стабильно лидирует по конверсии относительно группы А, но с колебаниями. К концу теста конверсия группы В имеет прирост относительно группы А в 15%."
   ]
  },
  {
   "cell_type": "markdown",
   "metadata": {},
   "source": [
    "<a id=\"seven\"></a> \n",
    "#### График количества заказов по пользователям"
   ]
  },
  {
   "cell_type": "code",
   "execution_count": 38,
   "metadata": {},
   "outputs": [],
   "source": [
    "orders_buyers = (\n",
    "    orders.groupby('visitorid', as_index=False)\n",
    "    .agg({'transactionid': 'nunique'})\n",
    ")\n",
    "orders_buyers.columns = ['buyers', 'orders']"
   ]
  },
  {
   "cell_type": "code",
   "execution_count": 39,
   "metadata": {},
   "outputs": [
    {
     "data": {
      "image/png": "[encoded data removed]",
      "text/plain": [
       "<Figure size 720x432 with 1 Axes>"
      ]
     },
     "metadata": {
      "needs_background": "light"
     },
     "output_type": "display_data"
    }
   ],
   "source": [
    "plt.figure(figsize=(10, 6))\n",
    "plt.title('График количества заказов по пользователям', fontsize=16)\n",
    "x = pd.Series(range(0, len(orders_buyers)))\n",
    "plt.scatter(x, orders_buyers['orders'])\n",
    "plt.xlabel('Пользователь', fontsize=12)\n",
    "plt.ylabel('Количество заказов', fontsize=12)\n",
    "plt.show()"
   ]
  },
  {
   "cell_type": "markdown",
   "metadata": {},
   "source": [
    "- По точечному графику видно, что в основном пользователи совершали 1 заказ. 2 заказа по графику совершали значительно меньше, но на выбросы больше похоже количество заказов от 3 и выше. Проверим перцентили."
   ]
  },
  {
   "cell_type": "markdown",
   "metadata": {},
   "source": [
    "<a id=\"eight\"></a> \n",
    "#### Расчет 95-ого и 99-ого перцентилей количества заказов на пользователя"
   ]
  },
  {
   "cell_type": "code",
   "execution_count": 40,
   "metadata": {},
   "outputs": [
    {
     "data": {
      "text/plain": [
       "array([1., 2.])"
      ]
     },
     "execution_count": 40,
     "metadata": {},
     "output_type": "execute_result"
    }
   ],
   "source": [
    "np.percentile(orders_buyers['orders'], [95, 99])"
   ]
  },
  {
   "cell_type": "markdown",
   "metadata": {},
   "source": [
    "- Больше 1-ого заказа совершали не более 5% пользователей, и больше 2 заказов не более 1% пользователей. Границей для определения аномальных значений обозначим не больше 1-ого заказа."
   ]
  },
  {
   "cell_type": "markdown",
   "metadata": {},
   "source": [
    "<a id=\"nine\"></a> \n",
    "#### График стоимостей заказов"
   ]
  },
  {
   "cell_type": "code",
   "execution_count": 41,
   "metadata": {},
   "outputs": [
    {
     "data": {
      "text/html": [
       "<div>\n",
       "<style scoped>\n",
       "    .dataframe tbody tr th:only-of-type {\n",
       "        vertical-align: middle;\n",
       "    }\n",
       "\n",
       "    .dataframe tbody tr th {\n",
       "        vertical-align: top;\n",
       "    }\n",
       "\n",
       "    .dataframe thead th {\n",
       "        text-align: right;\n",
       "    }\n",
       "</style>\n",
       "<table border=\"1\" class=\"dataframe\">\n",
       "  <thead>\n",
       "    <tr style=\"text-align: right;\">\n",
       "      <th></th>\n",
       "      <th>transactionid</th>\n",
       "      <th>visitorid</th>\n",
       "      <th>date</th>\n",
       "      <th>revenue</th>\n",
       "      <th>group</th>\n",
       "    </tr>\n",
       "  </thead>\n",
       "  <tbody>\n",
       "    <tr>\n",
       "      <th>425</th>\n",
       "      <td>590470918</td>\n",
       "      <td>1920142716</td>\n",
       "      <td>2019-08-19</td>\n",
       "      <td>1294500</td>\n",
       "      <td>B</td>\n",
       "    </tr>\n",
       "    <tr>\n",
       "      <th>1196</th>\n",
       "      <td>3936777065</td>\n",
       "      <td>2108080724</td>\n",
       "      <td>2019-08-15</td>\n",
       "      <td>202740</td>\n",
       "      <td>B</td>\n",
       "    </tr>\n",
       "    <tr>\n",
       "      <th>1136</th>\n",
       "      <td>666610489</td>\n",
       "      <td>1307669133</td>\n",
       "      <td>2019-08-13</td>\n",
       "      <td>92550</td>\n",
       "      <td>A</td>\n",
       "    </tr>\n",
       "    <tr>\n",
       "      <th>744</th>\n",
       "      <td>3668308183</td>\n",
       "      <td>888512513</td>\n",
       "      <td>2019-08-27</td>\n",
       "      <td>86620</td>\n",
       "      <td>B</td>\n",
       "    </tr>\n",
       "    <tr>\n",
       "      <th>743</th>\n",
       "      <td>3603576309</td>\n",
       "      <td>4133034833</td>\n",
       "      <td>2019-08-09</td>\n",
       "      <td>67990</td>\n",
       "      <td>A</td>\n",
       "    </tr>\n",
       "    <tr>\n",
       "      <th>1103</th>\n",
       "      <td>1348774318</td>\n",
       "      <td>1164614297</td>\n",
       "      <td>2019-08-12</td>\n",
       "      <td>66350</td>\n",
       "      <td>A</td>\n",
       "    </tr>\n",
       "    <tr>\n",
       "      <th>1099</th>\n",
       "      <td>316924019</td>\n",
       "      <td>148427295</td>\n",
       "      <td>2019-08-12</td>\n",
       "      <td>65710</td>\n",
       "      <td>A</td>\n",
       "    </tr>\n",
       "    <tr>\n",
       "      <th>949</th>\n",
       "      <td>1347999392</td>\n",
       "      <td>887908475</td>\n",
       "      <td>2019-08-21</td>\n",
       "      <td>60450</td>\n",
       "      <td>A</td>\n",
       "    </tr>\n",
       "    <tr>\n",
       "      <th>940</th>\n",
       "      <td>2420050534</td>\n",
       "      <td>4003628586</td>\n",
       "      <td>2019-08-08</td>\n",
       "      <td>58550</td>\n",
       "      <td>B</td>\n",
       "    </tr>\n",
       "    <tr>\n",
       "      <th>131</th>\n",
       "      <td>3163614039</td>\n",
       "      <td>2254586615</td>\n",
       "      <td>2019-08-22</td>\n",
       "      <td>53904</td>\n",
       "      <td>A</td>\n",
       "    </tr>\n",
       "  </tbody>\n",
       "</table>\n",
       "</div>"
      ],
      "text/plain": [
       "      transactionid   visitorid       date  revenue group\n",
       "425       590470918  1920142716 2019-08-19  1294500     B\n",
       "1196     3936777065  2108080724 2019-08-15   202740     B\n",
       "1136      666610489  1307669133 2019-08-13    92550     A\n",
       "744      3668308183   888512513 2019-08-27    86620     B\n",
       "743      3603576309  4133034833 2019-08-09    67990     A\n",
       "1103     1348774318  1164614297 2019-08-12    66350     A\n",
       "1099      316924019   148427295 2019-08-12    65710     A\n",
       "949      1347999392   887908475 2019-08-21    60450     A\n",
       "940      2420050534  4003628586 2019-08-08    58550     B\n",
       "131      3163614039  2254586615 2019-08-22    53904     A"
      ]
     },
     "execution_count": 41,
     "metadata": {},
     "output_type": "execute_result"
    }
   ],
   "source": [
    "orders.sort_values(by='revenue', ascending=False).head(10)"
   ]
  },
  {
   "cell_type": "code",
   "execution_count": 42,
   "metadata": {},
   "outputs": [
    {
     "data": {
      "image/png": "[encoded data removed]",
      "text/plain": [
       "<Figure size 720x432 with 1 Axes>"
      ]
     },
     "metadata": {
      "needs_background": "light"
     },
     "output_type": "display_data"
    }
   ],
   "source": [
    "plt.figure(figsize=(10, 6))\n",
    "plt.title('График стоимостей заказов', fontsize=16)\n",
    "x = pd.Series(range(0, len(orders['revenue'])))\n",
    "plt.scatter(x, orders['revenue']) \n",
    "plt.xlabel('Заказ', fontsize=12)\n",
    "plt.ylabel('Стоимость заказа', fontsize=12)\n",
    "plt.show()"
   ]
  },
  {
   "cell_type": "markdown",
   "metadata": {},
   "source": [
    "Построим второй график, чтобы рассмотреть ближе стоимость заказов без больших выбросов."
   ]
  },
  {
   "cell_type": "code",
   "execution_count": 43,
   "metadata": {},
   "outputs": [
    {
     "data": {
      "image/png": "[encoded data removed]",
      "text/plain": [
       "<Figure size 720x432 with 1 Axes>"
      ]
     },
     "metadata": {
      "needs_background": "light"
     },
     "output_type": "display_data"
    }
   ],
   "source": [
    "plt.figure(figsize=(10, 6))\n",
    "plt.title('График стоимостей заказов', fontsize=16)\n",
    "x = pd.Series(range(0, len(orders['revenue'])))\n",
    "plt.ylim(0, 30000) \n",
    "plt.scatter(x, orders['revenue']) \n",
    "plt.xlabel('Заказ', fontsize=12)\n",
    "plt.ylabel('Стоимость заказа', fontsize=12)\n",
    "\n",
    "plt.show()"
   ]
  },
  {
   "cell_type": "markdown",
   "metadata": {},
   "source": [
    "- По первому точечному графику стоимостей заказов видно, что есть значительные выбросы в районе 200000 рублей и более 1,2 млн рублей. Так же заказов за 100000 рублей немного. На втором графике заказов дороже 10000 рублей становится все меньше, и выше 25000 рублей заказы совсем редкие.  Проверим перцентили."
   ]
  },
  {
   "cell_type": "markdown",
   "metadata": {},
   "source": [
    "<a id=\"ten\"></a> \n",
    "#### Расчет 95-ого и 99-ого перцентилей стоимости заказов"
   ]
  },
  {
   "cell_type": "code",
   "execution_count": 44,
   "metadata": {},
   "outputs": [
    {
     "data": {
      "text/plain": [
       "array([17990., 26785., 53904.])"
      ]
     },
     "execution_count": 44,
     "metadata": {},
     "output_type": "execute_result"
    }
   ],
   "source": [
    "np.percentile(orders['revenue'], [90, 95, 99])\n"
   ]
  },
  {
   "cell_type": "markdown",
   "metadata": {},
   "source": [
    "- Не более, чем у 5% заказов чеки дорожи 26785 рублей, и у не более 1% заказов чеки больше 53904 рублей. Границей для определения аномальных значений обозначим заказы не дороже 26785 рублей."
   ]
  },
  {
   "cell_type": "markdown",
   "metadata": {},
   "source": [
    "<a id=\"eleven\"></a> \n",
    "#### Статистическая значимость различий в среднем количестве заказов на посетителя между группами по «сырым» данным"
   ]
  },
  {
   "cell_type": "markdown",
   "metadata": {},
   "source": [
    "- **Нулевая гипотеза:** статистически значимых различий в среднем количетсве заказов на посетителя между группами по \"сырым\" данным нет.\n",
    "- **Альтернативная гпиотеза:** статистически значимые различия в среднем количетсве заказов на посетителя между группами по \"сырым\" данным есть.\n",
    "- **Уровень статистической значимости:** alpha = 0.05.\n",
    "- **Метод проверки:** применим статистический критерий Манна-Уитни, так как по нему можно сравнить две независимые выборки по уровню какого-либо количественно измеренного критерия и понять разницу."
   ]
  },
  {
   "cell_type": "code",
   "execution_count": 45,
   "metadata": {},
   "outputs": [],
   "source": [
    "visitors_daily_A = visitors[visitors['group'] == 'A'][['date', 'visitors']]\n",
    "visitors_daily_A.columns = ['date', 'visitors_per_date_A']"
   ]
  },
  {
   "cell_type": "code",
   "execution_count": 46,
   "metadata": {},
   "outputs": [],
   "source": [
    "visitors_daily_B = visitors[visitors['group'] == 'B'][['date', 'visitors']]\n",
    "visitors_daily_B.columns = ['date', 'visitors_per_date_B']"
   ]
  },
  {
   "cell_type": "code",
   "execution_count": 47,
   "metadata": {},
   "outputs": [],
   "source": [
    "orders_daily_A = (\n",
    "    orders[orders['group'] == 'A'][['date', 'transactionid', 'visitorid', 'revenue']]\n",
    "    .groupby('date', as_index=False)\n",
    "    .agg({'transactionid': pd.Series.nunique, 'revenue': 'sum'})\n",
    ")\n",
    "orders_daily_A.columns = ['date', 'orders_per_date_A', 'revenue_per_date_A']"
   ]
  },
  {
   "cell_type": "code",
   "execution_count": 48,
   "metadata": {},
   "outputs": [],
   "source": [
    "orders_daily_B = (\n",
    "    orders[orders['group'] == 'B'][['date', 'transactionid', 'visitorid', 'revenue']]\n",
    "    .groupby('date', as_index=False)\n",
    "    .agg({'transactionid': pd.Series.nunique, 'revenue': 'sum'})\n",
    ")\n",
    "orders_daily_B.columns = ['date', 'orders_per_date_B', 'revenue_per_date_B']"
   ]
  },
  {
   "cell_type": "code",
   "execution_count": 49,
   "metadata": {},
   "outputs": [],
   "source": [
    "data = (\n",
    "    orders_daily_A.merge(\n",
    "        orders_daily_B, left_on='date', right_on='date', how='left'\n",
    "    )\n",
    "    .merge(visitors_daily_A, left_on='date', right_on='date', how='left')\n",
    "    .merge(visitors_daily_B, left_on='date', right_on='date', how='left')\n",
    ")\n"
   ]
  },
  {
   "cell_type": "code",
   "execution_count": 50,
   "metadata": {},
   "outputs": [
    {
     "name": "stdout",
     "output_type": "stream",
     "text": [
      "P-value по среднему количеству заказаов на посетителя между группами по \"сырым\" данным: 0.01102\n",
      "Разница между группами A и B по среднему количеству заказаов на посетителя по \"сырым\" данным: 0.160\n"
     ]
    }
   ],
   "source": [
    "orders_buyers_A = (\n",
    "    orders[orders['group'] == 'A']\n",
    "    .groupby('visitorid', as_index=False)\n",
    "    .agg({'transactionid': pd.Series.nunique})\n",
    ")\n",
    "orders_buyers_A.columns = ['buyers', 'orders']\n",
    "\n",
    "\n",
    "orders_buyers_B = (\n",
    "    orders[orders['group'] == 'B']\n",
    "    .groupby('visitorid', as_index=False)\n",
    "    .agg({'transactionid': pd.Series.nunique})\n",
    ")\n",
    "orders_buyers_B.columns = ['buyers', 'orders'] \n",
    "\n",
    "\n",
    "sample_A = pd.concat([orders_buyers_A['orders'],pd.Series(0, index=np.arange(data['visitors_per_date_A'].sum() - len(orders_buyers_A['orders'])), name='orders')],axis=0)\n",
    "\n",
    "sample_B = pd.concat([orders_buyers_B['orders'],pd.Series(0, index=np.arange(data['visitors_per_date_B'].sum() - len(orders_buyers_B['orders'])), name='orders')],axis=0)\n",
    "\n",
    "\n",
    "print('P-value по среднему количеству заказаов на посетителя между группами по \"сырым\" данным:', \"{0:.5f}\".format(stats.mannwhitneyu(sample_A, sample_B)[1]))\n",
    "\n",
    "print('Разница между группами A и B по среднему количеству заказаов на посетителя по \"сырым\" данным:', \"{0:.3f}\".format(sample_B.mean() / sample_A.mean() - 1))"
   ]
  },
  {
   "cell_type": "markdown",
   "metadata": {},
   "source": [
    "- P-value меньше 0.05 - в среднем количестве заказов на посетител между группами есть статистически значимые различия. Относительный прирост среднего группы В к среднему количеству заказов на посетителя группы А равен 16.0%. Нужно сравнить метрики без аномальных значений.\n",
    "- Нулевую гипотезу отвергаем - статистически значимые различия в среднем количестве заказов на посетителя между группами по \"сырым\" данным есть."
   ]
  },
  {
   "cell_type": "markdown",
   "metadata": {},
   "source": [
    "<a id=\"twelve\"></a> \n",
    "#### Статистическая значимость различий в среднем чеке заказа между группами по «сырым» данным"
   ]
  },
  {
   "cell_type": "markdown",
   "metadata": {},
   "source": [
    "- **Нулевая гипотеза:** статистически значимых различий в среднем чеке заказа между группами по \"сырым\" данным нет.\n",
    "- **Альтернативная гпиотеза:** статистически значимые различия в среднем чеке заказа между группами по \"сырым\" данным есть.\n",
    "- **Уровень статистической значимости:** alpha = 0.05.\n",
    "- **Метод проверки:** применим статистический критерий Манна-Уитни, так как по нему можно сравнить две независимые выборки по уровню какого-либо количественно измеренного критерия и понять разницу."
   ]
  },
  {
   "cell_type": "code",
   "execution_count": 51,
   "metadata": {},
   "outputs": [
    {
     "name": "stdout",
     "output_type": "stream",
     "text": [
      "P-value по среднему чеку заказа между группами по \"сырым\" данным: 0.829\n",
      "Разница между группами A и B по среднему чеку заказа по \"сырым\" данным: 0.287\n"
     ]
    }
   ],
   "source": [
    "print('P-value по среднему чеку заказа между группами по \"сырым\" данным:', '{0:.3f}'.format(stats.mannwhitneyu(orders[orders['group']=='A']['revenue'], orders[orders['group']=='B']['revenue'])[1]))\n",
    "print('Разница между группами A и B по среднему чеку заказа по \"сырым\" данным:', '{0:.3f}'.format(orders[orders['group']=='B']['revenue'].mean()/orders[orders['group']=='A']['revenue'].mean()-1))"
   ]
  },
  {
   "cell_type": "markdown",
   "metadata": {},
   "source": [
    "- P-value значительно больше 0.05 - в среднем размере чека между группами нет статистически значимых различий. Но относительное различие среднего чека между группами В и А равен 28.7%. Так же стоит сравнить метрики без аномальных значений.\n",
    "- Нулевую гипотезу не отвергаем, статистически значимых различий в среднем чеке заказа между группами по \"сырым\" данным нет. Однако группа В лидирует на 28,7%."
   ]
  },
  {
   "cell_type": "markdown",
   "metadata": {},
   "source": [
    "<a id=\"thirteen\"></a> \n",
    "#### Статистическая значимость различий в среднем количестве заказов на посетителя между группами по «очищенным» данным"
   ]
  },
  {
   "cell_type": "markdown",
   "metadata": {},
   "source": [
    "- **Нулевая гипотеза:** статистически значимых различий в среднем количетсве заказов на посетителя между группами по \"очищенным\" данным нет.\n",
    "- **Альтернативная гпиотеза:** статистически значимые различия в среднем количетсве заказов на посетителя между группами по \"очищенным\" данным есть.\n",
    "- **Уровень статистической значимости:** alpha = 0.05.\n",
    "- **Метод проверки:** применим статистический критерий Манна-Уитни, так как по нему можно сравнить две независимые выборки по уровню какого-либо количественно измеренного критерия и понять разницу."
   ]
  },
  {
   "cell_type": "code",
   "execution_count": 52,
   "metadata": {},
   "outputs": [],
   "source": [
    "buyers_with_many_orders = pd.concat(\n",
    "    [\n",
    "        orders_buyers_A[orders_buyers_A['orders'] > np.percentile(orders_buyers['orders'], 95)]['buyers'],\n",
    "        orders_buyers_B[orders_buyers_B['orders'] > np.percentile(orders_buyers['orders'], 95)]['buyers'],\n",
    "    ],\n",
    "    axis=0,\n",
    ")\n",
    "buyers_with_expensive_orders = orders[orders['revenue'] > np.percentile(orders['revenue'], 95)]['visitorid']\n",
    "\n",
    "abnormal_buyers = (\n",
    "    pd.concat([buyers_with_many_orders, buyers_with_expensive_orders], axis=0)\n",
    "    .drop_duplicates()\n",
    "    .sort_values()\n",
    ")"
   ]
  },
  {
   "cell_type": "code",
   "execution_count": 53,
   "metadata": {},
   "outputs": [],
   "source": [
    "sample_A_purified = pd.concat(\n",
    "    [\n",
    "        orders_buyers_A[\n",
    "            np.logical_not(orders_buyers_A['buyers'].isin(abnormal_buyers))\n",
    "        ]['orders'],\n",
    "        pd.Series(0, index=np.arange(\n",
    "                data['visitors_per_date_A'].sum() - len(orders_buyers_A['orders'])\n",
    "            ), name='orders')\n",
    "    ],\n",
    "    axis=0,\n",
    ")\n",
    "\n"
   ]
  },
  {
   "cell_type": "code",
   "execution_count": 54,
   "metadata": {},
   "outputs": [],
   "source": [
    "sample_B_purified = pd.concat(\n",
    "    [\n",
    "        orders_buyers_B[\n",
    "            np.logical_not(orders_buyers_B['buyers'].isin(abnormal_buyers))\n",
    "        ]['orders'],\n",
    "        pd.Series(0, index=np.arange(\n",
    "                data['visitors_per_date_B'].sum() - len(orders_buyers_B['orders'])\n",
    "            ), name='orders')\n",
    "    ],\n",
    "    axis=0,\n",
    ")"
   ]
  },
  {
   "cell_type": "code",
   "execution_count": 55,
   "metadata": {},
   "outputs": [
    {
     "name": "stdout",
     "output_type": "stream",
     "text": [
      "P-value по среднему количеству заказаов на пользователя между группами по \"очищенным\" данным: 0.01593\n",
      "Разница между группами A и B по среднему количеству заказаов на пользователя по \"очищенным\" данным: 0.174\n"
     ]
    }
   ],
   "source": [
    "print('P-value по среднему количеству заказаов на пользователя между группами по \"очищенным\" данным:', '{0:.5f}'.format(stats.mannwhitneyu(sample_A_purified, sample_B_purified)[1]))\n",
    "print('Разница между группами A и B по среднему количеству заказаов на пользователя по \"очищенным\" данным:', '{0:.3f}'.format(sample_B_purified.mean()/sample_A_purified.mean()-1)) \n"
   ]
  },
  {
   "cell_type": "markdown",
   "metadata": {},
   "source": [
    "- Как и по \"сырым\" данным, по отфильтрованным, P-value меньше 0.05 - есть статистически значимые различия. Относительный прирост среднего группы В к среднему количеству заказов на посетителя группы А равен 17,4%. \n",
    "- Нулевую гипотезу отвергаем, статистически значимые различия в среднем количестве заказов на посетителя между группами по \"очищенным\" данным есть."
   ]
  },
  {
   "cell_type": "markdown",
   "metadata": {},
   "source": [
    "<a id=\"fourteen\"></a> \n",
    "#### Статистическая значимость различий в среднем чеке заказа между группами по «очищенным» данным"
   ]
  },
  {
   "cell_type": "markdown",
   "metadata": {},
   "source": [
    "- **Нулевая гипотеза:** статистически значимых различий в среднем чеке заказа между группами по \"очищенным\" данным нет.\n",
    "- **Альтернативная гпиотеза:** статистически значимые различия в среднем чеке заказа между группами по \"очищенным\" данным есть.\n",
    "- **Уровень статистической значимости:** alpha = 0.05.\n",
    "- **Метод проверки:** применим статистический критерий Манна-Уитни, так как по нему можно сравнить две независимые выборки по уровню какого-либо количественно измеренного критерия и понять разницу."
   ]
  },
  {
   "cell_type": "code",
   "execution_count": 56,
   "metadata": {},
   "outputs": [
    {
     "name": "stdout",
     "output_type": "stream",
     "text": [
      "P-value по среднему чеку заказа между группами по \"очищенным\" данным: 0.727\n",
      "Разница между группами A и B по среднему чеку заказа по \"очищенным\" данным: -0.034\n"
     ]
    }
   ],
   "source": [
    "print('P-value по среднему чеку заказа между группами по \"очищенным\" данным:', '{0:.3f}'.format(stats.mannwhitneyu(\n",
    "                orders[np.logical_and(orders['group'] == 'A', np.logical_not(orders['visitorid'].isin(abnormal_buyers)),\n",
    "                )]['revenue'], \n",
    "                orders[np.logical_and(orders['group'] == 'B', np.logical_not(orders['visitorid'].isin(abnormal_buyers)),\n",
    "                )]['revenue'])[1])\n",
    "     )\n",
    "\n",
    "print('Разница между группами A и B по среднему чеку заказа по \"очищенным\" данным:', \"{0:.3f}\".format(\n",
    "                orders[np.logical_and(orders['group'] == 'B', np.logical_not(orders['visitorid'].isin(abnormal_buyers)),\n",
    "                )]['revenue'].mean()\n",
    "               / orders[np.logical_and(orders['group'] == 'A', np.logical_not(orders['visitorid'].isin(abnormal_buyers)),\n",
    "            )]['revenue'].mean()- 1)\n",
    ")"
   ]
  },
  {
   "cell_type": "markdown",
   "metadata": {},
   "source": [
    "- P-value так же больше 0.05, как и по \"сырым\" данным, и составляет 72,7% - в среднем размере чека заказа между группами нет статистически значимых различий.\n",
    "- Нулевую гипотезу не отвергаем, статистически значимых различий в среднем чеке заказа между группами по \"сырым\" данным нет. Но поменялась лидирующая группа - А стала незначтительно лидировать над В - на 3,4%."
   ]
  },
  {
   "cell_type": "markdown",
   "metadata": {},
   "source": [
    "<a id=\"conclusion\"></a> \n",
    "### Вывод"
   ]
  },
  {
   "cell_type": "markdown",
   "metadata": {},
   "source": [
    "В распоряжении были данные трех датасетов с данными о выдвинутах гипотизах, данными о заказах и с данными деления пользователей на группы для A/B-теста.\n",
    "\n",
    "Проведены следущие шаги:\n",
    "1. Выгрузка данных, проверка и предобработка.\n",
    "2. Применение фреймворков для приоритизации гипотез.\n",
    "3. Анализ A/B-теста.\n",
    "\n",
    "По результатам анализа A/B-теста выделены следующие наблюдения:\n",
    "- По графикам кумулятивных данных: по среднему количеству заказов на посетителя и среднему чеку заказа группа B лидирует над A;\n",
    "- Есть статистически значимые различия по среднему количеству заказов между группами и по «сырым» данным и по данным после удаления аномалий: группа B показывает прирост среднего количества заказов на посетителя над группой А.\n",
    "- Нет статистически значимого различия по среднему чеку заказа между группами ни по «сырым», ни по данным после удаления аномалий;\n",
    "- Графики различий среднего чека заказа и среднего количества заказов на посетителя, показывают, что результаты группы B стабилизируются к окончанию теста и стабильно выше, чем у группы А.\n",
    "\n",
    "По данным наблюдениям считаю, что предположительно лучше принять решение об остановке теста и зафиксировать победу группы B над A."
   ]
  },
  {
   "cell_type": "code",
   "execution_count": null,
   "metadata": {},
   "outputs": [],
   "source": []
  }
 ],
 "metadata": {
  "ExecuteTimeLog": [
   {
    "duration": 762,
    "start_time": "2023-04-05T20:52:55.307Z"
   },
   {
    "duration": 82,
    "start_time": "2023-04-05T21:01:50.576Z"
   },
   {
    "duration": 11,
    "start_time": "2023-04-05T21:01:58.290Z"
   },
   {
    "duration": 26,
    "start_time": "2023-04-05T21:02:17.434Z"
   },
   {
    "duration": 8,
    "start_time": "2023-04-05T21:02:18.205Z"
   },
   {
    "duration": 102,
    "start_time": "2023-04-05T21:03:43.018Z"
   },
   {
    "duration": 14,
    "start_time": "2023-04-05T21:03:50.115Z"
   },
   {
    "duration": 49,
    "start_time": "2023-04-05T21:04:15.000Z"
   },
   {
    "duration": 11,
    "start_time": "2023-04-05T21:04:16.201Z"
   },
   {
    "duration": 48,
    "start_time": "2023-04-05T21:04:25.488Z"
   },
   {
    "duration": 13,
    "start_time": "2023-04-05T21:04:26.194Z"
   },
   {
    "duration": 7,
    "start_time": "2023-04-05T21:05:08.469Z"
   },
   {
    "duration": 75,
    "start_time": "2023-04-05T21:06:36.349Z"
   },
   {
    "duration": 10,
    "start_time": "2023-04-05T21:06:41.426Z"
   },
   {
    "duration": 9,
    "start_time": "2023-04-05T21:06:49.854Z"
   },
   {
    "duration": 8,
    "start_time": "2023-04-05T21:06:54.633Z"
   },
   {
    "duration": 9,
    "start_time": "2023-04-05T21:07:09.738Z"
   },
   {
    "duration": 11,
    "start_time": "2023-04-05T21:07:41.061Z"
   },
   {
    "duration": 48,
    "start_time": "2023-04-05T21:08:40.243Z"
   },
   {
    "duration": 9,
    "start_time": "2023-04-05T21:08:44.786Z"
   },
   {
    "duration": 10,
    "start_time": "2023-04-05T21:09:07.844Z"
   },
   {
    "duration": 9,
    "start_time": "2023-04-05T21:09:30.229Z"
   },
   {
    "duration": 48,
    "start_time": "2023-04-05T21:11:34.199Z"
   },
   {
    "duration": 49,
    "start_time": "2023-04-05T21:11:50.591Z"
   },
   {
    "duration": 248,
    "start_time": "2023-04-05T21:12:52.224Z"
   },
   {
    "duration": 187,
    "start_time": "2023-04-05T21:13:33.136Z"
   },
   {
    "duration": 13,
    "start_time": "2023-04-05T21:13:48.456Z"
   },
   {
    "duration": 200,
    "start_time": "2023-04-05T21:13:57.970Z"
   },
   {
    "duration": 312,
    "start_time": "2023-04-05T21:14:15.365Z"
   },
   {
    "duration": 210,
    "start_time": "2023-04-05T21:15:50.123Z"
   },
   {
    "duration": 306,
    "start_time": "2023-04-05T21:17:45.128Z"
   },
   {
    "duration": 5,
    "start_time": "2023-04-05T21:21:47.619Z"
   },
   {
    "duration": 305,
    "start_time": "2023-04-05T21:22:37.570Z"
   },
   {
    "duration": 313,
    "start_time": "2023-04-05T21:24:34.625Z"
   },
   {
    "duration": 246,
    "start_time": "2023-04-05T21:25:04.948Z"
   },
   {
    "duration": 18,
    "start_time": "2023-04-05T21:25:19.055Z"
   },
   {
    "duration": 11,
    "start_time": "2023-04-05T21:25:29.941Z"
   },
   {
    "duration": 9,
    "start_time": "2023-04-05T21:25:35.728Z"
   },
   {
    "duration": 11,
    "start_time": "2023-04-05T21:25:38.380Z"
   },
   {
    "duration": 593,
    "start_time": "2023-04-05T21:25:51.271Z"
   },
   {
    "duration": 27,
    "start_time": "2023-04-05T21:25:51.866Z"
   },
   {
    "duration": 10,
    "start_time": "2023-04-05T21:25:51.894Z"
   },
   {
    "duration": 11,
    "start_time": "2023-04-05T21:25:51.906Z"
   },
   {
    "duration": 39,
    "start_time": "2023-04-05T21:25:51.919Z"
   },
   {
    "duration": 7,
    "start_time": "2023-04-05T21:25:51.960Z"
   },
   {
    "duration": 13,
    "start_time": "2023-04-05T21:25:51.969Z"
   },
   {
    "duration": 309,
    "start_time": "2023-04-05T21:25:51.984Z"
   },
   {
    "duration": 0,
    "start_time": "2023-04-05T21:25:52.294Z"
   },
   {
    "duration": 0,
    "start_time": "2023-04-05T21:25:52.296Z"
   },
   {
    "duration": 7,
    "start_time": "2023-04-05T21:25:56.590Z"
   },
   {
    "duration": 228,
    "start_time": "2023-04-05T21:26:04.695Z"
   },
   {
    "duration": 13,
    "start_time": "2023-04-05T21:26:35.901Z"
   },
   {
    "duration": 26,
    "start_time": "2023-04-05T21:26:40.744Z"
   },
   {
    "duration": 9,
    "start_time": "2023-04-05T21:26:41.702Z"
   },
   {
    "duration": 11,
    "start_time": "2023-04-05T21:26:44.286Z"
   },
   {
    "duration": 6,
    "start_time": "2023-04-05T21:27:19.583Z"
   },
   {
    "duration": 4,
    "start_time": "2023-04-05T21:36:05.190Z"
   },
   {
    "duration": 8,
    "start_time": "2023-04-05T21:36:12.489Z"
   },
   {
    "duration": 3,
    "start_time": "2023-04-05T21:36:16.894Z"
   },
   {
    "duration": 22,
    "start_time": "2023-04-05T21:38:09.957Z"
   },
   {
    "duration": 9,
    "start_time": "2023-04-05T21:39:15.047Z"
   },
   {
    "duration": 3,
    "start_time": "2023-04-05T21:51:15.368Z"
   },
   {
    "duration": 786,
    "start_time": "2023-04-06T14:24:20.103Z"
   },
   {
    "duration": 63,
    "start_time": "2023-04-06T14:24:20.892Z"
   },
   {
    "duration": 17,
    "start_time": "2023-04-06T14:24:20.957Z"
   },
   {
    "duration": 5,
    "start_time": "2023-04-06T14:24:20.978Z"
   },
   {
    "duration": 19,
    "start_time": "2023-04-06T14:24:20.985Z"
   },
   {
    "duration": 100,
    "start_time": "2023-04-06T14:24:21.006Z"
   },
   {
    "duration": 11,
    "start_time": "2023-04-06T14:24:21.108Z"
   },
   {
    "duration": 12,
    "start_time": "2023-04-06T14:24:21.121Z"
   },
   {
    "duration": 16,
    "start_time": "2023-04-06T14:24:21.134Z"
   },
   {
    "duration": 67,
    "start_time": "2023-04-06T14:24:21.154Z"
   },
   {
    "duration": 9,
    "start_time": "2023-04-06T14:24:21.222Z"
   },
   {
    "duration": 11,
    "start_time": "2023-04-06T14:24:21.233Z"
   },
   {
    "duration": 10,
    "start_time": "2023-04-06T14:24:21.245Z"
   },
   {
    "duration": 10,
    "start_time": "2023-04-06T14:24:21.257Z"
   },
   {
    "duration": 12,
    "start_time": "2023-04-06T14:24:23.161Z"
   },
   {
    "duration": 10,
    "start_time": "2023-04-06T15:35:18.931Z"
   },
   {
    "duration": 619,
    "start_time": "2023-04-06T15:58:58.525Z"
   },
   {
    "duration": 25,
    "start_time": "2023-04-06T15:58:59.147Z"
   },
   {
    "duration": 17,
    "start_time": "2023-04-06T15:58:59.174Z"
   },
   {
    "duration": 3,
    "start_time": "2023-04-06T15:58:59.193Z"
   },
   {
    "duration": 13,
    "start_time": "2023-04-06T15:58:59.198Z"
   },
   {
    "duration": 37,
    "start_time": "2023-04-06T15:58:59.213Z"
   },
   {
    "duration": 7,
    "start_time": "2023-04-06T15:58:59.252Z"
   },
   {
    "duration": 10,
    "start_time": "2023-04-06T15:58:59.261Z"
   },
   {
    "duration": 18,
    "start_time": "2023-04-06T15:58:59.273Z"
   },
   {
    "duration": 15,
    "start_time": "2023-04-06T15:58:59.294Z"
   },
   {
    "duration": 10,
    "start_time": "2023-04-06T15:58:59.310Z"
   },
   {
    "duration": 17,
    "start_time": "2023-04-06T15:58:59.322Z"
   },
   {
    "duration": 7,
    "start_time": "2023-04-06T15:58:59.341Z"
   },
   {
    "duration": 13,
    "start_time": "2023-04-06T15:58:59.349Z"
   },
   {
    "duration": 13,
    "start_time": "2023-04-06T15:58:59.370Z"
   },
   {
    "duration": 9,
    "start_time": "2023-04-06T15:58:59.385Z"
   },
   {
    "duration": 739,
    "start_time": "2023-04-06T20:32:17.072Z"
   },
   {
    "duration": 87,
    "start_time": "2023-04-06T20:32:17.813Z"
   },
   {
    "duration": 10,
    "start_time": "2023-04-06T20:32:17.902Z"
   },
   {
    "duration": 4,
    "start_time": "2023-04-06T20:32:17.914Z"
   },
   {
    "duration": 13,
    "start_time": "2023-04-06T20:32:17.919Z"
   },
   {
    "duration": 95,
    "start_time": "2023-04-06T20:32:17.933Z"
   },
   {
    "duration": 7,
    "start_time": "2023-04-06T20:32:18.029Z"
   },
   {
    "duration": 19,
    "start_time": "2023-04-06T20:32:18.037Z"
   },
   {
    "duration": 17,
    "start_time": "2023-04-06T20:32:18.058Z"
   },
   {
    "duration": 78,
    "start_time": "2023-04-06T20:32:18.077Z"
   },
   {
    "duration": 9,
    "start_time": "2023-04-06T20:32:18.157Z"
   },
   {
    "duration": 10,
    "start_time": "2023-04-06T20:32:18.168Z"
   },
   {
    "duration": 8,
    "start_time": "2023-04-06T20:32:18.180Z"
   },
   {
    "duration": 16,
    "start_time": "2023-04-06T20:32:18.189Z"
   },
   {
    "duration": 11,
    "start_time": "2023-04-06T20:32:18.207Z"
   },
   {
    "duration": 8,
    "start_time": "2023-04-06T20:32:18.220Z"
   },
   {
    "duration": 6,
    "start_time": "2023-04-06T20:45:52.954Z"
   },
   {
    "duration": 10,
    "start_time": "2023-04-06T20:52:37.321Z"
   },
   {
    "duration": 12,
    "start_time": "2023-04-06T20:54:59.108Z"
   },
   {
    "duration": 3,
    "start_time": "2023-04-06T20:57:31.654Z"
   },
   {
    "duration": 10,
    "start_time": "2023-04-06T20:57:33.558Z"
   },
   {
    "duration": 655,
    "start_time": "2023-04-06T20:57:49.290Z"
   },
   {
    "duration": 41,
    "start_time": "2023-04-06T20:57:49.947Z"
   },
   {
    "duration": 12,
    "start_time": "2023-04-06T20:57:49.991Z"
   },
   {
    "duration": 4,
    "start_time": "2023-04-06T20:57:50.006Z"
   },
   {
    "duration": 26,
    "start_time": "2023-04-06T20:57:50.011Z"
   },
   {
    "duration": 48,
    "start_time": "2023-04-06T20:57:50.039Z"
   },
   {
    "duration": 8,
    "start_time": "2023-04-06T20:57:50.089Z"
   },
   {
    "duration": 7,
    "start_time": "2023-04-06T20:57:50.099Z"
   },
   {
    "duration": 19,
    "start_time": "2023-04-06T20:57:50.107Z"
   },
   {
    "duration": 18,
    "start_time": "2023-04-06T20:57:50.128Z"
   },
   {
    "duration": 20,
    "start_time": "2023-04-06T20:57:50.147Z"
   },
   {
    "duration": 9,
    "start_time": "2023-04-06T20:57:50.169Z"
   },
   {
    "duration": 10,
    "start_time": "2023-04-06T20:57:50.180Z"
   },
   {
    "duration": 5,
    "start_time": "2023-04-06T20:57:50.192Z"
   },
   {
    "duration": 17,
    "start_time": "2023-04-06T20:57:50.198Z"
   },
   {
    "duration": 13,
    "start_time": "2023-04-06T20:57:50.217Z"
   },
   {
    "duration": 9,
    "start_time": "2023-04-06T20:57:50.235Z"
   },
   {
    "duration": 24,
    "start_time": "2023-04-06T20:57:50.245Z"
   },
   {
    "duration": 165,
    "start_time": "2023-04-06T20:58:15.215Z"
   },
   {
    "duration": 10,
    "start_time": "2023-04-06T20:58:22.749Z"
   },
   {
    "duration": 152,
    "start_time": "2023-04-06T21:02:14.493Z"
   },
   {
    "duration": 65,
    "start_time": "2023-04-06T21:08:10.547Z"
   },
   {
    "duration": 7,
    "start_time": "2023-04-06T21:08:26.989Z"
   },
   {
    "duration": 163,
    "start_time": "2023-04-06T21:08:27.584Z"
   },
   {
    "duration": 117,
    "start_time": "2023-04-06T21:08:28.296Z"
   },
   {
    "duration": 7,
    "start_time": "2023-04-06T21:08:29.085Z"
   },
   {
    "duration": 8,
    "start_time": "2023-04-06T21:09:02.457Z"
   },
   {
    "duration": 275,
    "start_time": "2023-04-06T21:11:00.804Z"
   },
   {
    "duration": 234,
    "start_time": "2023-04-06T21:15:24.637Z"
   },
   {
    "duration": 166,
    "start_time": "2023-04-06T21:15:42.623Z"
   },
   {
    "duration": 242,
    "start_time": "2023-04-06T21:16:26.355Z"
   },
   {
    "duration": 207,
    "start_time": "2023-04-06T21:17:32.821Z"
   },
   {
    "duration": 177,
    "start_time": "2023-04-06T21:38:37.360Z"
   },
   {
    "duration": 220,
    "start_time": "2023-04-06T21:39:50.321Z"
   },
   {
    "duration": 220,
    "start_time": "2023-04-06T21:40:34.717Z"
   },
   {
    "duration": 324,
    "start_time": "2023-04-06T21:50:51.740Z"
   },
   {
    "duration": 297,
    "start_time": "2023-04-06T21:51:22.112Z"
   },
   {
    "duration": 344,
    "start_time": "2023-04-06T21:51:59.231Z"
   },
   {
    "duration": 398,
    "start_time": "2023-04-06T21:56:04.025Z"
   },
   {
    "duration": 393,
    "start_time": "2023-04-06T21:56:15.049Z"
   },
   {
    "duration": 431,
    "start_time": "2023-04-06T21:56:20.709Z"
   },
   {
    "duration": 363,
    "start_time": "2023-04-06T21:56:51.423Z"
   },
   {
    "duration": 209,
    "start_time": "2023-04-06T21:57:31.610Z"
   },
   {
    "duration": 273,
    "start_time": "2023-04-06T21:57:42.655Z"
   },
   {
    "duration": 181,
    "start_time": "2023-04-06T21:58:53.547Z"
   },
   {
    "duration": 1095,
    "start_time": "2023-04-06T22:17:04.263Z"
   },
   {
    "duration": 1035,
    "start_time": "2023-04-06T22:21:00.719Z"
   },
   {
    "duration": 884,
    "start_time": "2023-04-06T22:26:21.871Z"
   },
   {
    "duration": 8,
    "start_time": "2023-04-06T22:27:30.242Z"
   },
   {
    "duration": 849,
    "start_time": "2023-04-07T09:49:37.537Z"
   },
   {
    "duration": 77,
    "start_time": "2023-04-07T09:49:38.389Z"
   },
   {
    "duration": 13,
    "start_time": "2023-04-07T09:49:38.467Z"
   },
   {
    "duration": 4,
    "start_time": "2023-04-07T09:49:38.482Z"
   },
   {
    "duration": 16,
    "start_time": "2023-04-07T09:49:38.488Z"
   },
   {
    "duration": 81,
    "start_time": "2023-04-07T09:49:38.505Z"
   },
   {
    "duration": 13,
    "start_time": "2023-04-07T09:49:38.589Z"
   },
   {
    "duration": 5,
    "start_time": "2023-04-07T09:49:38.604Z"
   },
   {
    "duration": 20,
    "start_time": "2023-04-07T09:49:38.611Z"
   },
   {
    "duration": 23,
    "start_time": "2023-04-07T09:49:38.637Z"
   },
   {
    "duration": 60,
    "start_time": "2023-04-07T09:49:38.662Z"
   },
   {
    "duration": 12,
    "start_time": "2023-04-07T09:49:38.730Z"
   },
   {
    "duration": 16,
    "start_time": "2023-04-07T09:49:38.744Z"
   },
   {
    "duration": 9,
    "start_time": "2023-04-07T09:49:38.764Z"
   },
   {
    "duration": 14,
    "start_time": "2023-04-07T09:49:38.775Z"
   },
   {
    "duration": 14,
    "start_time": "2023-04-07T09:49:38.791Z"
   },
   {
    "duration": 25,
    "start_time": "2023-04-07T09:49:38.807Z"
   },
   {
    "duration": 13,
    "start_time": "2023-04-07T09:49:38.834Z"
   },
   {
    "duration": 198,
    "start_time": "2023-04-07T09:49:38.848Z"
   },
   {
    "duration": 172,
    "start_time": "2023-04-07T09:49:39.048Z"
   },
   {
    "duration": 78,
    "start_time": "2023-04-07T09:49:50.019Z"
   },
   {
    "duration": 7,
    "start_time": "2023-04-07T09:50:59.167Z"
   },
   {
    "duration": 320,
    "start_time": "2023-04-07T09:51:02.852Z"
   },
   {
    "duration": 232,
    "start_time": "2023-04-07T09:51:06.856Z"
   },
   {
    "duration": 382,
    "start_time": "2023-04-07T09:51:11.311Z"
   },
   {
    "duration": 1364,
    "start_time": "2023-04-07T09:51:15.561Z"
   },
   {
    "duration": 206,
    "start_time": "2023-04-07T09:54:07.285Z"
   },
   {
    "duration": 213,
    "start_time": "2023-04-07T09:54:20.690Z"
   },
   {
    "duration": 181,
    "start_time": "2023-04-07T09:54:29.232Z"
   },
   {
    "duration": 233,
    "start_time": "2023-04-07T09:54:53.980Z"
   },
   {
    "duration": 13,
    "start_time": "2023-04-07T12:07:51.311Z"
   },
   {
    "duration": 333,
    "start_time": "2023-04-07T12:14:10.816Z"
   },
   {
    "duration": 233,
    "start_time": "2023-04-07T12:16:54.710Z"
   },
   {
    "duration": 3,
    "start_time": "2023-04-07T12:23:40.283Z"
   },
   {
    "duration": 4,
    "start_time": "2023-04-07T12:58:12.629Z"
   },
   {
    "duration": 8,
    "start_time": "2023-04-07T12:59:13.039Z"
   },
   {
    "duration": 4,
    "start_time": "2023-04-07T15:36:31.288Z"
   },
   {
    "duration": 203,
    "start_time": "2023-04-07T15:36:46.023Z"
   },
   {
    "duration": 278,
    "start_time": "2023-04-07T17:59:18.024Z"
   },
   {
    "duration": 9,
    "start_time": "2023-04-07T18:04:19.747Z"
   },
   {
    "duration": 10,
    "start_time": "2023-04-07T18:04:23.183Z"
   },
   {
    "duration": 134,
    "start_time": "2023-04-07T18:05:18.567Z"
   },
   {
    "duration": 6,
    "start_time": "2023-04-07T18:06:29.741Z"
   },
   {
    "duration": 6,
    "start_time": "2023-04-07T18:09:17.047Z"
   },
   {
    "duration": 144,
    "start_time": "2023-04-07T18:10:31.670Z"
   },
   {
    "duration": 214,
    "start_time": "2023-04-07T18:12:02.840Z"
   },
   {
    "duration": 156,
    "start_time": "2023-04-07T18:12:49.166Z"
   },
   {
    "duration": 6,
    "start_time": "2023-04-07T18:14:05.936Z"
   },
   {
    "duration": 6,
    "start_time": "2023-04-07T18:17:43.900Z"
   },
   {
    "duration": 825,
    "start_time": "2023-04-08T06:34:45.491Z"
   },
   {
    "duration": 60,
    "start_time": "2023-04-08T06:34:46.319Z"
   },
   {
    "duration": 14,
    "start_time": "2023-04-08T06:34:46.380Z"
   },
   {
    "duration": 4,
    "start_time": "2023-04-08T06:34:46.397Z"
   },
   {
    "duration": 13,
    "start_time": "2023-04-08T06:34:46.402Z"
   },
   {
    "duration": 68,
    "start_time": "2023-04-08T06:34:46.417Z"
   },
   {
    "duration": 9,
    "start_time": "2023-04-08T06:34:46.487Z"
   },
   {
    "duration": 5,
    "start_time": "2023-04-08T06:34:46.497Z"
   },
   {
    "duration": 12,
    "start_time": "2023-04-08T06:34:46.504Z"
   },
   {
    "duration": 16,
    "start_time": "2023-04-08T06:34:46.519Z"
   },
   {
    "duration": 59,
    "start_time": "2023-04-08T06:34:46.537Z"
   },
   {
    "duration": 10,
    "start_time": "2023-04-08T06:34:46.598Z"
   },
   {
    "duration": 15,
    "start_time": "2023-04-08T06:34:46.609Z"
   },
   {
    "duration": 22,
    "start_time": "2023-04-08T06:34:46.626Z"
   },
   {
    "duration": 22,
    "start_time": "2023-04-08T06:34:46.650Z"
   },
   {
    "duration": 23,
    "start_time": "2023-04-08T06:34:46.673Z"
   },
   {
    "duration": 10,
    "start_time": "2023-04-08T06:34:46.698Z"
   },
   {
    "duration": 15,
    "start_time": "2023-04-08T06:34:46.710Z"
   },
   {
    "duration": 208,
    "start_time": "2023-04-08T06:34:46.727Z"
   },
   {
    "duration": 135,
    "start_time": "2023-04-08T06:34:46.936Z"
   },
   {
    "duration": 6,
    "start_time": "2023-04-08T06:34:47.073Z"
   },
   {
    "duration": 326,
    "start_time": "2023-04-08T06:34:47.081Z"
   },
   {
    "duration": 223,
    "start_time": "2023-04-08T06:34:47.409Z"
   },
   {
    "duration": 402,
    "start_time": "2023-04-08T06:34:47.634Z"
   },
   {
    "duration": 4,
    "start_time": "2023-04-08T06:34:48.038Z"
   },
   {
    "duration": 18,
    "start_time": "2023-04-08T06:34:48.044Z"
   },
   {
    "duration": 251,
    "start_time": "2023-04-08T06:34:48.063Z"
   },
   {
    "duration": 247,
    "start_time": "2023-04-08T06:34:48.317Z"
   },
   {
    "duration": 338,
    "start_time": "2023-04-08T06:34:48.566Z"
   },
   {
    "duration": 7,
    "start_time": "2023-04-08T06:34:48.906Z"
   },
   {
    "duration": 154,
    "start_time": "2023-04-08T06:34:48.914Z"
   },
   {
    "duration": 5,
    "start_time": "2023-04-08T06:34:49.070Z"
   },
   {
    "duration": 1553,
    "start_time": "2023-04-08T06:34:52.682Z"
   },
   {
    "duration": 137,
    "start_time": "2023-04-08T06:38:36.797Z"
   },
   {
    "duration": 152,
    "start_time": "2023-04-08T06:38:56.460Z"
   },
   {
    "duration": 6,
    "start_time": "2023-04-08T06:39:02.877Z"
   },
   {
    "duration": 10,
    "start_time": "2023-04-08T06:51:10.594Z"
   },
   {
    "duration": 14,
    "start_time": "2023-04-08T06:51:27.658Z"
   },
   {
    "duration": 687,
    "start_time": "2023-04-08T06:54:37.557Z"
   },
   {
    "duration": 23,
    "start_time": "2023-04-08T06:54:38.246Z"
   },
   {
    "duration": 13,
    "start_time": "2023-04-08T06:54:38.270Z"
   },
   {
    "duration": 5,
    "start_time": "2023-04-08T06:54:38.285Z"
   },
   {
    "duration": 18,
    "start_time": "2023-04-08T06:54:38.292Z"
   },
   {
    "duration": 32,
    "start_time": "2023-04-08T06:54:38.312Z"
   },
   {
    "duration": 8,
    "start_time": "2023-04-08T06:54:38.346Z"
   },
   {
    "duration": 8,
    "start_time": "2023-04-08T06:54:38.356Z"
   },
   {
    "duration": 14,
    "start_time": "2023-04-08T06:54:38.366Z"
   },
   {
    "duration": 14,
    "start_time": "2023-04-08T06:54:38.383Z"
   },
   {
    "duration": 20,
    "start_time": "2023-04-08T06:54:38.398Z"
   },
   {
    "duration": 10,
    "start_time": "2023-04-08T06:54:38.419Z"
   },
   {
    "duration": 16,
    "start_time": "2023-04-08T06:54:38.431Z"
   },
   {
    "duration": 6,
    "start_time": "2023-04-08T06:54:38.463Z"
   },
   {
    "duration": 13,
    "start_time": "2023-04-08T06:54:38.471Z"
   },
   {
    "duration": 20,
    "start_time": "2023-04-08T06:54:38.486Z"
   },
   {
    "duration": 18,
    "start_time": "2023-04-08T06:54:38.508Z"
   },
   {
    "duration": 9,
    "start_time": "2023-04-08T06:54:38.529Z"
   },
   {
    "duration": 236,
    "start_time": "2023-04-08T06:54:38.540Z"
   },
   {
    "duration": 210,
    "start_time": "2023-04-08T06:54:38.779Z"
   },
   {
    "duration": 13,
    "start_time": "2023-04-08T06:54:43.956Z"
   },
   {
    "duration": 6,
    "start_time": "2023-04-08T06:55:34.957Z"
   },
   {
    "duration": 283,
    "start_time": "2023-04-08T06:56:14.276Z"
   },
   {
    "duration": 200,
    "start_time": "2023-04-08T06:56:44.894Z"
   },
   {
    "duration": 742,
    "start_time": "2023-04-08T06:57:13.836Z"
   },
   {
    "duration": 23,
    "start_time": "2023-04-08T06:57:14.579Z"
   },
   {
    "duration": 11,
    "start_time": "2023-04-08T06:57:14.604Z"
   },
   {
    "duration": 3,
    "start_time": "2023-04-08T06:57:14.617Z"
   },
   {
    "duration": 11,
    "start_time": "2023-04-08T06:57:14.621Z"
   },
   {
    "duration": 38,
    "start_time": "2023-04-08T06:57:14.634Z"
   },
   {
    "duration": 9,
    "start_time": "2023-04-08T06:57:14.673Z"
   },
   {
    "duration": 10,
    "start_time": "2023-04-08T06:57:14.684Z"
   },
   {
    "duration": 14,
    "start_time": "2023-04-08T06:57:14.695Z"
   },
   {
    "duration": 13,
    "start_time": "2023-04-08T06:57:14.712Z"
   },
   {
    "duration": 23,
    "start_time": "2023-04-08T06:57:14.727Z"
   },
   {
    "duration": 10,
    "start_time": "2023-04-08T06:57:14.752Z"
   },
   {
    "duration": 12,
    "start_time": "2023-04-08T06:57:14.763Z"
   },
   {
    "duration": 10,
    "start_time": "2023-04-08T06:57:14.777Z"
   },
   {
    "duration": 9,
    "start_time": "2023-04-08T06:57:14.789Z"
   },
   {
    "duration": 10,
    "start_time": "2023-04-08T06:57:14.799Z"
   },
   {
    "duration": 9,
    "start_time": "2023-04-08T06:57:14.810Z"
   },
   {
    "duration": 12,
    "start_time": "2023-04-08T06:57:14.820Z"
   },
   {
    "duration": 213,
    "start_time": "2023-04-08T06:57:14.834Z"
   },
   {
    "duration": 134,
    "start_time": "2023-04-08T06:57:15.049Z"
   },
   {
    "duration": 7,
    "start_time": "2023-04-08T06:57:15.185Z"
   },
   {
    "duration": 5,
    "start_time": "2023-04-08T06:57:15.194Z"
   },
   {
    "duration": 293,
    "start_time": "2023-04-08T06:57:17.430Z"
   },
   {
    "duration": 5,
    "start_time": "2023-04-08T06:57:24.707Z"
   },
   {
    "duration": 27,
    "start_time": "2023-04-08T06:57:24.714Z"
   },
   {
    "duration": 12,
    "start_time": "2023-04-08T06:57:24.744Z"
   },
   {
    "duration": 4,
    "start_time": "2023-04-08T06:57:24.759Z"
   },
   {
    "duration": 14,
    "start_time": "2023-04-08T06:57:24.766Z"
   },
   {
    "duration": 36,
    "start_time": "2023-04-08T06:57:24.782Z"
   },
   {
    "duration": 9,
    "start_time": "2023-04-08T06:57:24.821Z"
   },
   {
    "duration": 16,
    "start_time": "2023-04-08T06:57:24.833Z"
   },
   {
    "duration": 34,
    "start_time": "2023-04-08T06:57:24.851Z"
   },
   {
    "duration": 15,
    "start_time": "2023-04-08T06:57:24.888Z"
   },
   {
    "duration": 26,
    "start_time": "2023-04-08T06:57:24.905Z"
   },
   {
    "duration": 11,
    "start_time": "2023-04-08T06:57:24.933Z"
   },
   {
    "duration": 19,
    "start_time": "2023-04-08T06:57:24.946Z"
   },
   {
    "duration": 5,
    "start_time": "2023-04-08T06:57:24.968Z"
   },
   {
    "duration": 14,
    "start_time": "2023-04-08T06:57:24.975Z"
   },
   {
    "duration": 9,
    "start_time": "2023-04-08T06:57:24.991Z"
   },
   {
    "duration": 13,
    "start_time": "2023-04-08T06:57:25.003Z"
   },
   {
    "duration": 8,
    "start_time": "2023-04-08T06:57:25.018Z"
   },
   {
    "duration": 229,
    "start_time": "2023-04-08T06:57:25.063Z"
   },
   {
    "duration": 162,
    "start_time": "2023-04-08T06:57:25.294Z"
   },
   {
    "duration": 13,
    "start_time": "2023-04-08T06:57:25.457Z"
   },
   {
    "duration": 9,
    "start_time": "2023-04-08T06:57:25.473Z"
   },
   {
    "duration": 194,
    "start_time": "2023-04-08T06:57:30.581Z"
   },
   {
    "duration": 231,
    "start_time": "2023-04-08T06:57:57.746Z"
   },
   {
    "duration": 282,
    "start_time": "2023-04-08T06:58:51.395Z"
   },
   {
    "duration": 352,
    "start_time": "2023-04-08T06:59:43.678Z"
   },
   {
    "duration": 358,
    "start_time": "2023-04-08T07:01:27.830Z"
   },
   {
    "duration": 316,
    "start_time": "2023-04-08T07:02:12.833Z"
   },
   {
    "duration": 341,
    "start_time": "2023-04-08T07:03:31.049Z"
   },
   {
    "duration": 296,
    "start_time": "2023-04-08T07:04:28.897Z"
   },
   {
    "duration": 152,
    "start_time": "2023-04-08T07:05:37.523Z"
   },
   {
    "duration": 7,
    "start_time": "2023-04-08T07:05:47.536Z"
   },
   {
    "duration": 132,
    "start_time": "2023-04-08T07:05:50.216Z"
   },
   {
    "duration": 5,
    "start_time": "2023-04-08T07:05:53.809Z"
   },
   {
    "duration": 169,
    "start_time": "2023-04-08T07:05:57.194Z"
   },
   {
    "duration": 5,
    "start_time": "2023-04-08T07:06:00.344Z"
   },
   {
    "duration": 80,
    "start_time": "2023-04-08T07:07:27.562Z"
   },
   {
    "duration": 79,
    "start_time": "2023-04-08T07:08:00.289Z"
   },
   {
    "duration": 141,
    "start_time": "2023-04-08T07:08:13.211Z"
   },
   {
    "duration": 24,
    "start_time": "2023-04-08T07:13:04.948Z"
   },
   {
    "duration": 9,
    "start_time": "2023-04-08T07:13:35.892Z"
   },
   {
    "duration": 523,
    "start_time": "2023-04-08T07:14:32.917Z"
   },
   {
    "duration": 394,
    "start_time": "2023-04-08T07:14:37.774Z"
   },
   {
    "duration": 1232,
    "start_time": "2023-04-08T07:14:56.411Z"
   },
   {
    "duration": 23,
    "start_time": "2023-04-08T07:14:57.645Z"
   },
   {
    "duration": 13,
    "start_time": "2023-04-08T07:14:57.670Z"
   },
   {
    "duration": 15,
    "start_time": "2023-04-08T07:14:57.686Z"
   },
   {
    "duration": 35,
    "start_time": "2023-04-08T07:14:57.702Z"
   },
   {
    "duration": 36,
    "start_time": "2023-04-08T07:14:57.739Z"
   },
   {
    "duration": 8,
    "start_time": "2023-04-08T07:14:57.777Z"
   },
   {
    "duration": 5,
    "start_time": "2023-04-08T07:14:57.787Z"
   },
   {
    "duration": 15,
    "start_time": "2023-04-08T07:14:57.794Z"
   },
   {
    "duration": 17,
    "start_time": "2023-04-08T07:14:57.813Z"
   },
   {
    "duration": 25,
    "start_time": "2023-04-08T07:14:57.831Z"
   },
   {
    "duration": 12,
    "start_time": "2023-04-08T07:14:57.858Z"
   },
   {
    "duration": 14,
    "start_time": "2023-04-08T07:14:57.871Z"
   },
   {
    "duration": 6,
    "start_time": "2023-04-08T07:14:57.887Z"
   },
   {
    "duration": 11,
    "start_time": "2023-04-08T07:14:57.895Z"
   },
   {
    "duration": 14,
    "start_time": "2023-04-08T07:14:57.907Z"
   },
   {
    "duration": 9,
    "start_time": "2023-04-08T07:14:57.923Z"
   },
   {
    "duration": 33,
    "start_time": "2023-04-08T07:14:57.934Z"
   },
   {
    "duration": 181,
    "start_time": "2023-04-08T07:14:57.969Z"
   },
   {
    "duration": 140,
    "start_time": "2023-04-08T07:14:58.152Z"
   },
   {
    "duration": 13,
    "start_time": "2023-04-08T07:14:58.294Z"
   },
   {
    "duration": 16,
    "start_time": "2023-04-08T07:14:58.309Z"
   },
   {
    "duration": 320,
    "start_time": "2023-04-08T07:14:58.327Z"
   },
   {
    "duration": 237,
    "start_time": "2023-04-08T07:14:58.649Z"
   },
   {
    "duration": 302,
    "start_time": "2023-04-08T07:14:58.888Z"
   },
   {
    "duration": 260,
    "start_time": "2023-04-08T07:14:59.191Z"
   },
   {
    "duration": 365,
    "start_time": "2023-04-08T07:14:59.453Z"
   },
   {
    "duration": 7,
    "start_time": "2023-04-08T07:14:59.821Z"
   },
   {
    "duration": 148,
    "start_time": "2023-04-08T07:14:59.829Z"
   },
   {
    "duration": 7,
    "start_time": "2023-04-08T07:14:59.979Z"
   },
   {
    "duration": 168,
    "start_time": "2023-04-08T07:14:59.988Z"
   },
   {
    "duration": 99,
    "start_time": "2023-04-08T07:16:44.895Z"
   },
   {
    "duration": 120,
    "start_time": "2023-04-08T07:18:06.122Z"
   },
   {
    "duration": 133,
    "start_time": "2023-04-08T07:18:32.603Z"
   },
   {
    "duration": 16,
    "start_time": "2023-04-08T07:20:18.738Z"
   },
   {
    "duration": 163,
    "start_time": "2023-04-08T07:21:18.434Z"
   },
   {
    "duration": 1343,
    "start_time": "2023-04-08T13:52:24.304Z"
   },
   {
    "duration": 81,
    "start_time": "2023-04-08T13:52:25.649Z"
   },
   {
    "duration": 10,
    "start_time": "2023-04-08T13:52:25.731Z"
   },
   {
    "duration": 9,
    "start_time": "2023-04-08T13:52:25.743Z"
   },
   {
    "duration": 18,
    "start_time": "2023-04-08T13:52:25.753Z"
   },
   {
    "duration": 95,
    "start_time": "2023-04-08T13:52:25.772Z"
   },
   {
    "duration": 7,
    "start_time": "2023-04-08T13:52:25.868Z"
   },
   {
    "duration": 15,
    "start_time": "2023-04-08T13:52:25.876Z"
   },
   {
    "duration": 15,
    "start_time": "2023-04-08T13:52:25.892Z"
   },
   {
    "duration": 12,
    "start_time": "2023-04-08T13:52:25.909Z"
   },
   {
    "duration": 75,
    "start_time": "2023-04-08T13:52:25.922Z"
   },
   {
    "duration": 8,
    "start_time": "2023-04-08T13:52:25.999Z"
   },
   {
    "duration": 10,
    "start_time": "2023-04-08T13:52:26.009Z"
   },
   {
    "duration": 12,
    "start_time": "2023-04-08T13:52:26.021Z"
   },
   {
    "duration": 15,
    "start_time": "2023-04-08T13:52:26.035Z"
   },
   {
    "duration": 11,
    "start_time": "2023-04-08T13:52:26.051Z"
   },
   {
    "duration": 13,
    "start_time": "2023-04-08T13:52:26.063Z"
   },
   {
    "duration": 12,
    "start_time": "2023-04-08T13:52:26.077Z"
   },
   {
    "duration": 156,
    "start_time": "2023-04-08T13:52:26.090Z"
   },
   {
    "duration": 111,
    "start_time": "2023-04-08T13:52:26.248Z"
   },
   {
    "duration": 6,
    "start_time": "2023-04-08T13:52:26.361Z"
   },
   {
    "duration": 10,
    "start_time": "2023-04-08T13:52:26.368Z"
   },
   {
    "duration": 258,
    "start_time": "2023-04-08T13:52:26.379Z"
   },
   {
    "duration": 217,
    "start_time": "2023-04-08T13:52:26.638Z"
   },
   {
    "duration": 331,
    "start_time": "2023-04-08T13:52:26.856Z"
   },
   {
    "duration": 272,
    "start_time": "2023-04-08T13:52:27.189Z"
   },
   {
    "duration": 307,
    "start_time": "2023-04-08T13:52:27.465Z"
   },
   {
    "duration": 6,
    "start_time": "2023-04-08T13:52:27.775Z"
   },
   {
    "duration": 141,
    "start_time": "2023-04-08T13:52:27.782Z"
   },
   {
    "duration": 12,
    "start_time": "2023-04-08T13:52:27.925Z"
   },
   {
    "duration": 155,
    "start_time": "2023-04-08T13:52:27.938Z"
   },
   {
    "duration": 5,
    "start_time": "2023-04-08T13:52:28.094Z"
   },
   {
    "duration": 94,
    "start_time": "2023-04-08T13:52:29.912Z"
   },
   {
    "duration": 44,
    "start_time": "2023-04-08T13:52:58.118Z"
   },
   {
    "duration": 45,
    "start_time": "2023-04-08T13:53:43.647Z"
   },
   {
    "duration": 139,
    "start_time": "2023-04-08T13:53:46.431Z"
   },
   {
    "duration": 47,
    "start_time": "2023-04-08T13:54:03.261Z"
   },
   {
    "duration": 57,
    "start_time": "2023-04-08T13:57:51.029Z"
   },
   {
    "duration": 58,
    "start_time": "2023-04-08T14:01:20.006Z"
   },
   {
    "duration": 19,
    "start_time": "2023-04-08T14:04:30.725Z"
   },
   {
    "duration": 72,
    "start_time": "2023-04-08T14:07:57.442Z"
   },
   {
    "duration": 146,
    "start_time": "2023-04-08T14:08:17.714Z"
   },
   {
    "duration": 9,
    "start_time": "2023-04-08T14:19:10.600Z"
   },
   {
    "duration": 9,
    "start_time": "2023-04-08T14:33:54.558Z"
   },
   {
    "duration": 897,
    "start_time": "2023-04-08T14:37:43.106Z"
   },
   {
    "duration": 2456,
    "start_time": "2023-04-08T14:40:47.721Z"
   },
   {
    "duration": 5,
    "start_time": "2023-04-08T14:41:54.254Z"
   },
   {
    "duration": 1131,
    "start_time": "2023-04-08T14:42:15.392Z"
   },
   {
    "duration": 884,
    "start_time": "2023-04-08T14:42:51.599Z"
   },
   {
    "duration": 1015,
    "start_time": "2023-04-08T14:43:56.804Z"
   },
   {
    "duration": 8,
    "start_time": "2023-04-08T14:44:07.656Z"
   },
   {
    "duration": 9,
    "start_time": "2023-04-08T14:49:57.147Z"
   },
   {
    "duration": 6,
    "start_time": "2023-04-08T14:50:24.511Z"
   },
   {
    "duration": 6,
    "start_time": "2023-04-08T14:51:31.372Z"
   },
   {
    "duration": 6,
    "start_time": "2023-04-08T14:51:52.308Z"
   },
   {
    "duration": 5,
    "start_time": "2023-04-08T14:53:10.877Z"
   },
   {
    "duration": 24,
    "start_time": "2023-04-08T14:53:48.246Z"
   },
   {
    "duration": 10,
    "start_time": "2023-04-08T14:54:36.447Z"
   },
   {
    "duration": 10,
    "start_time": "2023-04-08T15:08:25.663Z"
   },
   {
    "duration": 2611,
    "start_time": "2023-04-08T15:08:43.922Z"
   },
   {
    "duration": 12,
    "start_time": "2023-04-08T15:08:57.618Z"
   },
   {
    "duration": 13,
    "start_time": "2023-04-08T15:09:56.004Z"
   },
   {
    "duration": 12,
    "start_time": "2023-04-08T15:10:50.558Z"
   },
   {
    "duration": 9,
    "start_time": "2023-04-08T15:13:13.714Z"
   },
   {
    "duration": 5,
    "start_time": "2023-04-08T15:45:56.639Z"
   },
   {
    "duration": 5,
    "start_time": "2023-04-08T15:46:07.655Z"
   },
   {
    "duration": 4,
    "start_time": "2023-04-08T15:46:13.290Z"
   },
   {
    "duration": 5,
    "start_time": "2023-04-08T15:46:17.382Z"
   },
   {
    "duration": 5,
    "start_time": "2023-04-08T15:46:25.291Z"
   },
   {
    "duration": 167,
    "start_time": "2023-04-08T16:01:26.469Z"
   },
   {
    "duration": 123,
    "start_time": "2023-04-08T16:01:27.333Z"
   },
   {
    "duration": 1096,
    "start_time": "2023-04-08T16:21:15.957Z"
   },
   {
    "duration": 26,
    "start_time": "2023-04-08T16:21:17.055Z"
   },
   {
    "duration": 10,
    "start_time": "2023-04-08T16:21:17.082Z"
   },
   {
    "duration": 3,
    "start_time": "2023-04-08T16:21:17.094Z"
   },
   {
    "duration": 13,
    "start_time": "2023-04-08T16:21:17.098Z"
   },
   {
    "duration": 40,
    "start_time": "2023-04-08T16:21:17.112Z"
   },
   {
    "duration": 7,
    "start_time": "2023-04-08T16:21:17.153Z"
   },
   {
    "duration": 12,
    "start_time": "2023-04-08T16:21:17.162Z"
   },
   {
    "duration": 11,
    "start_time": "2023-04-08T16:21:17.175Z"
   },
   {
    "duration": 13,
    "start_time": "2023-04-08T16:21:17.189Z"
   },
   {
    "duration": 19,
    "start_time": "2023-04-08T16:21:17.203Z"
   },
   {
    "duration": 10,
    "start_time": "2023-04-08T16:21:17.223Z"
   },
   {
    "duration": 15,
    "start_time": "2023-04-08T16:21:17.235Z"
   },
   {
    "duration": 12,
    "start_time": "2023-04-08T16:21:17.251Z"
   },
   {
    "duration": 14,
    "start_time": "2023-04-08T16:21:17.265Z"
   },
   {
    "duration": 44,
    "start_time": "2023-04-08T16:21:17.280Z"
   },
   {
    "duration": 10,
    "start_time": "2023-04-08T16:21:17.326Z"
   },
   {
    "duration": 10,
    "start_time": "2023-04-08T16:21:17.337Z"
   },
   {
    "duration": 154,
    "start_time": "2023-04-08T16:21:17.349Z"
   },
   {
    "duration": 130,
    "start_time": "2023-04-08T16:21:17.505Z"
   },
   {
    "duration": 7,
    "start_time": "2023-04-08T16:21:17.636Z"
   },
   {
    "duration": 6,
    "start_time": "2023-04-08T16:21:17.645Z"
   },
   {
    "duration": 273,
    "start_time": "2023-04-08T16:21:17.652Z"
   },
   {
    "duration": 189,
    "start_time": "2023-04-08T16:21:17.926Z"
   },
   {
    "duration": 339,
    "start_time": "2023-04-08T16:21:18.117Z"
   },
   {
    "duration": 221,
    "start_time": "2023-04-08T16:21:18.457Z"
   },
   {
    "duration": 276,
    "start_time": "2023-04-08T16:21:18.679Z"
   },
   {
    "duration": 6,
    "start_time": "2023-04-08T16:21:18.958Z"
   },
   {
    "duration": 131,
    "start_time": "2023-04-08T16:21:18.965Z"
   },
   {
    "duration": 4,
    "start_time": "2023-04-08T16:21:19.098Z"
   },
   {
    "duration": 143,
    "start_time": "2023-04-08T16:21:19.104Z"
   },
   {
    "duration": 4,
    "start_time": "2023-04-08T16:21:19.248Z"
   },
   {
    "duration": 57,
    "start_time": "2023-04-08T16:21:19.254Z"
   },
   {
    "duration": 53,
    "start_time": "2023-04-08T16:21:19.312Z"
   },
   {
    "duration": 58,
    "start_time": "2023-04-08T16:21:19.367Z"
   },
   {
    "duration": 52,
    "start_time": "2023-04-08T16:21:19.434Z"
   },
   {
    "duration": 27,
    "start_time": "2023-04-08T16:21:19.487Z"
   },
   {
    "duration": 186,
    "start_time": "2023-04-08T16:21:19.516Z"
   },
   {
    "duration": 10,
    "start_time": "2023-04-08T16:21:19.703Z"
   },
   {
    "duration": 23,
    "start_time": "2023-04-08T16:21:19.714Z"
   },
   {
    "duration": 10,
    "start_time": "2023-04-08T16:21:19.738Z"
   },
   {
    "duration": 7,
    "start_time": "2023-04-08T16:21:19.750Z"
   },
   {
    "duration": 29,
    "start_time": "2023-04-08T16:21:19.758Z"
   },
   {
    "duration": 8,
    "start_time": "2023-04-08T16:21:19.789Z"
   },
   {
    "duration": 8,
    "start_time": "2023-04-08T16:21:22.671Z"
   },
   {
    "duration": 70,
    "start_time": "2023-04-08T19:23:23.527Z"
   },
   {
    "duration": 2103,
    "start_time": "2023-04-08T19:23:32.478Z"
   },
   {
    "duration": 183,
    "start_time": "2023-04-08T19:23:34.583Z"
   },
   {
    "duration": 34,
    "start_time": "2023-04-08T19:23:34.767Z"
   },
   {
    "duration": 10,
    "start_time": "2023-04-08T19:23:34.803Z"
   },
   {
    "duration": 42,
    "start_time": "2023-04-08T19:23:34.815Z"
   },
   {
    "duration": 174,
    "start_time": "2023-04-08T19:23:34.859Z"
   },
   {
    "duration": 22,
    "start_time": "2023-04-08T19:23:35.035Z"
   },
   {
    "duration": 15,
    "start_time": "2023-04-08T19:23:35.058Z"
   },
   {
    "duration": 42,
    "start_time": "2023-04-08T19:23:35.075Z"
   },
   {
    "duration": 42,
    "start_time": "2023-04-08T19:23:35.119Z"
   },
   {
    "duration": 145,
    "start_time": "2023-04-08T19:23:35.164Z"
   },
   {
    "duration": 22,
    "start_time": "2023-04-08T19:23:35.311Z"
   },
   {
    "duration": 34,
    "start_time": "2023-04-08T19:23:35.335Z"
   },
   {
    "duration": 18,
    "start_time": "2023-04-08T19:23:35.373Z"
   },
   {
    "duration": 32,
    "start_time": "2023-04-08T19:23:35.393Z"
   },
   {
    "duration": 38,
    "start_time": "2023-04-08T19:23:35.427Z"
   },
   {
    "duration": 34,
    "start_time": "2023-04-08T19:23:35.471Z"
   },
   {
    "duration": 18,
    "start_time": "2023-04-08T19:23:35.507Z"
   },
   {
    "duration": 453,
    "start_time": "2023-04-08T19:23:35.528Z"
   },
   {
    "duration": 293,
    "start_time": "2023-04-08T19:23:35.984Z"
   },
   {
    "duration": 13,
    "start_time": "2023-04-08T19:23:36.280Z"
   },
   {
    "duration": 6,
    "start_time": "2023-04-08T19:23:36.296Z"
   },
   {
    "duration": 464,
    "start_time": "2023-04-08T19:23:36.305Z"
   },
   {
    "duration": 299,
    "start_time": "2023-04-08T19:23:36.774Z"
   },
   {
    "duration": 480,
    "start_time": "2023-04-08T19:23:37.081Z"
   },
   {
    "duration": 344,
    "start_time": "2023-04-08T19:23:37.569Z"
   },
   {
    "duration": 415,
    "start_time": "2023-04-08T19:23:37.918Z"
   },
   {
    "duration": 21,
    "start_time": "2023-04-08T19:23:38.344Z"
   },
   {
    "duration": 236,
    "start_time": "2023-04-08T19:23:38.369Z"
   },
   {
    "duration": 18,
    "start_time": "2023-04-08T19:23:38.615Z"
   },
   {
    "duration": 8,
    "start_time": "2023-04-08T19:23:41.546Z"
   },
   {
    "duration": 6,
    "start_time": "2023-04-08T19:24:19.242Z"
   },
   {
    "duration": 35,
    "start_time": "2023-04-08T19:24:24.488Z"
   },
   {
    "duration": 152,
    "start_time": "2023-04-08T19:55:14.697Z"
   },
   {
    "duration": 1054,
    "start_time": "2023-04-08T19:55:21.043Z"
   },
   {
    "duration": 25,
    "start_time": "2023-04-08T19:55:22.099Z"
   },
   {
    "duration": 10,
    "start_time": "2023-04-08T19:55:22.125Z"
   },
   {
    "duration": 2,
    "start_time": "2023-04-08T19:55:22.138Z"
   },
   {
    "duration": 15,
    "start_time": "2023-04-08T19:55:22.142Z"
   },
   {
    "duration": 55,
    "start_time": "2023-04-08T19:55:22.158Z"
   },
   {
    "duration": 7,
    "start_time": "2023-04-08T19:55:22.215Z"
   },
   {
    "duration": 5,
    "start_time": "2023-04-08T19:55:22.223Z"
   },
   {
    "duration": 10,
    "start_time": "2023-04-08T19:55:22.229Z"
   },
   {
    "duration": 15,
    "start_time": "2023-04-08T19:55:22.241Z"
   },
   {
    "duration": 47,
    "start_time": "2023-04-08T19:55:22.257Z"
   },
   {
    "duration": 9,
    "start_time": "2023-04-08T19:55:22.306Z"
   },
   {
    "duration": 17,
    "start_time": "2023-04-08T19:55:22.316Z"
   },
   {
    "duration": 4,
    "start_time": "2023-04-08T19:55:22.335Z"
   },
   {
    "duration": 13,
    "start_time": "2023-04-08T19:55:22.340Z"
   },
   {
    "duration": 17,
    "start_time": "2023-04-08T19:55:22.354Z"
   },
   {
    "duration": 15,
    "start_time": "2023-04-08T19:55:22.372Z"
   },
   {
    "duration": 13,
    "start_time": "2023-04-08T19:55:22.390Z"
   },
   {
    "duration": 208,
    "start_time": "2023-04-08T19:55:22.405Z"
   },
   {
    "duration": 146,
    "start_time": "2023-04-08T19:55:22.619Z"
   },
   {
    "duration": 12,
    "start_time": "2023-04-08T19:55:22.767Z"
   },
   {
    "duration": 4,
    "start_time": "2023-04-08T19:55:22.781Z"
   },
   {
    "duration": 317,
    "start_time": "2023-04-08T19:55:22.786Z"
   },
   {
    "duration": 206,
    "start_time": "2023-04-08T19:55:23.105Z"
   },
   {
    "duration": 298,
    "start_time": "2023-04-08T19:55:23.313Z"
   },
   {
    "duration": 241,
    "start_time": "2023-04-08T19:55:23.613Z"
   },
   {
    "duration": 321,
    "start_time": "2023-04-08T19:55:23.856Z"
   },
   {
    "duration": 8,
    "start_time": "2023-04-08T19:55:24.181Z"
   },
   {
    "duration": 135,
    "start_time": "2023-04-08T19:55:24.191Z"
   },
   {
    "duration": 5,
    "start_time": "2023-04-08T19:55:24.327Z"
   },
   {
    "duration": 17,
    "start_time": "2023-04-08T19:55:24.333Z"
   },
   {
    "duration": 157,
    "start_time": "2023-04-08T19:55:24.352Z"
   },
   {
    "duration": 6,
    "start_time": "2023-04-08T19:55:24.511Z"
   },
   {
    "duration": 76,
    "start_time": "2023-04-08T19:55:24.519Z"
   },
   {
    "duration": 43,
    "start_time": "2023-04-08T19:55:24.598Z"
   },
   {
    "duration": 75,
    "start_time": "2023-04-08T19:55:24.643Z"
   },
   {
    "duration": 71,
    "start_time": "2023-04-08T19:55:24.720Z"
   },
   {
    "duration": 23,
    "start_time": "2023-04-08T19:55:24.792Z"
   },
   {
    "duration": 192,
    "start_time": "2023-04-08T19:55:24.817Z"
   },
   {
    "duration": 11,
    "start_time": "2023-04-08T19:55:25.012Z"
   },
   {
    "duration": 7,
    "start_time": "2023-04-08T19:55:25.025Z"
   },
   {
    "duration": 12,
    "start_time": "2023-04-08T19:55:25.034Z"
   },
   {
    "duration": 25,
    "start_time": "2023-04-08T19:55:25.048Z"
   },
   {
    "duration": 33,
    "start_time": "2023-04-08T19:55:25.074Z"
   },
   {
    "duration": 12,
    "start_time": "2023-04-08T19:55:25.109Z"
   },
   {
    "duration": 15,
    "start_time": "2023-04-08T19:55:26.942Z"
   },
   {
    "duration": 4,
    "start_time": "2023-04-08T21:02:01.130Z"
   },
   {
    "duration": 5,
    "start_time": "2023-04-08T21:02:06.209Z"
   },
   {
    "duration": 5,
    "start_time": "2023-04-08T21:02:19.906Z"
   },
   {
    "duration": 1611,
    "start_time": "2023-04-08T21:02:51.913Z"
   },
   {
    "duration": 13,
    "start_time": "2023-04-08T21:03:20.514Z"
   },
   {
    "duration": 1037,
    "start_time": "2023-04-08T21:03:38.128Z"
   },
   {
    "duration": 46,
    "start_time": "2023-04-08T21:03:39.167Z"
   },
   {
    "duration": 11,
    "start_time": "2023-04-08T21:03:39.215Z"
   },
   {
    "duration": 3,
    "start_time": "2023-04-08T21:03:39.228Z"
   },
   {
    "duration": 12,
    "start_time": "2023-04-08T21:03:39.232Z"
   },
   {
    "duration": 64,
    "start_time": "2023-04-08T21:03:39.245Z"
   },
   {
    "duration": 7,
    "start_time": "2023-04-08T21:03:39.311Z"
   },
   {
    "duration": 3,
    "start_time": "2023-04-08T21:03:39.320Z"
   },
   {
    "duration": 10,
    "start_time": "2023-04-08T21:03:39.325Z"
   },
   {
    "duration": 17,
    "start_time": "2023-04-08T21:03:39.337Z"
   },
   {
    "duration": 27,
    "start_time": "2023-04-08T21:03:39.356Z"
   },
   {
    "duration": 10,
    "start_time": "2023-04-08T21:03:39.388Z"
   },
   {
    "duration": 13,
    "start_time": "2023-04-08T21:03:39.399Z"
   },
   {
    "duration": 7,
    "start_time": "2023-04-08T21:03:39.414Z"
   },
   {
    "duration": 21,
    "start_time": "2023-04-08T21:03:45.537Z"
   },
   {
    "duration": 34,
    "start_time": "2023-04-08T21:03:54.858Z"
   },
   {
    "duration": 11,
    "start_time": "2023-04-08T21:04:18.860Z"
   },
   {
    "duration": 6,
    "start_time": "2023-04-08T21:04:31.156Z"
   },
   {
    "duration": 8,
    "start_time": "2023-04-08T21:05:00.904Z"
   },
   {
    "duration": 5,
    "start_time": "2023-04-08T21:06:03.138Z"
   },
   {
    "duration": 5,
    "start_time": "2023-04-08T21:07:57.107Z"
   },
   {
    "duration": 1034,
    "start_time": "2023-04-08T21:59:09.283Z"
   },
   {
    "duration": 23,
    "start_time": "2023-04-08T21:59:10.319Z"
   },
   {
    "duration": 10,
    "start_time": "2023-04-08T21:59:10.344Z"
   },
   {
    "duration": 2,
    "start_time": "2023-04-08T21:59:10.356Z"
   },
   {
    "duration": 19,
    "start_time": "2023-04-08T21:59:10.359Z"
   },
   {
    "duration": 31,
    "start_time": "2023-04-08T21:59:10.383Z"
   },
   {
    "duration": 7,
    "start_time": "2023-04-08T21:59:10.415Z"
   },
   {
    "duration": 5,
    "start_time": "2023-04-08T21:59:10.423Z"
   },
   {
    "duration": 13,
    "start_time": "2023-04-08T21:59:10.429Z"
   },
   {
    "duration": 14,
    "start_time": "2023-04-08T21:59:10.444Z"
   },
   {
    "duration": 34,
    "start_time": "2023-04-08T21:59:10.460Z"
   },
   {
    "duration": 8,
    "start_time": "2023-04-08T21:59:10.495Z"
   },
   {
    "duration": 10,
    "start_time": "2023-04-08T21:59:10.504Z"
   },
   {
    "duration": 5,
    "start_time": "2023-04-08T21:59:10.516Z"
   },
   {
    "duration": 12,
    "start_time": "2023-04-08T21:59:10.523Z"
   },
   {
    "duration": 8,
    "start_time": "2023-04-08T21:59:10.537Z"
   },
   {
    "duration": 11,
    "start_time": "2023-04-08T21:59:10.547Z"
   },
   {
    "duration": 15,
    "start_time": "2023-04-08T21:59:10.559Z"
   },
   {
    "duration": 9,
    "start_time": "2023-04-08T21:59:10.582Z"
   },
   {
    "duration": 19,
    "start_time": "2023-04-08T21:59:10.592Z"
   },
   {
    "duration": 148,
    "start_time": "2023-04-08T21:59:10.612Z"
   },
   {
    "duration": 133,
    "start_time": "2023-04-08T21:59:10.762Z"
   },
   {
    "duration": 8,
    "start_time": "2023-04-08T21:59:10.897Z"
   },
   {
    "duration": 5,
    "start_time": "2023-04-08T21:59:10.907Z"
   },
   {
    "duration": 270,
    "start_time": "2023-04-08T21:59:10.914Z"
   },
   {
    "duration": 174,
    "start_time": "2023-04-08T21:59:11.186Z"
   },
   {
    "duration": 293,
    "start_time": "2023-04-08T21:59:11.368Z"
   },
   {
    "duration": 216,
    "start_time": "2023-04-08T21:59:11.670Z"
   },
   {
    "duration": 301,
    "start_time": "2023-04-08T21:59:11.888Z"
   },
   {
    "duration": 6,
    "start_time": "2023-04-08T21:59:12.190Z"
   },
   {
    "duration": 130,
    "start_time": "2023-04-08T21:59:12.197Z"
   },
   {
    "duration": 4,
    "start_time": "2023-04-08T21:59:12.328Z"
   },
   {
    "duration": 15,
    "start_time": "2023-04-08T21:59:12.333Z"
   },
   {
    "duration": 167,
    "start_time": "2023-04-08T21:59:12.349Z"
   },
   {
    "duration": 6,
    "start_time": "2023-04-08T21:59:12.518Z"
   },
   {
    "duration": 72,
    "start_time": "2023-04-08T21:59:12.527Z"
   },
   {
    "duration": 75,
    "start_time": "2023-04-08T21:59:12.601Z"
   },
   {
    "duration": 55,
    "start_time": "2023-04-08T21:59:12.678Z"
   },
   {
    "duration": 59,
    "start_time": "2023-04-08T21:59:12.734Z"
   },
   {
    "duration": 17,
    "start_time": "2023-04-08T21:59:12.796Z"
   },
   {
    "duration": 167,
    "start_time": "2023-04-08T21:59:12.815Z"
   },
   {
    "duration": 9,
    "start_time": "2023-04-08T21:59:12.983Z"
   },
   {
    "duration": 7,
    "start_time": "2023-04-08T21:59:12.994Z"
   },
   {
    "duration": 5,
    "start_time": "2023-04-08T21:59:13.002Z"
   },
   {
    "duration": 9,
    "start_time": "2023-04-08T21:59:13.008Z"
   },
   {
    "duration": 36,
    "start_time": "2023-04-08T21:59:13.018Z"
   },
   {
    "duration": 24,
    "start_time": "2023-04-08T21:59:13.055Z"
   },
   {
    "duration": 1068,
    "start_time": "2023-04-08T22:12:47.598Z"
   },
   {
    "duration": 26,
    "start_time": "2023-04-08T22:12:48.668Z"
   },
   {
    "duration": 13,
    "start_time": "2023-04-08T22:12:48.696Z"
   },
   {
    "duration": 7,
    "start_time": "2023-04-08T22:12:48.711Z"
   },
   {
    "duration": 19,
    "start_time": "2023-04-08T22:12:48.720Z"
   },
   {
    "duration": 38,
    "start_time": "2023-04-08T22:12:48.741Z"
   },
   {
    "duration": 7,
    "start_time": "2023-04-08T22:12:48.781Z"
   },
   {
    "duration": 8,
    "start_time": "2023-04-08T22:12:48.789Z"
   },
   {
    "duration": 11,
    "start_time": "2023-04-08T22:12:48.799Z"
   },
   {
    "duration": 23,
    "start_time": "2023-04-08T22:12:48.813Z"
   },
   {
    "duration": 26,
    "start_time": "2023-04-08T22:12:48.838Z"
   },
   {
    "duration": 10,
    "start_time": "2023-04-08T22:12:48.866Z"
   },
   {
    "duration": 10,
    "start_time": "2023-04-08T22:12:48.878Z"
   },
   {
    "duration": 7,
    "start_time": "2023-04-08T22:12:48.890Z"
   },
   {
    "duration": 9,
    "start_time": "2023-04-08T22:12:48.899Z"
   },
   {
    "duration": 6,
    "start_time": "2023-04-08T22:12:48.910Z"
   },
   {
    "duration": 11,
    "start_time": "2023-04-08T22:12:48.918Z"
   },
   {
    "duration": 13,
    "start_time": "2023-04-08T22:12:48.930Z"
   },
   {
    "duration": 9,
    "start_time": "2023-04-08T22:12:48.972Z"
   },
   {
    "duration": 6,
    "start_time": "2023-04-08T22:12:48.983Z"
   },
   {
    "duration": 183,
    "start_time": "2023-04-08T22:12:48.991Z"
   },
   {
    "duration": 118,
    "start_time": "2023-04-08T22:12:49.175Z"
   },
   {
    "duration": 6,
    "start_time": "2023-04-08T22:12:49.295Z"
   },
   {
    "duration": 6,
    "start_time": "2023-04-08T22:12:49.303Z"
   },
   {
    "duration": 272,
    "start_time": "2023-04-08T22:12:49.311Z"
   },
   {
    "duration": 187,
    "start_time": "2023-04-08T22:12:49.584Z"
   },
   {
    "duration": 327,
    "start_time": "2023-04-08T22:12:49.773Z"
   },
   {
    "duration": 239,
    "start_time": "2023-04-08T22:12:50.104Z"
   },
   {
    "duration": 330,
    "start_time": "2023-04-08T22:12:50.344Z"
   },
   {
    "duration": 6,
    "start_time": "2023-04-08T22:12:50.675Z"
   },
   {
    "duration": 127,
    "start_time": "2023-04-08T22:12:50.683Z"
   },
   {
    "duration": 4,
    "start_time": "2023-04-08T22:12:50.812Z"
   },
   {
    "duration": 10,
    "start_time": "2023-04-08T22:12:50.817Z"
   },
   {
    "duration": 148,
    "start_time": "2023-04-08T22:12:50.828Z"
   },
   {
    "duration": 4,
    "start_time": "2023-04-08T22:12:50.978Z"
   },
   {
    "duration": 47,
    "start_time": "2023-04-08T22:12:50.983Z"
   },
   {
    "duration": 58,
    "start_time": "2023-04-08T22:12:51.032Z"
   },
   {
    "duration": 65,
    "start_time": "2023-04-08T22:12:51.091Z"
   },
   {
    "duration": 61,
    "start_time": "2023-04-08T22:12:51.158Z"
   },
   {
    "duration": 20,
    "start_time": "2023-04-08T22:12:51.220Z"
   },
   {
    "duration": 173,
    "start_time": "2023-04-08T22:12:51.242Z"
   },
   {
    "duration": 10,
    "start_time": "2023-04-08T22:12:51.416Z"
   },
   {
    "duration": 13,
    "start_time": "2023-04-08T22:12:51.427Z"
   },
   {
    "duration": 13,
    "start_time": "2023-04-08T22:12:51.441Z"
   },
   {
    "duration": 16,
    "start_time": "2023-04-08T22:12:51.456Z"
   },
   {
    "duration": 32,
    "start_time": "2023-04-08T22:12:51.474Z"
   },
   {
    "duration": 13,
    "start_time": "2023-04-08T22:12:51.508Z"
   },
   {
    "duration": 1073,
    "start_time": "2023-04-09T03:36:34.527Z"
   },
   {
    "duration": 27,
    "start_time": "2023-04-09T03:36:35.602Z"
   },
   {
    "duration": 11,
    "start_time": "2023-04-09T03:36:35.630Z"
   },
   {
    "duration": 8,
    "start_time": "2023-04-09T03:36:35.642Z"
   },
   {
    "duration": 25,
    "start_time": "2023-04-09T03:36:35.651Z"
   },
   {
    "duration": 46,
    "start_time": "2023-04-09T03:36:35.677Z"
   },
   {
    "duration": 7,
    "start_time": "2023-04-09T03:36:35.724Z"
   },
   {
    "duration": 14,
    "start_time": "2023-04-09T03:36:35.732Z"
   },
   {
    "duration": 22,
    "start_time": "2023-04-09T03:36:35.748Z"
   },
   {
    "duration": 13,
    "start_time": "2023-04-09T03:36:35.772Z"
   },
   {
    "duration": 21,
    "start_time": "2023-04-09T03:36:35.786Z"
   },
   {
    "duration": 15,
    "start_time": "2023-04-09T03:36:35.809Z"
   },
   {
    "duration": 15,
    "start_time": "2023-04-09T03:36:35.825Z"
   },
   {
    "duration": 5,
    "start_time": "2023-04-09T03:36:35.843Z"
   },
   {
    "duration": 12,
    "start_time": "2023-04-09T03:36:35.849Z"
   },
   {
    "duration": 20,
    "start_time": "2023-04-09T03:36:35.862Z"
   },
   {
    "duration": 9,
    "start_time": "2023-04-09T03:36:35.884Z"
   },
   {
    "duration": 20,
    "start_time": "2023-04-09T03:36:35.894Z"
   },
   {
    "duration": 13,
    "start_time": "2023-04-09T03:36:35.916Z"
   },
   {
    "duration": 33,
    "start_time": "2023-04-09T03:36:35.930Z"
   },
   {
    "duration": 149,
    "start_time": "2023-04-09T03:36:35.964Z"
   },
   {
    "duration": 128,
    "start_time": "2023-04-09T03:36:36.115Z"
   },
   {
    "duration": 6,
    "start_time": "2023-04-09T03:36:36.245Z"
   },
   {
    "duration": 7,
    "start_time": "2023-04-09T03:36:36.253Z"
   },
   {
    "duration": 269,
    "start_time": "2023-04-09T03:36:36.261Z"
   },
   {
    "duration": 186,
    "start_time": "2023-04-09T03:36:36.532Z"
   },
   {
    "duration": 305,
    "start_time": "2023-04-09T03:36:36.720Z"
   },
   {
    "duration": 208,
    "start_time": "2023-04-09T03:36:37.026Z"
   },
   {
    "duration": 306,
    "start_time": "2023-04-09T03:36:37.236Z"
   },
   {
    "duration": 6,
    "start_time": "2023-04-09T03:36:37.543Z"
   },
   {
    "duration": 129,
    "start_time": "2023-04-09T03:36:37.551Z"
   },
   {
    "duration": 5,
    "start_time": "2023-04-09T03:36:37.681Z"
   },
   {
    "duration": 19,
    "start_time": "2023-04-09T03:36:37.687Z"
   },
   {
    "duration": 156,
    "start_time": "2023-04-09T03:36:37.707Z"
   },
   {
    "duration": 4,
    "start_time": "2023-04-09T03:36:37.865Z"
   },
   {
    "duration": 48,
    "start_time": "2023-04-09T03:36:37.871Z"
   },
   {
    "duration": 50,
    "start_time": "2023-04-09T03:36:37.920Z"
   },
   {
    "duration": 78,
    "start_time": "2023-04-09T03:36:37.971Z"
   },
   {
    "duration": 52,
    "start_time": "2023-04-09T03:36:38.051Z"
   },
   {
    "duration": 17,
    "start_time": "2023-04-09T03:36:38.104Z"
   },
   {
    "duration": 170,
    "start_time": "2023-04-09T03:36:38.124Z"
   },
   {
    "duration": 9,
    "start_time": "2023-04-09T03:36:38.296Z"
   },
   {
    "duration": 7,
    "start_time": "2023-04-09T03:36:38.307Z"
   },
   {
    "duration": 20,
    "start_time": "2023-04-09T03:36:38.316Z"
   },
   {
    "duration": 8,
    "start_time": "2023-04-09T03:36:38.338Z"
   },
   {
    "duration": 25,
    "start_time": "2023-04-09T03:36:38.347Z"
   },
   {
    "duration": 11,
    "start_time": "2023-04-09T03:36:38.374Z"
   },
   {
    "duration": 4,
    "start_time": "2023-04-09T03:49:05.212Z"
   },
   {
    "duration": 56,
    "start_time": "2023-04-09T06:57:56.656Z"
   },
   {
    "duration": 1222,
    "start_time": "2023-04-09T06:58:02.884Z"
   },
   {
    "duration": 60,
    "start_time": "2023-04-09T06:58:04.109Z"
   },
   {
    "duration": 140,
    "start_time": "2023-04-09T06:58:04.172Z"
   },
   {
    "duration": 3,
    "start_time": "2023-04-09T06:58:23.255Z"
   },
   {
    "duration": 2,
    "start_time": "2023-04-09T06:58:29.296Z"
   },
   {
    "duration": 974,
    "start_time": "2023-04-09T07:00:34.124Z"
   },
   {
    "duration": 23,
    "start_time": "2023-04-09T07:00:35.100Z"
   },
   {
    "duration": 2,
    "start_time": "2023-04-09T07:00:35.124Z"
   },
   {
    "duration": 97,
    "start_time": "2023-04-09T07:00:35.128Z"
   },
   {
    "duration": 0,
    "start_time": "2023-04-09T07:00:35.227Z"
   },
   {
    "duration": 0,
    "start_time": "2023-04-09T07:00:35.228Z"
   },
   {
    "duration": 1,
    "start_time": "2023-04-09T07:00:35.229Z"
   },
   {
    "duration": 0,
    "start_time": "2023-04-09T07:00:35.231Z"
   },
   {
    "duration": 0,
    "start_time": "2023-04-09T07:00:35.232Z"
   },
   {
    "duration": 0,
    "start_time": "2023-04-09T07:00:35.233Z"
   },
   {
    "duration": 0,
    "start_time": "2023-04-09T07:00:35.234Z"
   },
   {
    "duration": 0,
    "start_time": "2023-04-09T07:00:35.235Z"
   },
   {
    "duration": 0,
    "start_time": "2023-04-09T07:00:35.236Z"
   },
   {
    "duration": 0,
    "start_time": "2023-04-09T07:00:35.237Z"
   },
   {
    "duration": 0,
    "start_time": "2023-04-09T07:00:35.238Z"
   },
   {
    "duration": 0,
    "start_time": "2023-04-09T07:00:35.239Z"
   },
   {
    "duration": 0,
    "start_time": "2023-04-09T07:00:35.240Z"
   },
   {
    "duration": 0,
    "start_time": "2023-04-09T07:00:35.241Z"
   },
   {
    "duration": 0,
    "start_time": "2023-04-09T07:00:35.241Z"
   },
   {
    "duration": 0,
    "start_time": "2023-04-09T07:00:35.242Z"
   },
   {
    "duration": 0,
    "start_time": "2023-04-09T07:00:35.243Z"
   },
   {
    "duration": 0,
    "start_time": "2023-04-09T07:00:35.244Z"
   },
   {
    "duration": 0,
    "start_time": "2023-04-09T07:00:35.245Z"
   },
   {
    "duration": 0,
    "start_time": "2023-04-09T07:00:35.246Z"
   },
   {
    "duration": 116,
    "start_time": "2023-04-09T07:00:37.075Z"
   },
   {
    "duration": 101,
    "start_time": "2023-04-09T07:00:44.556Z"
   },
   {
    "duration": 8,
    "start_time": "2023-04-09T07:01:02.619Z"
   },
   {
    "duration": 989,
    "start_time": "2023-04-09T07:01:16.910Z"
   },
   {
    "duration": 23,
    "start_time": "2023-04-09T07:01:17.901Z"
   },
   {
    "duration": 3,
    "start_time": "2023-04-09T07:01:17.926Z"
   },
   {
    "duration": 20,
    "start_time": "2023-04-09T07:01:17.930Z"
   },
   {
    "duration": 75,
    "start_time": "2023-04-09T07:01:17.952Z"
   },
   {
    "duration": 10,
    "start_time": "2023-04-09T07:01:18.029Z"
   },
   {
    "duration": 19,
    "start_time": "2023-04-09T07:01:18.040Z"
   },
   {
    "duration": 17,
    "start_time": "2023-04-09T07:01:18.061Z"
   },
   {
    "duration": 15,
    "start_time": "2023-04-09T07:01:18.080Z"
   },
   {
    "duration": 60,
    "start_time": "2023-04-09T07:01:18.097Z"
   },
   {
    "duration": 8,
    "start_time": "2023-04-09T07:01:18.158Z"
   },
   {
    "duration": 13,
    "start_time": "2023-04-09T07:01:18.167Z"
   },
   {
    "duration": 12,
    "start_time": "2023-04-09T07:01:18.181Z"
   },
   {
    "duration": 9,
    "start_time": "2023-04-09T07:01:18.195Z"
   },
   {
    "duration": 5,
    "start_time": "2023-04-09T07:01:18.205Z"
   },
   {
    "duration": 13,
    "start_time": "2023-04-09T07:01:18.211Z"
   },
   {
    "duration": 14,
    "start_time": "2023-04-09T07:01:18.225Z"
   },
   {
    "duration": 7,
    "start_time": "2023-04-09T07:01:18.240Z"
   },
   {
    "duration": 7,
    "start_time": "2023-04-09T07:01:18.248Z"
   },
   {
    "duration": 168,
    "start_time": "2023-04-09T07:01:18.256Z"
   },
   {
    "duration": 116,
    "start_time": "2023-04-09T07:01:18.426Z"
   },
   {
    "duration": 7,
    "start_time": "2023-04-09T07:01:18.543Z"
   },
   {
    "duration": 17,
    "start_time": "2023-04-09T07:01:18.551Z"
   },
   {
    "duration": 240,
    "start_time": "2023-04-09T07:01:22.048Z"
   },
   {
    "duration": 166,
    "start_time": "2023-04-09T07:01:26.708Z"
   },
   {
    "duration": 169,
    "start_time": "2023-04-09T07:01:33.268Z"
   },
   {
    "duration": 172,
    "start_time": "2023-04-09T07:01:40.442Z"
   },
   {
    "duration": 1066,
    "start_time": "2023-04-09T07:25:26.151Z"
   },
   {
    "duration": 23,
    "start_time": "2023-04-09T07:25:27.219Z"
   },
   {
    "duration": 22,
    "start_time": "2023-04-09T07:25:27.243Z"
   },
   {
    "duration": 99,
    "start_time": "2023-04-09T07:25:27.267Z"
   },
   {
    "duration": 0,
    "start_time": "2023-04-09T07:25:27.368Z"
   },
   {
    "duration": 0,
    "start_time": "2023-04-09T07:25:27.369Z"
   },
   {
    "duration": 0,
    "start_time": "2023-04-09T07:25:27.370Z"
   },
   {
    "duration": 0,
    "start_time": "2023-04-09T07:25:27.371Z"
   },
   {
    "duration": 0,
    "start_time": "2023-04-09T07:25:27.372Z"
   },
   {
    "duration": 0,
    "start_time": "2023-04-09T07:25:27.373Z"
   },
   {
    "duration": 0,
    "start_time": "2023-04-09T07:25:27.374Z"
   },
   {
    "duration": 0,
    "start_time": "2023-04-09T07:25:27.374Z"
   },
   {
    "duration": 0,
    "start_time": "2023-04-09T07:25:27.375Z"
   },
   {
    "duration": 0,
    "start_time": "2023-04-09T07:25:27.376Z"
   },
   {
    "duration": 0,
    "start_time": "2023-04-09T07:25:27.377Z"
   },
   {
    "duration": 0,
    "start_time": "2023-04-09T07:25:27.381Z"
   },
   {
    "duration": 0,
    "start_time": "2023-04-09T07:25:27.381Z"
   },
   {
    "duration": 0,
    "start_time": "2023-04-09T07:25:27.382Z"
   },
   {
    "duration": 0,
    "start_time": "2023-04-09T07:25:27.383Z"
   },
   {
    "duration": 0,
    "start_time": "2023-04-09T07:25:27.386Z"
   },
   {
    "duration": 0,
    "start_time": "2023-04-09T07:25:27.387Z"
   },
   {
    "duration": 0,
    "start_time": "2023-04-09T07:25:27.388Z"
   },
   {
    "duration": 0,
    "start_time": "2023-04-09T07:25:27.389Z"
   },
   {
    "duration": 0,
    "start_time": "2023-04-09T07:25:27.390Z"
   },
   {
    "duration": 0,
    "start_time": "2023-04-09T07:25:27.391Z"
   },
   {
    "duration": 0,
    "start_time": "2023-04-09T07:25:27.392Z"
   },
   {
    "duration": 0,
    "start_time": "2023-04-09T07:25:27.393Z"
   },
   {
    "duration": 0,
    "start_time": "2023-04-09T07:25:27.394Z"
   },
   {
    "duration": 0,
    "start_time": "2023-04-09T07:25:27.394Z"
   },
   {
    "duration": 0,
    "start_time": "2023-04-09T07:25:27.395Z"
   },
   {
    "duration": 0,
    "start_time": "2023-04-09T07:25:27.396Z"
   },
   {
    "duration": 0,
    "start_time": "2023-04-09T07:25:27.398Z"
   },
   {
    "duration": 0,
    "start_time": "2023-04-09T07:25:27.399Z"
   },
   {
    "duration": 0,
    "start_time": "2023-04-09T07:25:27.401Z"
   },
   {
    "duration": 0,
    "start_time": "2023-04-09T07:25:27.402Z"
   },
   {
    "duration": 0,
    "start_time": "2023-04-09T07:25:27.403Z"
   },
   {
    "duration": 0,
    "start_time": "2023-04-09T07:25:27.404Z"
   },
   {
    "duration": 1,
    "start_time": "2023-04-09T07:25:27.405Z"
   },
   {
    "duration": 0,
    "start_time": "2023-04-09T07:25:27.407Z"
   },
   {
    "duration": 0,
    "start_time": "2023-04-09T07:25:27.408Z"
   },
   {
    "duration": 0,
    "start_time": "2023-04-09T07:25:27.409Z"
   },
   {
    "duration": 0,
    "start_time": "2023-04-09T07:25:27.411Z"
   },
   {
    "duration": 0,
    "start_time": "2023-04-09T07:25:27.412Z"
   },
   {
    "duration": 0,
    "start_time": "2023-04-09T07:25:27.413Z"
   },
   {
    "duration": 0,
    "start_time": "2023-04-09T07:25:27.468Z"
   },
   {
    "duration": 0,
    "start_time": "2023-04-09T07:25:27.469Z"
   },
   {
    "duration": 0,
    "start_time": "2023-04-09T07:25:27.475Z"
   },
   {
    "duration": 8,
    "start_time": "2023-04-09T07:25:47.393Z"
   },
   {
    "duration": 1142,
    "start_time": "2023-04-09T07:25:52.407Z"
   },
   {
    "duration": 24,
    "start_time": "2023-04-09T07:25:54.110Z"
   },
   {
    "duration": 3,
    "start_time": "2023-04-09T07:25:55.614Z"
   },
   {
    "duration": 3,
    "start_time": "2023-04-09T07:26:03.109Z"
   },
   {
    "duration": 2,
    "start_time": "2023-04-09T07:26:10.732Z"
   },
   {
    "duration": 3,
    "start_time": "2023-04-09T07:26:25.856Z"
   },
   {
    "duration": 2,
    "start_time": "2023-04-09T07:26:26.359Z"
   },
   {
    "duration": 3,
    "start_time": "2023-04-09T07:26:53.868Z"
   },
   {
    "duration": 2,
    "start_time": "2023-04-09T07:26:54.543Z"
   },
   {
    "duration": 1137,
    "start_time": "2023-04-09T07:27:00.161Z"
   },
   {
    "duration": 23,
    "start_time": "2023-04-09T07:27:01.299Z"
   },
   {
    "duration": 19,
    "start_time": "2023-04-09T07:27:01.324Z"
   },
   {
    "duration": 48,
    "start_time": "2023-04-09T07:27:01.344Z"
   },
   {
    "duration": 15,
    "start_time": "2023-04-09T07:27:04.686Z"
   },
   {
    "duration": 3,
    "start_time": "2023-04-09T07:27:27.481Z"
   },
   {
    "duration": 13,
    "start_time": "2023-04-09T07:27:34.063Z"
   },
   {
    "duration": 1081,
    "start_time": "2023-04-09T07:27:41.890Z"
   },
   {
    "duration": 28,
    "start_time": "2023-04-09T07:27:42.973Z"
   },
   {
    "duration": 3,
    "start_time": "2023-04-09T07:27:43.002Z"
   },
   {
    "duration": 4,
    "start_time": "2023-04-09T07:27:43.006Z"
   },
   {
    "duration": 10,
    "start_time": "2023-04-09T07:27:45.848Z"
   },
   {
    "duration": 23,
    "start_time": "2023-04-09T07:27:57.416Z"
   },
   {
    "duration": 1018,
    "start_time": "2023-04-09T07:28:36.500Z"
   },
   {
    "duration": 23,
    "start_time": "2023-04-09T07:28:37.519Z"
   },
   {
    "duration": 3,
    "start_time": "2023-04-09T07:28:37.544Z"
   },
   {
    "duration": 20,
    "start_time": "2023-04-09T07:28:37.548Z"
   },
   {
    "duration": 38,
    "start_time": "2023-04-09T07:28:37.569Z"
   },
   {
    "duration": 11,
    "start_time": "2023-04-09T07:28:37.608Z"
   },
   {
    "duration": 5,
    "start_time": "2023-04-09T07:28:37.620Z"
   },
   {
    "duration": 31,
    "start_time": "2023-04-09T07:28:37.626Z"
   },
   {
    "duration": 14,
    "start_time": "2023-04-09T07:28:37.659Z"
   },
   {
    "duration": 82,
    "start_time": "2023-04-09T07:35:26.836Z"
   },
   {
    "duration": 5,
    "start_time": "2023-04-09T07:35:31.153Z"
   },
   {
    "duration": 11,
    "start_time": "2023-04-09T07:35:31.699Z"
   },
   {
    "duration": 10,
    "start_time": "2023-04-09T07:35:43.496Z"
   },
   {
    "duration": 6,
    "start_time": "2023-04-09T07:37:32.975Z"
   },
   {
    "duration": 10,
    "start_time": "2023-04-09T07:37:37.646Z"
   },
   {
    "duration": 22,
    "start_time": "2023-04-09T07:38:13.622Z"
   },
   {
    "duration": 4,
    "start_time": "2023-04-09T07:42:14.720Z"
   },
   {
    "duration": 4,
    "start_time": "2023-04-09T07:42:29.507Z"
   },
   {
    "duration": 12,
    "start_time": "2023-04-09T07:42:35.015Z"
   },
   {
    "duration": 4,
    "start_time": "2023-04-09T07:44:30.262Z"
   },
   {
    "duration": 4,
    "start_time": "2023-04-09T07:44:55.305Z"
   },
   {
    "duration": 5,
    "start_time": "2023-04-09T07:45:03.328Z"
   },
   {
    "duration": 4,
    "start_time": "2023-04-09T07:45:21.274Z"
   },
   {
    "duration": 8,
    "start_time": "2023-04-09T07:46:00.541Z"
   },
   {
    "duration": 15,
    "start_time": "2023-04-09T07:46:06.038Z"
   },
   {
    "duration": 4,
    "start_time": "2023-04-09T07:47:57.890Z"
   },
   {
    "duration": 11,
    "start_time": "2023-04-09T07:48:01.244Z"
   },
   {
    "duration": 9,
    "start_time": "2023-04-09T07:48:02.044Z"
   },
   {
    "duration": 15,
    "start_time": "2023-04-09T07:48:16.035Z"
   },
   {
    "duration": 6,
    "start_time": "2023-04-09T07:50:31.743Z"
   },
   {
    "duration": 10,
    "start_time": "2023-04-09T07:50:35.595Z"
   },
   {
    "duration": 18,
    "start_time": "2023-04-09T07:50:40.460Z"
   },
   {
    "duration": 8,
    "start_time": "2023-04-09T07:52:02.295Z"
   },
   {
    "duration": 55,
    "start_time": "2023-04-09T07:52:12.557Z"
   },
   {
    "duration": 7,
    "start_time": "2023-04-09T07:52:13.162Z"
   },
   {
    "duration": 3,
    "start_time": "2023-04-09T07:52:14.662Z"
   },
   {
    "duration": 11,
    "start_time": "2023-04-09T07:52:15.462Z"
   },
   {
    "duration": 12,
    "start_time": "2023-04-09T07:52:17.834Z"
   },
   {
    "duration": 5,
    "start_time": "2023-04-09T07:52:19.957Z"
   },
   {
    "duration": 10,
    "start_time": "2023-04-09T07:52:20.631Z"
   },
   {
    "duration": 20,
    "start_time": "2023-04-09T07:52:23.935Z"
   },
   {
    "duration": 5,
    "start_time": "2023-04-09T07:52:33.037Z"
   },
   {
    "duration": 14,
    "start_time": "2023-04-09T07:53:09.094Z"
   },
   {
    "duration": 5,
    "start_time": "2023-04-09T08:02:06.178Z"
   },
   {
    "duration": 8,
    "start_time": "2023-04-09T08:05:05.090Z"
   },
   {
    "duration": 26,
    "start_time": "2023-04-09T08:07:30.683Z"
   },
   {
    "duration": 8,
    "start_time": "2023-04-09T08:08:09.103Z"
   },
   {
    "duration": 989,
    "start_time": "2023-04-09T08:08:13.136Z"
   },
   {
    "duration": 29,
    "start_time": "2023-04-09T08:08:14.127Z"
   },
   {
    "duration": 3,
    "start_time": "2023-04-09T08:08:14.158Z"
   },
   {
    "duration": 14,
    "start_time": "2023-04-09T08:08:14.163Z"
   },
   {
    "duration": 29,
    "start_time": "2023-04-09T08:08:14.178Z"
   },
   {
    "duration": 7,
    "start_time": "2023-04-09T08:08:14.209Z"
   },
   {
    "duration": 97,
    "start_time": "2023-04-09T08:08:14.218Z"
   },
   {
    "duration": 0,
    "start_time": "2023-04-09T08:08:14.316Z"
   },
   {
    "duration": 0,
    "start_time": "2023-04-09T08:08:14.318Z"
   },
   {
    "duration": 0,
    "start_time": "2023-04-09T08:08:14.319Z"
   },
   {
    "duration": 0,
    "start_time": "2023-04-09T08:08:14.320Z"
   },
   {
    "duration": 0,
    "start_time": "2023-04-09T08:08:14.321Z"
   },
   {
    "duration": 0,
    "start_time": "2023-04-09T08:08:14.322Z"
   },
   {
    "duration": 1,
    "start_time": "2023-04-09T08:08:14.322Z"
   },
   {
    "duration": 0,
    "start_time": "2023-04-09T08:08:14.323Z"
   },
   {
    "duration": 0,
    "start_time": "2023-04-09T08:08:14.324Z"
   },
   {
    "duration": 0,
    "start_time": "2023-04-09T08:08:14.325Z"
   },
   {
    "duration": 0,
    "start_time": "2023-04-09T08:08:14.327Z"
   },
   {
    "duration": 0,
    "start_time": "2023-04-09T08:08:14.328Z"
   },
   {
    "duration": 0,
    "start_time": "2023-04-09T08:08:14.329Z"
   },
   {
    "duration": 0,
    "start_time": "2023-04-09T08:08:14.330Z"
   },
   {
    "duration": 3,
    "start_time": "2023-04-09T08:08:37.322Z"
   },
   {
    "duration": 12,
    "start_time": "2023-04-09T08:08:39.364Z"
   },
   {
    "duration": 11,
    "start_time": "2023-04-09T08:08:41.662Z"
   },
   {
    "duration": 6,
    "start_time": "2023-04-09T08:08:42.176Z"
   },
   {
    "duration": 8,
    "start_time": "2023-04-09T08:08:43.189Z"
   },
   {
    "duration": 8,
    "start_time": "2023-04-09T08:08:45.941Z"
   },
   {
    "duration": 4,
    "start_time": "2023-04-09T08:09:01.190Z"
   },
   {
    "duration": 10,
    "start_time": "2023-04-09T08:09:06.686Z"
   },
   {
    "duration": 18,
    "start_time": "2023-04-09T08:09:07.631Z"
   },
   {
    "duration": 4,
    "start_time": "2023-04-09T08:09:12.181Z"
   },
   {
    "duration": 13,
    "start_time": "2023-04-09T08:09:12.917Z"
   },
   {
    "duration": 19,
    "start_time": "2023-04-09T08:09:19.318Z"
   },
   {
    "duration": 9,
    "start_time": "2023-04-09T08:09:19.786Z"
   },
   {
    "duration": 9,
    "start_time": "2023-04-09T08:09:20.093Z"
   },
   {
    "duration": 7,
    "start_time": "2023-04-09T08:09:23.188Z"
   },
   {
    "duration": 8,
    "start_time": "2023-04-09T08:12:02.874Z"
   },
   {
    "duration": 6,
    "start_time": "2023-04-09T08:12:06.284Z"
   },
   {
    "duration": 5,
    "start_time": "2023-04-09T08:12:06.862Z"
   },
   {
    "duration": 10,
    "start_time": "2023-04-09T08:12:27.511Z"
   },
   {
    "duration": 7,
    "start_time": "2023-04-09T08:12:38.215Z"
   },
   {
    "duration": 26,
    "start_time": "2023-04-09T08:13:37.215Z"
   },
   {
    "duration": 1121,
    "start_time": "2023-04-09T08:13:45.253Z"
   },
   {
    "duration": 1011,
    "start_time": "2023-04-09T08:14:00.703Z"
   },
   {
    "duration": 27,
    "start_time": "2023-04-09T08:14:01.716Z"
   },
   {
    "duration": 2,
    "start_time": "2023-04-09T08:14:01.745Z"
   },
   {
    "duration": 39,
    "start_time": "2023-04-09T08:14:01.749Z"
   },
   {
    "duration": 47,
    "start_time": "2023-04-09T08:14:01.789Z"
   },
   {
    "duration": 7,
    "start_time": "2023-04-09T08:14:01.837Z"
   },
   {
    "duration": 22,
    "start_time": "2023-04-09T08:14:01.846Z"
   },
   {
    "duration": 34,
    "start_time": "2023-04-09T08:14:01.869Z"
   },
   {
    "duration": 31,
    "start_time": "2023-04-09T08:14:01.904Z"
   },
   {
    "duration": 29,
    "start_time": "2023-04-09T08:14:01.937Z"
   },
   {
    "duration": 18,
    "start_time": "2023-04-09T08:14:01.967Z"
   },
   {
    "duration": 8,
    "start_time": "2023-04-09T08:14:01.986Z"
   },
   {
    "duration": 23,
    "start_time": "2023-04-09T08:14:01.995Z"
   },
   {
    "duration": 42,
    "start_time": "2023-04-09T08:14:02.019Z"
   },
   {
    "duration": 16,
    "start_time": "2023-04-09T08:14:02.063Z"
   },
   {
    "duration": 23,
    "start_time": "2023-04-09T08:14:02.080Z"
   },
   {
    "duration": 33,
    "start_time": "2023-04-09T08:14:02.104Z"
   },
   {
    "duration": 35,
    "start_time": "2023-04-09T08:14:02.138Z"
   },
   {
    "duration": 18,
    "start_time": "2023-04-09T08:14:02.175Z"
   },
   {
    "duration": 7,
    "start_time": "2023-04-09T08:14:02.194Z"
   },
   {
    "duration": 12,
    "start_time": "2023-04-09T08:14:02.203Z"
   },
   {
    "duration": 22,
    "start_time": "2023-04-09T08:14:02.216Z"
   },
   {
    "duration": 15,
    "start_time": "2023-04-09T08:14:02.239Z"
   },
   {
    "duration": 15,
    "start_time": "2023-04-09T08:14:02.255Z"
   },
   {
    "duration": 23,
    "start_time": "2023-04-09T08:14:02.272Z"
   },
   {
    "duration": 25,
    "start_time": "2023-04-09T08:14:20.794Z"
   },
   {
    "duration": 26,
    "start_time": "2023-04-09T08:14:28.904Z"
   },
   {
    "duration": 24,
    "start_time": "2023-04-09T08:14:42.553Z"
   },
   {
    "duration": 25,
    "start_time": "2023-04-09T08:14:48.511Z"
   },
   {
    "duration": 24,
    "start_time": "2023-04-09T08:14:54.913Z"
   },
   {
    "duration": 997,
    "start_time": "2023-04-09T08:15:10.809Z"
   },
   {
    "duration": 27,
    "start_time": "2023-04-09T08:15:11.808Z"
   },
   {
    "duration": 2,
    "start_time": "2023-04-09T08:15:11.837Z"
   },
   {
    "duration": 12,
    "start_time": "2023-04-09T08:15:11.841Z"
   },
   {
    "duration": 29,
    "start_time": "2023-04-09T08:15:11.854Z"
   },
   {
    "duration": 7,
    "start_time": "2023-04-09T08:15:11.884Z"
   },
   {
    "duration": 5,
    "start_time": "2023-04-09T08:15:11.892Z"
   },
   {
    "duration": 10,
    "start_time": "2023-04-09T08:15:11.898Z"
   },
   {
    "duration": 10,
    "start_time": "2023-04-09T08:15:11.910Z"
   },
   {
    "duration": 7,
    "start_time": "2023-04-09T08:15:11.922Z"
   },
   {
    "duration": 9,
    "start_time": "2023-04-09T08:15:11.931Z"
   },
   {
    "duration": 3,
    "start_time": "2023-04-09T08:15:11.942Z"
   },
   {
    "duration": 22,
    "start_time": "2023-04-09T08:15:11.946Z"
   },
   {
    "duration": 20,
    "start_time": "2023-04-09T08:15:11.970Z"
   },
   {
    "duration": 4,
    "start_time": "2023-04-09T08:15:11.992Z"
   },
   {
    "duration": 13,
    "start_time": "2023-04-09T08:15:11.997Z"
   },
   {
    "duration": 11,
    "start_time": "2023-04-09T08:15:12.012Z"
   },
   {
    "duration": 8,
    "start_time": "2023-04-09T08:15:12.024Z"
   },
   {
    "duration": 9,
    "start_time": "2023-04-09T08:15:12.034Z"
   },
   {
    "duration": 26,
    "start_time": "2023-04-09T08:15:12.044Z"
   },
   {
    "duration": 14,
    "start_time": "2023-04-09T08:15:12.071Z"
   },
   {
    "duration": 6,
    "start_time": "2023-04-09T08:15:12.086Z"
   },
   {
    "duration": 4,
    "start_time": "2023-04-09T08:15:12.093Z"
   },
   {
    "duration": 18,
    "start_time": "2023-04-09T08:15:12.098Z"
   },
   {
    "duration": 8,
    "start_time": "2023-04-09T08:15:15.816Z"
   },
   {
    "duration": 7,
    "start_time": "2023-04-09T08:24:04.542Z"
   },
   {
    "duration": 7,
    "start_time": "2023-04-09T08:24:10.203Z"
   },
   {
    "duration": 8,
    "start_time": "2023-04-09T08:24:14.452Z"
   },
   {
    "duration": 100,
    "start_time": "2023-04-09T09:36:41.258Z"
   },
   {
    "duration": 1029,
    "start_time": "2023-04-09T09:36:47.678Z"
   },
   {
    "duration": 29,
    "start_time": "2023-04-09T09:36:48.709Z"
   },
   {
    "duration": 3,
    "start_time": "2023-04-09T09:36:48.740Z"
   },
   {
    "duration": 12,
    "start_time": "2023-04-09T09:36:48.745Z"
   },
   {
    "duration": 35,
    "start_time": "2023-04-09T09:36:48.759Z"
   },
   {
    "duration": 8,
    "start_time": "2023-04-09T09:36:48.795Z"
   },
   {
    "duration": 4,
    "start_time": "2023-04-09T09:36:48.805Z"
   },
   {
    "duration": 13,
    "start_time": "2023-04-09T09:36:48.811Z"
   },
   {
    "duration": 14,
    "start_time": "2023-04-09T09:36:48.825Z"
   },
   {
    "duration": 5,
    "start_time": "2023-04-09T09:36:48.842Z"
   },
   {
    "duration": 8,
    "start_time": "2023-04-09T09:36:48.849Z"
   },
   {
    "duration": 11,
    "start_time": "2023-04-09T09:36:48.859Z"
   },
   {
    "duration": 10,
    "start_time": "2023-04-09T09:36:48.871Z"
   },
   {
    "duration": 20,
    "start_time": "2023-04-09T09:36:48.883Z"
   },
   {
    "duration": 3,
    "start_time": "2023-04-09T09:36:48.905Z"
   },
   {
    "duration": 16,
    "start_time": "2023-04-09T09:36:48.910Z"
   },
   {
    "duration": 11,
    "start_time": "2023-04-09T09:36:48.927Z"
   },
   {
    "duration": 30,
    "start_time": "2023-04-09T09:36:48.940Z"
   },
   {
    "duration": 10,
    "start_time": "2023-04-09T09:36:48.972Z"
   },
   {
    "duration": 22,
    "start_time": "2023-04-09T09:36:48.983Z"
   },
   {
    "duration": 12,
    "start_time": "2023-04-09T09:36:49.006Z"
   },
   {
    "duration": 8,
    "start_time": "2023-04-09T09:36:49.019Z"
   },
   {
    "duration": 6,
    "start_time": "2023-04-09T09:36:49.029Z"
   },
   {
    "duration": 13,
    "start_time": "2023-04-09T09:36:49.036Z"
   },
   {
    "duration": 21,
    "start_time": "2023-04-09T09:36:49.051Z"
   },
   {
    "duration": 8,
    "start_time": "2023-04-09T09:36:49.073Z"
   },
   {
    "duration": 8,
    "start_time": "2023-04-09T09:36:49.082Z"
   },
   {
    "duration": 189,
    "start_time": "2023-04-09T09:36:49.094Z"
   },
   {
    "duration": 137,
    "start_time": "2023-04-09T09:36:49.285Z"
   },
   {
    "duration": 8,
    "start_time": "2023-04-09T09:36:49.423Z"
   },
   {
    "duration": 14,
    "start_time": "2023-04-09T09:36:49.432Z"
   },
   {
    "duration": 83,
    "start_time": "2023-04-09T09:37:21.530Z"
   },
   {
    "duration": 4,
    "start_time": "2023-04-09T09:37:27.520Z"
   },
   {
    "duration": 5,
    "start_time": "2023-04-09T09:37:53.519Z"
   },
   {
    "duration": 4,
    "start_time": "2023-04-09T09:38:05.842Z"
   },
   {
    "duration": 4,
    "start_time": "2023-04-09T09:38:42.510Z"
   },
   {
    "duration": 4,
    "start_time": "2023-04-09T09:38:52.846Z"
   },
   {
    "duration": 5,
    "start_time": "2023-04-09T09:40:58.557Z"
   },
   {
    "duration": 241,
    "start_time": "2023-04-09T09:41:00.522Z"
   },
   {
    "duration": 187,
    "start_time": "2023-04-09T09:41:29.597Z"
   },
   {
    "duration": 195,
    "start_time": "2023-04-09T09:42:23.212Z"
   },
   {
    "duration": 173,
    "start_time": "2023-04-09T09:42:35.409Z"
   },
   {
    "duration": 165,
    "start_time": "2023-04-09T09:42:42.760Z"
   },
   {
    "duration": 149,
    "start_time": "2023-04-09T09:43:28.562Z"
   },
   {
    "duration": 165,
    "start_time": "2023-04-09T09:43:35.071Z"
   },
   {
    "duration": 150,
    "start_time": "2023-04-09T09:44:54.083Z"
   },
   {
    "duration": 70,
    "start_time": "2023-04-09T09:46:57.199Z"
   },
   {
    "duration": 159,
    "start_time": "2023-04-09T09:48:27.747Z"
   },
   {
    "duration": 217,
    "start_time": "2023-04-09T09:49:18.816Z"
   },
   {
    "duration": 1074,
    "start_time": "2023-04-09T09:49:59.552Z"
   },
   {
    "duration": 30,
    "start_time": "2023-04-09T09:50:00.628Z"
   },
   {
    "duration": 3,
    "start_time": "2023-04-09T09:50:00.659Z"
   },
   {
    "duration": 38,
    "start_time": "2023-04-09T09:50:00.664Z"
   },
   {
    "duration": 64,
    "start_time": "2023-04-09T09:50:00.704Z"
   },
   {
    "duration": 7,
    "start_time": "2023-04-09T09:50:00.769Z"
   },
   {
    "duration": 33,
    "start_time": "2023-04-09T09:50:00.778Z"
   },
   {
    "duration": 46,
    "start_time": "2023-04-09T09:50:00.812Z"
   },
   {
    "duration": 65,
    "start_time": "2023-04-09T09:50:00.860Z"
   },
   {
    "duration": 31,
    "start_time": "2023-04-09T09:50:00.928Z"
   },
   {
    "duration": 38,
    "start_time": "2023-04-09T09:50:00.961Z"
   },
   {
    "duration": 50,
    "start_time": "2023-04-09T09:50:01.000Z"
   },
   {
    "duration": 41,
    "start_time": "2023-04-09T09:50:01.051Z"
   },
   {
    "duration": 67,
    "start_time": "2023-04-09T09:50:01.094Z"
   },
   {
    "duration": 28,
    "start_time": "2023-04-09T09:50:01.163Z"
   },
   {
    "duration": 46,
    "start_time": "2023-04-09T09:50:01.193Z"
   },
   {
    "duration": 69,
    "start_time": "2023-04-09T09:50:01.240Z"
   },
   {
    "duration": 29,
    "start_time": "2023-04-09T09:50:01.311Z"
   },
   {
    "duration": 62,
    "start_time": "2023-04-09T09:50:01.342Z"
   },
   {
    "duration": 38,
    "start_time": "2023-04-09T09:50:01.405Z"
   },
   {
    "duration": 68,
    "start_time": "2023-04-09T09:50:01.444Z"
   },
   {
    "duration": 31,
    "start_time": "2023-04-09T09:50:01.513Z"
   },
   {
    "duration": 54,
    "start_time": "2023-04-09T09:50:01.546Z"
   },
   {
    "duration": 47,
    "start_time": "2023-04-09T09:50:01.602Z"
   },
   {
    "duration": 91,
    "start_time": "2023-04-09T09:50:01.650Z"
   },
   {
    "duration": 97,
    "start_time": "2023-04-09T09:50:01.742Z"
   },
   {
    "duration": 23,
    "start_time": "2023-04-09T09:50:01.841Z"
   },
   {
    "duration": 183,
    "start_time": "2023-04-09T09:50:01.868Z"
   },
   {
    "duration": 120,
    "start_time": "2023-04-09T09:50:02.053Z"
   },
   {
    "duration": 6,
    "start_time": "2023-04-09T09:50:02.175Z"
   },
   {
    "duration": 23,
    "start_time": "2023-04-09T09:50:02.182Z"
   },
   {
    "duration": 25,
    "start_time": "2023-04-09T09:50:02.207Z"
   },
   {
    "duration": 12,
    "start_time": "2023-04-09T09:50:02.233Z"
   },
   {
    "duration": 269,
    "start_time": "2023-04-09T09:50:02.246Z"
   },
   {
    "duration": 199,
    "start_time": "2023-04-09T09:50:02.517Z"
   },
   {
    "duration": 259,
    "start_time": "2023-04-09T09:50:02.718Z"
   },
   {
    "duration": 185,
    "start_time": "2023-04-09T09:50:02.979Z"
   },
   {
    "duration": 305,
    "start_time": "2023-04-09T09:50:03.165Z"
   },
   {
    "duration": 6,
    "start_time": "2023-04-09T09:50:03.471Z"
   },
   {
    "duration": 141,
    "start_time": "2023-04-09T09:50:03.478Z"
   },
   {
    "duration": 5,
    "start_time": "2023-04-09T09:50:03.620Z"
   },
   {
    "duration": 21,
    "start_time": "2023-04-09T09:50:03.626Z"
   },
   {
    "duration": 125,
    "start_time": "2023-04-09T09:50:03.648Z"
   },
   {
    "duration": 6,
    "start_time": "2023-04-09T09:50:03.775Z"
   },
   {
    "duration": 47,
    "start_time": "2023-04-09T09:50:03.782Z"
   },
   {
    "duration": 56,
    "start_time": "2023-04-09T09:50:03.831Z"
   },
   {
    "duration": 60,
    "start_time": "2023-04-09T09:50:03.889Z"
   },
   {
    "duration": 58,
    "start_time": "2023-04-09T09:50:03.951Z"
   },
   {
    "duration": 18,
    "start_time": "2023-04-09T09:50:04.010Z"
   },
   {
    "duration": 140,
    "start_time": "2023-04-09T09:50:04.029Z"
   },
   {
    "duration": 9,
    "start_time": "2023-04-09T09:50:04.170Z"
   },
   {
    "duration": 6,
    "start_time": "2023-04-09T09:50:04.180Z"
   },
   {
    "duration": 11,
    "start_time": "2023-04-09T09:50:04.188Z"
   },
   {
    "duration": 10,
    "start_time": "2023-04-09T09:50:04.200Z"
   },
   {
    "duration": 93,
    "start_time": "2023-04-09T09:50:04.211Z"
   },
   {
    "duration": 12,
    "start_time": "2023-04-09T09:50:04.306Z"
   },
   {
    "duration": 153,
    "start_time": "2023-04-09T09:51:33.110Z"
   },
   {
    "duration": 185,
    "start_time": "2023-04-09T09:52:00.720Z"
   },
   {
    "duration": 248,
    "start_time": "2023-04-09T09:52:26.314Z"
   },
   {
    "duration": 155,
    "start_time": "2023-04-09T09:55:15.938Z"
   },
   {
    "duration": 174,
    "start_time": "2023-04-09T09:55:35.826Z"
   },
   {
    "duration": 184,
    "start_time": "2023-04-09T09:55:56.102Z"
   },
   {
    "duration": 290,
    "start_time": "2023-04-09T09:57:22.201Z"
   },
   {
    "duration": 292,
    "start_time": "2023-04-09T09:57:33.857Z"
   },
   {
    "duration": 188,
    "start_time": "2023-04-09T09:59:09.028Z"
   },
   {
    "duration": 232,
    "start_time": "2023-04-09T09:59:50.733Z"
   },
   {
    "duration": 211,
    "start_time": "2023-04-09T10:00:01.702Z"
   },
   {
    "duration": 344,
    "start_time": "2023-04-09T10:00:15.943Z"
   },
   {
    "duration": 197,
    "start_time": "2023-04-09T10:00:24.663Z"
   },
   {
    "duration": 192,
    "start_time": "2023-04-09T10:00:33.106Z"
   },
   {
    "duration": 409,
    "start_time": "2023-04-09T10:02:32.681Z"
   },
   {
    "duration": 318,
    "start_time": "2023-04-09T10:03:02.124Z"
   },
   {
    "duration": 260,
    "start_time": "2023-04-09T10:09:46.110Z"
   },
   {
    "duration": 135,
    "start_time": "2023-04-09T10:38:55.902Z"
   },
   {
    "duration": 140,
    "start_time": "2023-04-09T10:39:04.403Z"
   },
   {
    "duration": 224,
    "start_time": "2023-04-09T10:42:20.735Z"
   },
   {
    "duration": 163,
    "start_time": "2023-04-09T10:43:53.854Z"
   },
   {
    "duration": 143,
    "start_time": "2023-04-09T10:45:19.119Z"
   },
   {
    "duration": 201,
    "start_time": "2023-04-09T10:49:14.618Z"
   },
   {
    "duration": 171,
    "start_time": "2023-04-09T10:51:09.042Z"
   },
   {
    "duration": 120,
    "start_time": "2023-04-09T10:51:39.228Z"
   },
   {
    "duration": 132,
    "start_time": "2023-04-09T10:51:48.323Z"
   },
   {
    "duration": 129,
    "start_time": "2023-04-09T10:52:05.844Z"
   },
   {
    "duration": 163,
    "start_time": "2023-04-09T10:52:17.860Z"
   },
   {
    "duration": 236,
    "start_time": "2023-04-09T10:52:22.919Z"
   },
   {
    "duration": 127,
    "start_time": "2023-04-09T10:52:45.932Z"
   },
   {
    "duration": 124,
    "start_time": "2023-04-09T10:53:01.383Z"
   },
   {
    "duration": 149,
    "start_time": "2023-04-09T10:55:08.875Z"
   },
   {
    "duration": 153,
    "start_time": "2023-04-09T10:56:15.455Z"
   },
   {
    "duration": 149,
    "start_time": "2023-04-09T10:56:53.815Z"
   },
   {
    "duration": 122,
    "start_time": "2023-04-09T10:57:55.122Z"
   },
   {
    "duration": 131,
    "start_time": "2023-04-09T10:58:03.120Z"
   },
   {
    "duration": 126,
    "start_time": "2023-04-09T10:58:26.314Z"
   },
   {
    "duration": 128,
    "start_time": "2023-04-09T10:58:46.918Z"
   },
   {
    "duration": 141,
    "start_time": "2023-04-09T10:59:38.188Z"
   },
   {
    "duration": 153,
    "start_time": "2023-04-09T10:59:57.569Z"
   },
   {
    "duration": 9,
    "start_time": "2023-04-09T11:11:29.508Z"
   },
   {
    "duration": 14,
    "start_time": "2023-04-09T11:22:26.524Z"
   },
   {
    "duration": 5,
    "start_time": "2023-04-09T11:22:31.238Z"
   },
   {
    "duration": 8,
    "start_time": "2023-04-09T11:22:31.754Z"
   },
   {
    "duration": 14,
    "start_time": "2023-04-09T11:22:32.318Z"
   },
   {
    "duration": 20,
    "start_time": "2023-04-09T11:22:32.881Z"
   },
   {
    "duration": 12,
    "start_time": "2023-04-09T11:22:33.883Z"
   },
   {
    "duration": 161,
    "start_time": "2023-04-09T11:22:36.594Z"
   },
   {
    "duration": 12,
    "start_time": "2023-04-09T11:23:14.532Z"
   },
   {
    "duration": 12,
    "start_time": "2023-04-09T11:23:41.749Z"
   },
   {
    "duration": 22,
    "start_time": "2023-04-09T11:24:58.802Z"
   },
   {
    "duration": 3,
    "start_time": "2023-04-09T11:26:01.906Z"
   },
   {
    "duration": 6,
    "start_time": "2023-04-09T11:26:06.339Z"
   },
   {
    "duration": 5,
    "start_time": "2023-04-09T11:26:24.647Z"
   },
   {
    "duration": 7,
    "start_time": "2023-04-09T11:26:35.776Z"
   },
   {
    "duration": 9,
    "start_time": "2023-04-09T11:28:05.646Z"
   },
   {
    "duration": 5,
    "start_time": "2023-04-09T11:28:11.208Z"
   },
   {
    "duration": 6,
    "start_time": "2023-04-09T11:28:13.367Z"
   },
   {
    "duration": 21,
    "start_time": "2023-04-09T11:28:14.455Z"
   },
   {
    "duration": 14,
    "start_time": "2023-04-09T11:28:19.063Z"
   },
   {
    "duration": 81,
    "start_time": "2023-04-09T12:08:47.402Z"
   },
   {
    "duration": 159,
    "start_time": "2023-04-09T12:08:57.644Z"
   },
   {
    "duration": 142,
    "start_time": "2023-04-09T12:13:20.679Z"
   },
   {
    "duration": 143,
    "start_time": "2023-04-09T12:22:51.835Z"
   },
   {
    "duration": 10,
    "start_time": "2023-04-09T12:25:11.164Z"
   },
   {
    "duration": 18,
    "start_time": "2023-04-09T12:30:00.237Z"
   },
   {
    "duration": 195,
    "start_time": "2023-04-09T12:30:52.219Z"
   },
   {
    "duration": 24,
    "start_time": "2023-04-09T12:31:59.787Z"
   },
   {
    "duration": 1189,
    "start_time": "2023-04-09T13:02:24.105Z"
   },
   {
    "duration": 27,
    "start_time": "2023-04-09T13:02:25.296Z"
   },
   {
    "duration": 3,
    "start_time": "2023-04-09T13:02:25.325Z"
   },
   {
    "duration": 11,
    "start_time": "2023-04-09T13:02:25.330Z"
   },
   {
    "duration": 28,
    "start_time": "2023-04-09T13:02:25.342Z"
   },
   {
    "duration": 7,
    "start_time": "2023-04-09T13:02:25.371Z"
   },
   {
    "duration": 4,
    "start_time": "2023-04-09T13:02:25.379Z"
   },
   {
    "duration": 18,
    "start_time": "2023-04-09T13:02:25.385Z"
   },
   {
    "duration": 12,
    "start_time": "2023-04-09T13:02:25.405Z"
   },
   {
    "duration": 9,
    "start_time": "2023-04-09T13:02:25.419Z"
   },
   {
    "duration": 12,
    "start_time": "2023-04-09T13:02:25.431Z"
   },
   {
    "duration": 5,
    "start_time": "2023-04-09T13:02:25.444Z"
   },
   {
    "duration": 15,
    "start_time": "2023-04-09T13:02:25.468Z"
   },
   {
    "duration": 26,
    "start_time": "2023-04-09T13:02:25.485Z"
   },
   {
    "duration": 4,
    "start_time": "2023-04-09T13:02:25.512Z"
   },
   {
    "duration": 12,
    "start_time": "2023-04-09T13:02:25.517Z"
   },
   {
    "duration": 12,
    "start_time": "2023-04-09T13:02:25.530Z"
   },
   {
    "duration": 29,
    "start_time": "2023-04-09T13:02:25.544Z"
   },
   {
    "duration": 9,
    "start_time": "2023-04-09T13:02:25.574Z"
   },
   {
    "duration": 4,
    "start_time": "2023-04-09T13:02:25.584Z"
   },
   {
    "duration": 8,
    "start_time": "2023-04-09T13:02:25.590Z"
   },
   {
    "duration": 6,
    "start_time": "2023-04-09T13:02:25.599Z"
   },
   {
    "duration": 6,
    "start_time": "2023-04-09T13:02:25.606Z"
   },
   {
    "duration": 7,
    "start_time": "2023-04-09T13:02:25.613Z"
   },
   {
    "duration": 10,
    "start_time": "2023-04-09T13:02:25.621Z"
   },
   {
    "duration": 39,
    "start_time": "2023-04-09T13:02:25.632Z"
   },
   {
    "duration": 13,
    "start_time": "2023-04-09T13:02:25.672Z"
   },
   {
    "duration": 151,
    "start_time": "2023-04-09T13:02:25.688Z"
   },
   {
    "duration": 111,
    "start_time": "2023-04-09T13:02:25.841Z"
   },
   {
    "duration": 7,
    "start_time": "2023-04-09T13:02:25.953Z"
   },
   {
    "duration": 4,
    "start_time": "2023-04-09T13:02:25.968Z"
   },
   {
    "duration": 4,
    "start_time": "2023-04-09T13:02:25.974Z"
   },
   {
    "duration": 6,
    "start_time": "2023-04-09T13:02:25.980Z"
   },
   {
    "duration": 264,
    "start_time": "2023-04-09T13:02:25.987Z"
   },
   {
    "duration": 188,
    "start_time": "2023-04-09T13:02:26.253Z"
   },
   {
    "duration": 317,
    "start_time": "2023-04-09T13:02:26.442Z"
   },
   {
    "duration": 202,
    "start_time": "2023-04-09T13:02:26.761Z"
   },
   {
    "duration": 306,
    "start_time": "2023-04-09T13:02:26.964Z"
   },
   {
    "duration": 6,
    "start_time": "2023-04-09T13:02:27.272Z"
   },
   {
    "duration": 153,
    "start_time": "2023-04-09T13:02:27.279Z"
   },
   {
    "duration": 6,
    "start_time": "2023-04-09T13:02:27.434Z"
   },
   {
    "duration": 11,
    "start_time": "2023-04-09T13:02:27.441Z"
   },
   {
    "duration": 137,
    "start_time": "2023-04-09T13:02:27.468Z"
   },
   {
    "duration": 147,
    "start_time": "2023-04-09T13:02:27.606Z"
   },
   {
    "duration": 14,
    "start_time": "2023-04-09T13:02:27.755Z"
   },
   {
    "duration": 7,
    "start_time": "2023-04-09T13:02:27.771Z"
   },
   {
    "duration": 9,
    "start_time": "2023-04-09T13:02:27.780Z"
   },
   {
    "duration": 18,
    "start_time": "2023-04-09T13:02:27.791Z"
   },
   {
    "duration": 16,
    "start_time": "2023-04-09T13:02:27.810Z"
   },
   {
    "duration": 9,
    "start_time": "2023-04-09T13:02:27.828Z"
   },
   {
    "duration": 149,
    "start_time": "2023-04-09T13:02:27.838Z"
   },
   {
    "duration": 9,
    "start_time": "2023-04-09T13:02:27.989Z"
   },
   {
    "duration": 10,
    "start_time": "2023-04-09T13:02:27.999Z"
   },
   {
    "duration": 10,
    "start_time": "2023-04-09T13:02:28.011Z"
   },
   {
    "duration": 6,
    "start_time": "2023-04-09T13:02:28.023Z"
   },
   {
    "duration": 52,
    "start_time": "2023-04-09T13:02:28.031Z"
   },
   {
    "duration": 17,
    "start_time": "2023-04-09T13:02:28.085Z"
   },
   {
    "duration": 156,
    "start_time": "2023-04-09T13:06:14.780Z"
   },
   {
    "duration": 10,
    "start_time": "2023-04-09T13:13:19.717Z"
   },
   {
    "duration": 12,
    "start_time": "2023-04-09T13:14:08.512Z"
   },
   {
    "duration": 1075,
    "start_time": "2023-04-09T13:14:36.240Z"
   },
   {
    "duration": 28,
    "start_time": "2023-04-09T13:14:37.317Z"
   },
   {
    "duration": 3,
    "start_time": "2023-04-09T13:14:37.347Z"
   },
   {
    "duration": 12,
    "start_time": "2023-04-09T13:14:37.352Z"
   },
   {
    "duration": 28,
    "start_time": "2023-04-09T13:14:37.365Z"
   },
   {
    "duration": 6,
    "start_time": "2023-04-09T13:14:37.395Z"
   },
   {
    "duration": 6,
    "start_time": "2023-04-09T13:14:37.402Z"
   },
   {
    "duration": 10,
    "start_time": "2023-04-09T13:14:37.414Z"
   },
   {
    "duration": 11,
    "start_time": "2023-04-09T13:14:37.425Z"
   },
   {
    "duration": 7,
    "start_time": "2023-04-09T13:14:37.439Z"
   },
   {
    "duration": 8,
    "start_time": "2023-04-09T13:14:37.448Z"
   },
   {
    "duration": 5,
    "start_time": "2023-04-09T13:14:37.457Z"
   },
   {
    "duration": 11,
    "start_time": "2023-04-09T13:14:37.468Z"
   },
   {
    "duration": 18,
    "start_time": "2023-04-09T13:14:37.481Z"
   },
   {
    "duration": 3,
    "start_time": "2023-04-09T13:14:37.501Z"
   },
   {
    "duration": 15,
    "start_time": "2023-04-09T13:14:37.506Z"
   },
   {
    "duration": 11,
    "start_time": "2023-04-09T13:14:37.523Z"
   },
   {
    "duration": 8,
    "start_time": "2023-04-09T13:14:37.536Z"
   },
   {
    "duration": 28,
    "start_time": "2023-04-09T13:14:37.545Z"
   },
   {
    "duration": 4,
    "start_time": "2023-04-09T13:14:37.574Z"
   },
   {
    "duration": 6,
    "start_time": "2023-04-09T13:14:37.580Z"
   },
   {
    "duration": 7,
    "start_time": "2023-04-09T13:14:37.587Z"
   },
   {
    "duration": 6,
    "start_time": "2023-04-09T13:14:37.595Z"
   },
   {
    "duration": 12,
    "start_time": "2023-04-09T13:14:37.602Z"
   },
   {
    "duration": 15,
    "start_time": "2023-04-09T13:14:37.615Z"
   },
   {
    "duration": 7,
    "start_time": "2023-04-09T13:14:37.631Z"
   },
   {
    "duration": 29,
    "start_time": "2023-04-09T13:14:37.639Z"
   },
   {
    "duration": 157,
    "start_time": "2023-04-09T13:14:37.671Z"
   },
   {
    "duration": 116,
    "start_time": "2023-04-09T13:14:37.829Z"
   },
   {
    "duration": 7,
    "start_time": "2023-04-09T13:14:37.946Z"
   },
   {
    "duration": 15,
    "start_time": "2023-04-09T13:14:37.954Z"
   },
   {
    "duration": 13,
    "start_time": "2023-04-09T13:14:37.970Z"
   },
   {
    "duration": 23,
    "start_time": "2023-04-09T13:14:37.985Z"
   },
   {
    "duration": 241,
    "start_time": "2023-04-09T13:14:38.010Z"
   },
   {
    "duration": 199,
    "start_time": "2023-04-09T13:14:38.253Z"
   },
   {
    "duration": 302,
    "start_time": "2023-04-09T13:14:38.454Z"
   },
   {
    "duration": 200,
    "start_time": "2023-04-09T13:14:38.768Z"
   },
   {
    "duration": 312,
    "start_time": "2023-04-09T13:14:38.970Z"
   },
   {
    "duration": 7,
    "start_time": "2023-04-09T13:14:39.283Z"
   },
   {
    "duration": 155,
    "start_time": "2023-04-09T13:14:39.291Z"
   },
   {
    "duration": 6,
    "start_time": "2023-04-09T13:14:39.448Z"
   },
   {
    "duration": 19,
    "start_time": "2023-04-09T13:14:39.457Z"
   },
   {
    "duration": 141,
    "start_time": "2023-04-09T13:14:39.478Z"
   },
   {
    "duration": 147,
    "start_time": "2023-04-09T13:14:39.621Z"
   },
   {
    "duration": 6,
    "start_time": "2023-04-09T13:14:39.770Z"
   },
   {
    "duration": 5,
    "start_time": "2023-04-09T13:14:39.778Z"
   },
   {
    "duration": 10,
    "start_time": "2023-04-09T13:14:39.785Z"
   },
   {
    "duration": 15,
    "start_time": "2023-04-09T13:14:39.796Z"
   },
   {
    "duration": 13,
    "start_time": "2023-04-09T13:14:39.812Z"
   },
   {
    "duration": 10,
    "start_time": "2023-04-09T13:14:39.827Z"
   },
   {
    "duration": 164,
    "start_time": "2023-04-09T13:14:39.868Z"
   },
   {
    "duration": 9,
    "start_time": "2023-04-09T13:14:40.033Z"
   },
   {
    "duration": 7,
    "start_time": "2023-04-09T13:14:40.044Z"
   },
   {
    "duration": 18,
    "start_time": "2023-04-09T13:14:40.052Z"
   },
   {
    "duration": 10,
    "start_time": "2023-04-09T13:14:40.072Z"
   },
   {
    "duration": 18,
    "start_time": "2023-04-09T13:14:40.083Z"
   },
   {
    "duration": 11,
    "start_time": "2023-04-09T13:14:40.103Z"
   },
   {
    "duration": 11,
    "start_time": "2023-04-09T13:17:58.707Z"
   },
   {
    "duration": 998,
    "start_time": "2023-04-09T13:18:32.908Z"
   },
   {
    "duration": 27,
    "start_time": "2023-04-09T13:18:33.908Z"
   },
   {
    "duration": 3,
    "start_time": "2023-04-09T13:18:33.936Z"
   },
   {
    "duration": 10,
    "start_time": "2023-04-09T13:18:33.941Z"
   },
   {
    "duration": 29,
    "start_time": "2023-04-09T13:18:33.952Z"
   },
   {
    "duration": 8,
    "start_time": "2023-04-09T13:18:33.982Z"
   },
   {
    "duration": 3,
    "start_time": "2023-04-09T13:18:33.991Z"
   },
   {
    "duration": 10,
    "start_time": "2023-04-09T13:18:33.996Z"
   },
   {
    "duration": 16,
    "start_time": "2023-04-09T13:18:34.008Z"
   },
   {
    "duration": 16,
    "start_time": "2023-04-09T13:18:34.026Z"
   },
   {
    "duration": 7,
    "start_time": "2023-04-09T13:18:34.043Z"
   },
   {
    "duration": 18,
    "start_time": "2023-04-09T13:18:34.051Z"
   },
   {
    "duration": 16,
    "start_time": "2023-04-09T13:18:34.070Z"
   },
   {
    "duration": 17,
    "start_time": "2023-04-09T13:18:34.087Z"
   },
   {
    "duration": 5,
    "start_time": "2023-04-09T13:18:34.106Z"
   },
   {
    "duration": 12,
    "start_time": "2023-04-09T13:18:34.112Z"
   },
   {
    "duration": 18,
    "start_time": "2023-04-09T13:18:34.125Z"
   },
   {
    "duration": 8,
    "start_time": "2023-04-09T13:18:34.145Z"
   },
   {
    "duration": 16,
    "start_time": "2023-04-09T13:18:34.154Z"
   },
   {
    "duration": 11,
    "start_time": "2023-04-09T13:18:34.171Z"
   },
   {
    "duration": 25,
    "start_time": "2023-04-09T13:18:34.184Z"
   },
   {
    "duration": 24,
    "start_time": "2023-04-09T13:18:34.210Z"
   },
   {
    "duration": 29,
    "start_time": "2023-04-09T13:18:34.235Z"
   },
   {
    "duration": 27,
    "start_time": "2023-04-09T13:18:34.265Z"
   },
   {
    "duration": 43,
    "start_time": "2023-04-09T13:18:34.294Z"
   },
   {
    "duration": 10,
    "start_time": "2023-04-09T13:18:34.338Z"
   },
   {
    "duration": 29,
    "start_time": "2023-04-09T13:18:34.350Z"
   },
   {
    "duration": 169,
    "start_time": "2023-04-09T13:18:34.382Z"
   },
   {
    "duration": 116,
    "start_time": "2023-04-09T13:18:34.552Z"
   },
   {
    "duration": 7,
    "start_time": "2023-04-09T13:18:34.670Z"
   },
   {
    "duration": 11,
    "start_time": "2023-04-09T13:18:34.678Z"
   },
   {
    "duration": 19,
    "start_time": "2023-04-09T13:18:34.690Z"
   },
   {
    "duration": 14,
    "start_time": "2023-04-09T13:18:34.710Z"
   },
   {
    "duration": 256,
    "start_time": "2023-04-09T13:18:34.725Z"
   },
   {
    "duration": 193,
    "start_time": "2023-04-09T13:18:34.983Z"
   },
   {
    "duration": 276,
    "start_time": "2023-04-09T13:18:35.178Z"
   },
   {
    "duration": 204,
    "start_time": "2023-04-09T13:18:35.456Z"
   },
   {
    "duration": 320,
    "start_time": "2023-04-09T13:18:35.661Z"
   },
   {
    "duration": 6,
    "start_time": "2023-04-09T13:18:35.982Z"
   },
   {
    "duration": 148,
    "start_time": "2023-04-09T13:18:35.990Z"
   },
   {
    "duration": 4,
    "start_time": "2023-04-09T13:18:36.140Z"
   },
   {
    "duration": 12,
    "start_time": "2023-04-09T13:18:36.145Z"
   },
   {
    "duration": 138,
    "start_time": "2023-04-09T13:18:36.158Z"
   },
   {
    "duration": 137,
    "start_time": "2023-04-09T13:18:36.298Z"
   },
   {
    "duration": 4,
    "start_time": "2023-04-09T13:18:36.436Z"
   },
   {
    "duration": 9,
    "start_time": "2023-04-09T13:18:36.441Z"
   },
   {
    "duration": 8,
    "start_time": "2023-04-09T13:18:36.451Z"
   },
   {
    "duration": 23,
    "start_time": "2023-04-09T13:18:36.460Z"
   },
   {
    "duration": 15,
    "start_time": "2023-04-09T13:18:36.484Z"
   },
   {
    "duration": 18,
    "start_time": "2023-04-09T13:18:36.501Z"
   },
   {
    "duration": 128,
    "start_time": "2023-04-09T13:18:36.520Z"
   },
   {
    "duration": 8,
    "start_time": "2023-04-09T13:18:36.650Z"
   },
   {
    "duration": 14,
    "start_time": "2023-04-09T13:18:36.659Z"
   },
   {
    "duration": 7,
    "start_time": "2023-04-09T13:18:36.674Z"
   },
   {
    "duration": 15,
    "start_time": "2023-04-09T13:18:36.682Z"
   },
   {
    "duration": 20,
    "start_time": "2023-04-09T13:18:36.698Z"
   },
   {
    "duration": 12,
    "start_time": "2023-04-09T13:18:36.719Z"
   },
   {
    "duration": 1210,
    "start_time": "2023-04-09T13:44:36.157Z"
   },
   {
    "duration": 35,
    "start_time": "2023-04-09T13:44:37.369Z"
   },
   {
    "duration": 3,
    "start_time": "2023-04-09T13:44:37.406Z"
   },
   {
    "duration": 13,
    "start_time": "2023-04-09T13:44:37.411Z"
   },
   {
    "duration": 44,
    "start_time": "2023-04-09T13:44:37.426Z"
   },
   {
    "duration": 8,
    "start_time": "2023-04-09T13:44:37.472Z"
   },
   {
    "duration": 17,
    "start_time": "2023-04-09T13:44:37.482Z"
   },
   {
    "duration": 14,
    "start_time": "2023-04-09T13:44:37.500Z"
   },
   {
    "duration": 19,
    "start_time": "2023-04-09T13:44:37.516Z"
   },
   {
    "duration": 11,
    "start_time": "2023-04-09T13:44:37.538Z"
   },
   {
    "duration": 10,
    "start_time": "2023-04-09T13:44:37.551Z"
   },
   {
    "duration": 11,
    "start_time": "2023-04-09T13:44:37.563Z"
   },
   {
    "duration": 27,
    "start_time": "2023-04-09T13:44:37.576Z"
   },
   {
    "duration": 31,
    "start_time": "2023-04-09T13:44:37.605Z"
   },
   {
    "duration": 5,
    "start_time": "2023-04-09T13:44:37.639Z"
   },
   {
    "duration": 43,
    "start_time": "2023-04-09T13:44:37.646Z"
   },
   {
    "duration": 15,
    "start_time": "2023-04-09T13:44:37.691Z"
   },
   {
    "duration": 13,
    "start_time": "2023-04-09T13:44:37.709Z"
   },
   {
    "duration": 20,
    "start_time": "2023-04-09T13:44:37.724Z"
   },
   {
    "duration": 16,
    "start_time": "2023-04-09T13:44:37.746Z"
   },
   {
    "duration": 21,
    "start_time": "2023-04-09T13:44:37.763Z"
   },
   {
    "duration": 12,
    "start_time": "2023-04-09T13:44:37.786Z"
   },
   {
    "duration": 10,
    "start_time": "2023-04-09T13:44:37.800Z"
   },
   {
    "duration": 16,
    "start_time": "2023-04-09T13:44:37.811Z"
   },
   {
    "duration": 13,
    "start_time": "2023-04-09T13:44:37.828Z"
   },
   {
    "duration": 13,
    "start_time": "2023-04-09T13:44:37.843Z"
   },
   {
    "duration": 29,
    "start_time": "2023-04-09T13:44:37.858Z"
   },
   {
    "duration": 195,
    "start_time": "2023-04-09T13:44:37.891Z"
   },
   {
    "duration": 148,
    "start_time": "2023-04-09T13:44:38.088Z"
   },
   {
    "duration": 11,
    "start_time": "2023-04-09T13:44:38.238Z"
   },
   {
    "duration": 7,
    "start_time": "2023-04-09T13:44:38.251Z"
   },
   {
    "duration": 29,
    "start_time": "2023-04-09T13:44:38.260Z"
   },
   {
    "duration": 7,
    "start_time": "2023-04-09T13:44:38.291Z"
   },
   {
    "duration": 386,
    "start_time": "2023-04-09T13:44:38.300Z"
   },
   {
    "duration": 261,
    "start_time": "2023-04-09T13:44:38.688Z"
   },
   {
    "duration": 395,
    "start_time": "2023-04-09T13:44:38.951Z"
   },
   {
    "duration": 253,
    "start_time": "2023-04-09T13:44:39.348Z"
   },
   {
    "duration": 353,
    "start_time": "2023-04-09T13:44:39.603Z"
   },
   {
    "duration": 10,
    "start_time": "2023-04-09T13:44:39.957Z"
   },
   {
    "duration": 230,
    "start_time": "2023-04-09T13:44:39.969Z"
   },
   {
    "duration": 6,
    "start_time": "2023-04-09T13:44:40.201Z"
   },
   {
    "duration": 19,
    "start_time": "2023-04-09T13:44:40.208Z"
   },
   {
    "duration": 221,
    "start_time": "2023-04-09T13:44:40.229Z"
   },
   {
    "duration": 221,
    "start_time": "2023-04-09T13:44:40.452Z"
   },
   {
    "duration": 13,
    "start_time": "2023-04-09T13:44:40.678Z"
   },
   {
    "duration": 21,
    "start_time": "2023-04-09T13:44:40.694Z"
   },
   {
    "duration": 18,
    "start_time": "2023-04-09T13:44:40.717Z"
   },
   {
    "duration": 25,
    "start_time": "2023-04-09T13:44:40.737Z"
   },
   {
    "duration": 15,
    "start_time": "2023-04-09T13:44:40.764Z"
   },
   {
    "duration": 22,
    "start_time": "2023-04-09T13:44:40.781Z"
   },
   {
    "duration": 209,
    "start_time": "2023-04-09T13:44:40.806Z"
   },
   {
    "duration": 12,
    "start_time": "2023-04-09T13:44:41.017Z"
   },
   {
    "duration": 17,
    "start_time": "2023-04-09T13:44:41.031Z"
   },
   {
    "duration": 11,
    "start_time": "2023-04-09T13:44:41.050Z"
   },
   {
    "duration": 10,
    "start_time": "2023-04-09T13:44:41.063Z"
   },
   {
    "duration": 34,
    "start_time": "2023-04-09T13:44:41.075Z"
   },
   {
    "duration": 14,
    "start_time": "2023-04-09T13:44:41.111Z"
   },
   {
    "duration": 11,
    "start_time": "2023-04-09T13:50:58.129Z"
   },
   {
    "duration": 139,
    "start_time": "2023-04-09T13:56:42.626Z"
   },
   {
    "duration": 8,
    "start_time": "2023-04-09T13:56:52.844Z"
   },
   {
    "duration": 8,
    "start_time": "2023-04-09T14:20:31.329Z"
   },
   {
    "duration": 11,
    "start_time": "2023-04-09T14:21:10.617Z"
   },
   {
    "duration": 7,
    "start_time": "2023-04-09T14:21:18.334Z"
   },
   {
    "duration": 53,
    "start_time": "2023-04-09T19:38:38.985Z"
   },
   {
    "duration": 1196,
    "start_time": "2023-04-09T19:38:45.375Z"
   },
   {
    "duration": 66,
    "start_time": "2023-04-09T19:38:46.573Z"
   },
   {
    "duration": 3,
    "start_time": "2023-04-09T19:38:46.640Z"
   },
   {
    "duration": 10,
    "start_time": "2023-04-09T19:38:46.644Z"
   },
   {
    "duration": 93,
    "start_time": "2023-04-09T19:38:46.655Z"
   },
   {
    "duration": 7,
    "start_time": "2023-04-09T19:38:46.750Z"
   },
   {
    "duration": 3,
    "start_time": "2023-04-09T19:38:46.758Z"
   },
   {
    "duration": 9,
    "start_time": "2023-04-09T19:38:46.762Z"
   },
   {
    "duration": 11,
    "start_time": "2023-04-09T19:38:46.773Z"
   },
   {
    "duration": 7,
    "start_time": "2023-04-09T19:38:46.786Z"
   },
   {
    "duration": 7,
    "start_time": "2023-04-09T19:38:46.794Z"
   },
   {
    "duration": 95,
    "start_time": "2023-04-09T19:38:48.355Z"
   },
   {
    "duration": 8,
    "start_time": "2023-04-09T19:38:59.251Z"
   },
   {
    "duration": 5,
    "start_time": "2023-04-09T19:39:01.764Z"
   },
   {
    "duration": 5,
    "start_time": "2023-04-09T19:39:02.292Z"
   },
   {
    "duration": 8,
    "start_time": "2023-04-09T19:40:26.369Z"
   },
   {
    "duration": 7,
    "start_time": "2023-04-09T19:41:03.662Z"
   },
   {
    "duration": 3,
    "start_time": "2023-04-09T19:41:40.550Z"
   },
   {
    "duration": 9,
    "start_time": "2023-04-09T19:41:44.740Z"
   },
   {
    "duration": 4,
    "start_time": "2023-04-09T19:42:03.566Z"
   },
   {
    "duration": 2,
    "start_time": "2023-04-09T19:43:11.201Z"
   },
   {
    "duration": 9,
    "start_time": "2023-04-09T19:43:15.424Z"
   },
   {
    "duration": 3,
    "start_time": "2023-04-09T19:43:30.464Z"
   },
   {
    "duration": 3,
    "start_time": "2023-04-09T19:45:35.952Z"
   },
   {
    "duration": 4,
    "start_time": "2023-04-09T19:45:39.600Z"
   },
   {
    "duration": 3,
    "start_time": "2023-04-09T19:45:46.953Z"
   },
   {
    "duration": 3,
    "start_time": "2023-04-09T19:47:20.801Z"
   },
   {
    "duration": 4,
    "start_time": "2023-04-09T19:48:23.491Z"
   },
   {
    "duration": 12,
    "start_time": "2023-04-09T19:48:28.621Z"
   },
   {
    "duration": 1027,
    "start_time": "2023-04-09T19:51:20.346Z"
   },
   {
    "duration": 30,
    "start_time": "2023-04-09T19:51:21.375Z"
   },
   {
    "duration": 3,
    "start_time": "2023-04-09T19:51:21.406Z"
   },
   {
    "duration": 14,
    "start_time": "2023-04-09T19:51:21.411Z"
   },
   {
    "duration": 56,
    "start_time": "2023-04-09T19:51:21.426Z"
   },
   {
    "duration": 7,
    "start_time": "2023-04-09T19:51:21.483Z"
   },
   {
    "duration": 13,
    "start_time": "2023-04-09T19:51:21.491Z"
   },
   {
    "duration": 10,
    "start_time": "2023-04-09T19:51:21.505Z"
   },
   {
    "duration": 18,
    "start_time": "2023-04-09T19:51:21.516Z"
   },
   {
    "duration": 21,
    "start_time": "2023-04-09T19:51:21.536Z"
   },
   {
    "duration": 14,
    "start_time": "2023-04-09T19:51:21.558Z"
   },
   {
    "duration": 92,
    "start_time": "2023-04-09T19:51:57.834Z"
   },
   {
    "duration": 4,
    "start_time": "2023-04-09T19:51:59.982Z"
   },
   {
    "duration": 19,
    "start_time": "2023-04-09T19:52:00.658Z"
   },
   {
    "duration": 5,
    "start_time": "2023-04-09T19:52:22.565Z"
   },
   {
    "duration": 13,
    "start_time": "2023-04-09T19:52:26.914Z"
   },
   {
    "duration": 1064,
    "start_time": "2023-04-09T19:55:47.524Z"
   },
   {
    "duration": 31,
    "start_time": "2023-04-09T19:55:48.589Z"
   },
   {
    "duration": 3,
    "start_time": "2023-04-09T19:55:48.621Z"
   },
   {
    "duration": 11,
    "start_time": "2023-04-09T19:55:48.626Z"
   },
   {
    "duration": 31,
    "start_time": "2023-04-09T19:55:48.639Z"
   },
   {
    "duration": 6,
    "start_time": "2023-04-09T19:55:48.672Z"
   },
   {
    "duration": 4,
    "start_time": "2023-04-09T19:55:48.679Z"
   },
   {
    "duration": 8,
    "start_time": "2023-04-09T19:55:48.685Z"
   },
   {
    "duration": 11,
    "start_time": "2023-04-09T19:55:48.695Z"
   },
   {
    "duration": 9,
    "start_time": "2023-04-09T19:55:48.708Z"
   },
   {
    "duration": 11,
    "start_time": "2023-04-09T19:55:48.718Z"
   },
   {
    "duration": 6,
    "start_time": "2023-04-09T19:55:48.731Z"
   },
   {
    "duration": 8,
    "start_time": "2023-04-09T19:55:48.739Z"
   },
   {
    "duration": 3,
    "start_time": "2023-04-09T19:55:48.749Z"
   },
   {
    "duration": 12,
    "start_time": "2023-04-09T19:55:50.648Z"
   },
   {
    "duration": 983,
    "start_time": "2023-04-09T20:05:48.095Z"
   },
   {
    "duration": 29,
    "start_time": "2023-04-09T20:05:49.080Z"
   },
   {
    "duration": 3,
    "start_time": "2023-04-09T20:05:49.111Z"
   },
   {
    "duration": 10,
    "start_time": "2023-04-09T20:05:49.115Z"
   },
   {
    "duration": 32,
    "start_time": "2023-04-09T20:05:49.127Z"
   },
   {
    "duration": 7,
    "start_time": "2023-04-09T20:05:49.160Z"
   },
   {
    "duration": 3,
    "start_time": "2023-04-09T20:05:49.168Z"
   },
   {
    "duration": 13,
    "start_time": "2023-04-09T20:05:49.172Z"
   },
   {
    "duration": 12,
    "start_time": "2023-04-09T20:05:49.186Z"
   },
   {
    "duration": 5,
    "start_time": "2023-04-09T20:05:49.199Z"
   },
   {
    "duration": 7,
    "start_time": "2023-04-09T20:05:49.205Z"
   },
   {
    "duration": 4,
    "start_time": "2023-04-09T20:05:49.214Z"
   },
   {
    "duration": 8,
    "start_time": "2023-04-09T20:05:49.219Z"
   },
   {
    "duration": 10,
    "start_time": "2023-04-09T20:05:49.230Z"
   },
   {
    "duration": 11,
    "start_time": "2023-04-09T20:05:49.242Z"
   },
   {
    "duration": 56,
    "start_time": "2023-04-09T20:05:49.254Z"
   },
   {
    "duration": 8,
    "start_time": "2023-04-09T20:05:49.311Z"
   },
   {
    "duration": 8,
    "start_time": "2023-04-09T20:05:49.320Z"
   },
   {
    "duration": 4,
    "start_time": "2023-04-09T20:05:49.330Z"
   },
   {
    "duration": 12,
    "start_time": "2023-04-09T20:05:49.335Z"
   },
   {
    "duration": 8,
    "start_time": "2023-04-09T20:05:49.348Z"
   },
   {
    "duration": 18,
    "start_time": "2023-04-09T20:05:49.357Z"
   },
   {
    "duration": 9,
    "start_time": "2023-04-09T20:05:49.376Z"
   },
   {
    "duration": 12,
    "start_time": "2023-04-09T20:05:49.386Z"
   },
   {
    "duration": 6,
    "start_time": "2023-04-09T20:05:49.400Z"
   },
   {
    "duration": 5,
    "start_time": "2023-04-09T20:05:49.408Z"
   },
   {
    "duration": 150,
    "start_time": "2023-04-09T20:05:49.414Z"
   },
   {
    "duration": 118,
    "start_time": "2023-04-09T20:05:49.566Z"
   },
   {
    "duration": 7,
    "start_time": "2023-04-09T20:05:49.685Z"
   },
   {
    "duration": 4,
    "start_time": "2023-04-09T20:05:49.694Z"
   },
   {
    "duration": 4,
    "start_time": "2023-04-09T20:05:49.699Z"
   },
   {
    "duration": 4,
    "start_time": "2023-04-09T20:05:49.704Z"
   },
   {
    "duration": 269,
    "start_time": "2023-04-09T20:05:49.709Z"
   },
   {
    "duration": 187,
    "start_time": "2023-04-09T20:05:49.979Z"
   },
   {
    "duration": 272,
    "start_time": "2023-04-09T20:05:50.168Z"
   },
   {
    "duration": 219,
    "start_time": "2023-04-09T20:05:50.441Z"
   },
   {
    "duration": 304,
    "start_time": "2023-04-09T20:05:50.661Z"
   },
   {
    "duration": 6,
    "start_time": "2023-04-09T20:05:50.967Z"
   },
   {
    "duration": 153,
    "start_time": "2023-04-09T20:05:50.974Z"
   },
   {
    "duration": 4,
    "start_time": "2023-04-09T20:05:51.128Z"
   },
   {
    "duration": 9,
    "start_time": "2023-04-09T20:05:51.139Z"
   },
   {
    "duration": 150,
    "start_time": "2023-04-09T20:05:51.149Z"
   },
   {
    "duration": 143,
    "start_time": "2023-04-09T20:05:51.301Z"
   },
   {
    "duration": 4,
    "start_time": "2023-04-09T20:05:51.446Z"
   },
   {
    "duration": 4,
    "start_time": "2023-04-09T20:05:51.452Z"
   },
   {
    "duration": 16,
    "start_time": "2023-04-09T20:05:51.458Z"
   },
   {
    "duration": 12,
    "start_time": "2023-04-09T20:05:51.476Z"
   },
   {
    "duration": 14,
    "start_time": "2023-04-09T20:05:51.489Z"
   },
   {
    "duration": 9,
    "start_time": "2023-04-09T20:05:51.504Z"
   },
   {
    "duration": 156,
    "start_time": "2023-04-09T20:05:51.514Z"
   },
   {
    "duration": 10,
    "start_time": "2023-04-09T20:05:51.672Z"
   },
   {
    "duration": 8,
    "start_time": "2023-04-09T20:05:51.684Z"
   },
   {
    "duration": 8,
    "start_time": "2023-04-09T20:05:51.693Z"
   },
   {
    "duration": 5,
    "start_time": "2023-04-09T20:05:51.703Z"
   },
   {
    "duration": 46,
    "start_time": "2023-04-09T20:05:51.709Z"
   },
   {
    "duration": 24,
    "start_time": "2023-04-09T20:05:51.756Z"
   },
   {
    "duration": 1107,
    "start_time": "2023-04-09T20:21:52.225Z"
   },
   {
    "duration": 33,
    "start_time": "2023-04-09T20:21:53.334Z"
   },
   {
    "duration": 3,
    "start_time": "2023-04-09T20:21:53.368Z"
   },
   {
    "duration": 9,
    "start_time": "2023-04-09T20:21:53.373Z"
   },
   {
    "duration": 34,
    "start_time": "2023-04-09T20:21:53.383Z"
   },
   {
    "duration": 7,
    "start_time": "2023-04-09T20:21:53.418Z"
   },
   {
    "duration": 3,
    "start_time": "2023-04-09T20:21:53.426Z"
   },
   {
    "duration": 10,
    "start_time": "2023-04-09T20:21:53.430Z"
   },
   {
    "duration": 30,
    "start_time": "2023-04-09T20:21:53.442Z"
   },
   {
    "duration": 6,
    "start_time": "2023-04-09T20:21:53.475Z"
   },
   {
    "duration": 8,
    "start_time": "2023-04-09T20:21:53.482Z"
   },
   {
    "duration": 4,
    "start_time": "2023-04-09T20:21:53.491Z"
   },
   {
    "duration": 4,
    "start_time": "2023-04-09T20:21:53.496Z"
   },
   {
    "duration": 3,
    "start_time": "2023-04-09T20:21:53.501Z"
   },
   {
    "duration": 41,
    "start_time": "2023-04-09T20:21:53.506Z"
   },
   {
    "duration": 15,
    "start_time": "2023-04-09T20:21:53.552Z"
   },
   {
    "duration": 12,
    "start_time": "2023-04-09T20:21:53.568Z"
   },
   {
    "duration": 9,
    "start_time": "2023-04-09T20:21:53.581Z"
   },
   {
    "duration": 5,
    "start_time": "2023-04-09T20:21:53.592Z"
   },
   {
    "duration": 5,
    "start_time": "2023-04-09T20:21:53.598Z"
   },
   {
    "duration": 5,
    "start_time": "2023-04-09T20:21:53.604Z"
   },
   {
    "duration": 4,
    "start_time": "2023-04-09T20:21:53.610Z"
   },
   {
    "duration": 34,
    "start_time": "2023-04-09T20:21:53.615Z"
   },
   {
    "duration": 13,
    "start_time": "2023-04-09T20:21:53.651Z"
   },
   {
    "duration": 7,
    "start_time": "2023-04-09T20:21:53.665Z"
   },
   {
    "duration": 4,
    "start_time": "2023-04-09T20:21:53.673Z"
   },
   {
    "duration": 179,
    "start_time": "2023-04-09T20:21:53.678Z"
   },
   {
    "duration": 112,
    "start_time": "2023-04-09T20:21:53.861Z"
   },
   {
    "duration": 7,
    "start_time": "2023-04-09T20:21:53.974Z"
   },
   {
    "duration": 4,
    "start_time": "2023-04-09T20:21:53.982Z"
   },
   {
    "duration": 8,
    "start_time": "2023-04-09T20:21:53.988Z"
   },
   {
    "duration": 4,
    "start_time": "2023-04-09T20:21:53.997Z"
   },
   {
    "duration": 286,
    "start_time": "2023-04-09T20:21:54.002Z"
   },
   {
    "duration": 208,
    "start_time": "2023-04-09T20:21:54.290Z"
   },
   {
    "duration": 347,
    "start_time": "2023-04-09T20:21:54.500Z"
   },
   {
    "duration": 214,
    "start_time": "2023-04-09T20:21:54.849Z"
   },
   {
    "duration": 306,
    "start_time": "2023-04-09T20:21:55.065Z"
   },
   {
    "duration": 5,
    "start_time": "2023-04-09T20:21:55.373Z"
   },
   {
    "duration": 161,
    "start_time": "2023-04-09T20:21:55.379Z"
   },
   {
    "duration": 5,
    "start_time": "2023-04-09T20:21:55.541Z"
   },
   {
    "duration": 13,
    "start_time": "2023-04-09T20:21:55.548Z"
   },
   {
    "duration": 148,
    "start_time": "2023-04-09T20:21:55.562Z"
   },
   {
    "duration": 143,
    "start_time": "2023-04-09T20:21:55.711Z"
   },
   {
    "duration": 4,
    "start_time": "2023-04-09T20:21:55.856Z"
   },
   {
    "duration": 5,
    "start_time": "2023-04-09T20:21:55.861Z"
   },
   {
    "duration": 7,
    "start_time": "2023-04-09T20:21:55.867Z"
   },
   {
    "duration": 22,
    "start_time": "2023-04-09T20:21:55.875Z"
   },
   {
    "duration": 11,
    "start_time": "2023-04-09T20:21:55.898Z"
   },
   {
    "duration": 29,
    "start_time": "2023-04-09T20:21:55.911Z"
   },
   {
    "duration": 152,
    "start_time": "2023-04-09T20:21:55.942Z"
   },
   {
    "duration": 9,
    "start_time": "2023-04-09T20:21:56.095Z"
   },
   {
    "duration": 7,
    "start_time": "2023-04-09T20:21:56.105Z"
   },
   {
    "duration": 5,
    "start_time": "2023-04-09T20:21:56.113Z"
   },
   {
    "duration": 21,
    "start_time": "2023-04-09T20:21:56.119Z"
   },
   {
    "duration": 21,
    "start_time": "2023-04-09T20:21:56.141Z"
   },
   {
    "duration": 13,
    "start_time": "2023-04-09T20:21:56.163Z"
   },
   {
    "duration": 992,
    "start_time": "2023-04-10T02:07:41.789Z"
   },
   {
    "duration": 33,
    "start_time": "2023-04-10T02:07:42.782Z"
   },
   {
    "duration": 4,
    "start_time": "2023-04-10T02:07:42.816Z"
   },
   {
    "duration": 13,
    "start_time": "2023-04-10T02:07:42.821Z"
   },
   {
    "duration": 39,
    "start_time": "2023-04-10T02:07:42.835Z"
   },
   {
    "duration": 7,
    "start_time": "2023-04-10T02:07:42.875Z"
   },
   {
    "duration": 5,
    "start_time": "2023-04-10T02:07:42.884Z"
   },
   {
    "duration": 11,
    "start_time": "2023-04-10T02:07:42.890Z"
   },
   {
    "duration": 11,
    "start_time": "2023-04-10T02:07:42.903Z"
   },
   {
    "duration": 11,
    "start_time": "2023-04-10T02:07:42.916Z"
   },
   {
    "duration": 18,
    "start_time": "2023-04-10T02:07:42.929Z"
   },
   {
    "duration": 5,
    "start_time": "2023-04-10T02:07:42.949Z"
   },
   {
    "duration": 12,
    "start_time": "2023-04-10T02:07:42.956Z"
   },
   {
    "duration": 11,
    "start_time": "2023-04-10T02:07:42.970Z"
   },
   {
    "duration": 24,
    "start_time": "2023-04-10T02:07:42.982Z"
   },
   {
    "duration": 17,
    "start_time": "2023-04-10T02:07:43.007Z"
   },
   {
    "duration": 9,
    "start_time": "2023-04-10T02:07:43.025Z"
   },
   {
    "duration": 12,
    "start_time": "2023-04-10T02:07:43.036Z"
   },
   {
    "duration": 9,
    "start_time": "2023-04-10T02:07:43.051Z"
   },
   {
    "duration": 10,
    "start_time": "2023-04-10T02:07:43.062Z"
   },
   {
    "duration": 7,
    "start_time": "2023-04-10T02:07:43.074Z"
   },
   {
    "duration": 10,
    "start_time": "2023-04-10T02:07:43.083Z"
   },
   {
    "duration": 23,
    "start_time": "2023-04-10T02:07:43.095Z"
   },
   {
    "duration": 23,
    "start_time": "2023-04-10T02:07:43.119Z"
   },
   {
    "duration": 9,
    "start_time": "2023-04-10T02:07:43.144Z"
   },
   {
    "duration": 6,
    "start_time": "2023-04-10T02:07:43.155Z"
   },
   {
    "duration": 164,
    "start_time": "2023-04-10T02:07:43.163Z"
   },
   {
    "duration": 109,
    "start_time": "2023-04-10T02:07:43.334Z"
   },
   {
    "duration": 6,
    "start_time": "2023-04-10T02:07:43.445Z"
   },
   {
    "duration": 31,
    "start_time": "2023-04-10T02:07:43.452Z"
   },
   {
    "duration": 29,
    "start_time": "2023-04-10T02:07:43.484Z"
   },
   {
    "duration": 12,
    "start_time": "2023-04-10T02:07:43.514Z"
   },
   {
    "duration": 265,
    "start_time": "2023-04-10T02:07:43.527Z"
   },
   {
    "duration": 194,
    "start_time": "2023-04-10T02:07:43.793Z"
   },
   {
    "duration": 308,
    "start_time": "2023-04-10T02:07:43.989Z"
   },
   {
    "duration": 208,
    "start_time": "2023-04-10T02:07:44.299Z"
   },
   {
    "duration": 359,
    "start_time": "2023-04-10T02:07:44.508Z"
   },
   {
    "duration": 7,
    "start_time": "2023-04-10T02:07:44.869Z"
   },
   {
    "duration": 167,
    "start_time": "2023-04-10T02:07:44.877Z"
   },
   {
    "duration": 5,
    "start_time": "2023-04-10T02:07:45.046Z"
   },
   {
    "duration": 34,
    "start_time": "2023-04-10T02:07:45.053Z"
   },
   {
    "duration": 189,
    "start_time": "2023-04-10T02:07:45.089Z"
   },
   {
    "duration": 299,
    "start_time": "2023-04-10T02:07:45.280Z"
   },
   {
    "duration": 57,
    "start_time": "2023-04-10T02:07:45.581Z"
   },
   {
    "duration": 21,
    "start_time": "2023-04-10T02:07:45.640Z"
   },
   {
    "duration": 6,
    "start_time": "2023-04-10T02:07:45.664Z"
   },
   {
    "duration": 17,
    "start_time": "2023-04-10T02:07:45.672Z"
   },
   {
    "duration": 19,
    "start_time": "2023-04-10T02:07:45.735Z"
   },
   {
    "duration": 27,
    "start_time": "2023-04-10T02:07:45.755Z"
   },
   {
    "duration": 272,
    "start_time": "2023-04-10T02:07:45.784Z"
   },
   {
    "duration": 9,
    "start_time": "2023-04-10T02:07:46.058Z"
   },
   {
    "duration": 13,
    "start_time": "2023-04-10T02:07:46.068Z"
   },
   {
    "duration": 7,
    "start_time": "2023-04-10T02:07:46.135Z"
   },
   {
    "duration": 13,
    "start_time": "2023-04-10T02:07:46.144Z"
   },
   {
    "duration": 79,
    "start_time": "2023-04-10T02:07:46.159Z"
   },
   {
    "duration": 13,
    "start_time": "2023-04-10T02:07:46.239Z"
   },
   {
    "duration": 1310,
    "start_time": "2023-04-24T09:19:39.492Z"
   },
   {
    "duration": 85,
    "start_time": "2023-04-24T09:19:40.804Z"
   },
   {
    "duration": 3,
    "start_time": "2023-04-24T09:19:40.892Z"
   },
   {
    "duration": 14,
    "start_time": "2023-04-24T09:19:40.897Z"
   },
   {
    "duration": 98,
    "start_time": "2023-04-24T09:19:40.912Z"
   },
   {
    "duration": 8,
    "start_time": "2023-04-24T09:19:41.012Z"
   },
   {
    "duration": 5,
    "start_time": "2023-04-24T09:19:41.021Z"
   },
   {
    "duration": 11,
    "start_time": "2023-04-24T09:19:41.027Z"
   },
   {
    "duration": 11,
    "start_time": "2023-04-24T09:19:41.040Z"
   },
   {
    "duration": 5,
    "start_time": "2023-04-24T09:19:41.054Z"
   },
   {
    "duration": 9,
    "start_time": "2023-04-24T09:19:41.061Z"
   },
   {
    "duration": 14,
    "start_time": "2023-04-24T09:19:41.071Z"
   },
   {
    "duration": 4,
    "start_time": "2023-04-24T09:19:41.087Z"
   },
   {
    "duration": 5,
    "start_time": "2023-04-24T09:19:41.093Z"
   },
   {
    "duration": 13,
    "start_time": "2023-04-24T09:19:41.100Z"
   },
   {
    "duration": 55,
    "start_time": "2023-04-24T09:19:41.114Z"
   },
   {
    "duration": 10,
    "start_time": "2023-04-24T09:19:41.171Z"
   },
   {
    "duration": 11,
    "start_time": "2023-04-24T09:19:41.182Z"
   },
   {
    "duration": 4,
    "start_time": "2023-04-24T09:19:41.195Z"
   },
   {
    "duration": 6,
    "start_time": "2023-04-24T09:19:41.201Z"
   },
   {
    "duration": 8,
    "start_time": "2023-04-24T09:19:41.209Z"
   },
   {
    "duration": 6,
    "start_time": "2023-04-24T09:19:41.218Z"
   },
   {
    "duration": 8,
    "start_time": "2023-04-24T09:19:41.226Z"
   },
   {
    "duration": 8,
    "start_time": "2023-04-24T09:19:41.236Z"
   },
   {
    "duration": 40,
    "start_time": "2023-04-24T09:19:41.246Z"
   },
   {
    "duration": 8,
    "start_time": "2023-04-24T09:19:41.288Z"
   },
   {
    "duration": 167,
    "start_time": "2023-04-24T09:19:41.298Z"
   },
   {
    "duration": 125,
    "start_time": "2023-04-24T09:19:41.469Z"
   },
   {
    "duration": 8,
    "start_time": "2023-04-24T09:19:41.596Z"
   },
   {
    "duration": 5,
    "start_time": "2023-04-24T09:19:41.605Z"
   },
   {
    "duration": 5,
    "start_time": "2023-04-24T09:19:41.612Z"
   },
   {
    "duration": 8,
    "start_time": "2023-04-24T09:19:41.618Z"
   },
   {
    "duration": 299,
    "start_time": "2023-04-24T09:19:41.628Z"
   },
   {
    "duration": 217,
    "start_time": "2023-04-24T09:19:41.929Z"
   },
   {
    "duration": 389,
    "start_time": "2023-04-24T09:19:42.148Z"
   },
   {
    "duration": 220,
    "start_time": "2023-04-24T09:19:42.539Z"
   },
   {
    "duration": 341,
    "start_time": "2023-04-24T09:19:42.761Z"
   },
   {
    "duration": 8,
    "start_time": "2023-04-24T09:19:43.104Z"
   },
   {
    "duration": 167,
    "start_time": "2023-04-24T09:19:43.113Z"
   },
   {
    "duration": 7,
    "start_time": "2023-04-24T09:19:43.282Z"
   },
   {
    "duration": 11,
    "start_time": "2023-04-24T09:19:43.291Z"
   },
   {
    "duration": 181,
    "start_time": "2023-04-24T09:19:43.304Z"
   },
   {
    "duration": 162,
    "start_time": "2023-04-24T09:19:43.487Z"
   },
   {
    "duration": 6,
    "start_time": "2023-04-24T09:19:43.651Z"
   },
   {
    "duration": 27,
    "start_time": "2023-04-24T09:19:43.659Z"
   },
   {
    "duration": 7,
    "start_time": "2023-04-24T09:19:43.688Z"
   },
   {
    "duration": 14,
    "start_time": "2023-04-24T09:19:43.697Z"
   },
   {
    "duration": 15,
    "start_time": "2023-04-24T09:19:43.713Z"
   },
   {
    "duration": 11,
    "start_time": "2023-04-24T09:19:43.729Z"
   },
   {
    "duration": 172,
    "start_time": "2023-04-24T09:19:43.742Z"
   },
   {
    "duration": 11,
    "start_time": "2023-04-24T09:19:43.916Z"
   },
   {
    "duration": 9,
    "start_time": "2023-04-24T09:19:43.929Z"
   },
   {
    "duration": 13,
    "start_time": "2023-04-24T09:19:43.940Z"
   },
   {
    "duration": 31,
    "start_time": "2023-04-24T09:19:43.955Z"
   },
   {
    "duration": 29,
    "start_time": "2023-04-24T09:19:43.988Z"
   },
   {
    "duration": 20,
    "start_time": "2023-04-24T09:19:44.019Z"
   }
  ],
  "kernelspec": {
   "display_name": "Python 3 (ipykernel)",
   "language": "python",
   "name": "python3"
  },
  "language_info": {
   "codemirror_mode": {
    "name": "ipython",
    "version": 3
   },
   "file_extension": ".py",
   "mimetype": "text/x-python",
   "name": "python",
   "nbconvert_exporter": "python",
   "pygments_lexer": "ipython3",
   "version": "3.9.13"
  },
  "toc": {
   "base_numbering": 1,
   "nav_menu": {},
   "number_sections": true,
   "sideBar": true,
   "skip_h1_title": true,
   "title_cell": "Table of Contents",
   "title_sidebar": "Contents",
   "toc_cell": false,
   "toc_position": {},
   "toc_section_display": true,
   "toc_window_display": true
  }
 },
 "nbformat": 4,
 "nbformat_minor": 2
}
